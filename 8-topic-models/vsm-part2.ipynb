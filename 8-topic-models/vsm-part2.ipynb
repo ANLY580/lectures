{
 "cells": [
  {
   "cell_type": "code",
   "execution_count": 2,
   "metadata": {
    "slideshow": {
     "slide_type": "skip"
    }
   },
   "outputs": [],
   "source": [
    "from IPython.display import HTML"
   ]
  },
  {
   "cell_type": "markdown",
   "metadata": {
    "slideshow": {
     "slide_type": "slide"
    }
   },
   "source": [
    "*ANYL 580: NLP for Data Analytics*\n",
    "\n",
    "# **Lecture 7: Vector Semantics 2**"
   ]
  },
  {
   "cell_type": "markdown",
   "metadata": {
    "slideshow": {
     "slide_type": "slide"
    }
   },
   "source": [
    "# Topics\n",
    "\n",
    "- Where are we now in our study of NLP?\n",
    "- Vector semantics part 2\n",
    "- Guest Lecturer: Tony Zukas on Topic modeling "
   ]
  },
  {
   "cell_type": "markdown",
   "metadata": {
    "slideshow": {
     "slide_type": "slide"
    }
   },
   "source": [
    "# Where are we now in our study of NLP?\n",
    "\n",
    "- Foundations J&M 1-6\n",
    "- Naive Bayes (Bag-of-Words)\n",
    "- Logistic Regression\n",
    "- Distributed Representations"
   ]
  },
  {
   "cell_type": "markdown",
   "metadata": {
    "slideshow": {
     "slide_type": "notes"
    }
   },
   "source": [
    "- We started with the idea of words as computable objects. We could do a lot very simply with a **bag-of-word model** and the assumption that words are independent of one another. Lexicons were easy to add to ground truth data to boost the performance of the model.\n",
    "\n",
    "- But we saw that some feature were clearly more important than others for particular tasks. If we could somehow weight features, we might be able to boost relevance on our sentiment analysis task. To do this, we moved to **logistic regression**. Logistic regression has other parameters that can be tuned to improve performance, (for example, regularization) but we were also very reliant on ground truth data. You could have found ways to add more to your models.\n",
    "\n",
    "-  In all of this, you learned that there were still phenomena that were difficult to tease out. Unknown words was one. But also syntactic structures and semantic variability.\n",
    "\n",
    "- This week we're beginning to talk about **distributed representations** and tools for asking more fine-grained questions of natural language data. \n",
    "\n",
    "- Starting next week, we will be operating in a different mode where you gain an appreciation of how neural networks and dense representations have recently, radically altered the study of NLP. We'll focus on more complex tasks and you will be learning more about linguistic representations and experiment with APIs that will enable you to ask more complex questions of data."
   ]
  },
  {
   "cell_type": "markdown",
   "metadata": {
    "slideshow": {
     "slide_type": "slide"
    }
   },
   "source": [
    "# Pipelines\n",
    "\n",
    "![](../images/pipeline.png)"
   ]
  },
  {
   "cell_type": "markdown",
   "metadata": {
    "slideshow": {
     "slide_type": "notes"
    }
   },
   "source": [
    "From: Applied Text Analysis with Python by Benjamin Bengfort, Rebecca Bilbro & Tony Ojeda\n",
    "\n",
    "- Last week we talked a bit about **pipelines and ensemble models** to integrate data transformers into arbitrarily branching paths. Pipeline objects are Scikit-Learn specific, but they allow for integration points with NLTK and Gensim. The final transformer is an estimator for the prediction task.\n",
    "\n",
    "- By using pipelines we could use different vectorizers and this helps us solve another problem. While we can vectorize in a variety of ways (simple frequency, one-hot, etc.), we looked closely at **tf-idf** as a means for weighting important words. These were words common to similar documents but not others. \n"
   ]
  },
  {
   "cell_type": "markdown",
   "metadata": {
    "slideshow": {
     "slide_type": "slide"
    }
   },
   "source": [
    "![](../images/one-star-reviews.png)"
   ]
  },
  {
   "cell_type": "markdown",
   "metadata": {
    "slideshow": {
     "slide_type": "notes"
    }
   },
   "source": [
    "- But tf-idf fails us in some tasks -- we looked at a couple of examples from Monroe et al. on partisan language (Democrats versus Republicans on common issues) and saw that we needed a more fine-grained way to understand language use that was \"important\" for framing narratives. \n",
    "- Thus, we talked about **weighted log odds** as a means to \"tune\" (like a radio frequency) vectors. The goal was to *know the extent to which a word is used differently across two bodies of text*. This table is from,  [narrative framing of consumer sentiment in online restaurant reviews by Jurafsky, Chahuneau, Routledge, and Smith 2014](https://firstmonday.org/ojs/index.php/fm/article/view/4944/3863). \n",
    "- TF-IDF could not help with the question \"How do reviewers express fine–grained differences in sentiment beyond just positive or negative?\" and weighted log odds was a better tool for this."
   ]
  },
  {
   "cell_type": "code",
   "execution_count": 29,
   "metadata": {
    "slideshow": {
     "slide_type": "slide"
    }
   },
   "outputs": [
    {
     "data": {
      "text/plain": [
       "[('brown', -0.11159788992602564),\n",
       " ('donkey', -0.11159788992602564),\n",
       " ('fox', -0.11159788992602564),\n",
       " ('lazier', -0.11159788992602564),\n",
       " ('purple', -0.11159788992602564),\n",
       " ('quick', -0.11159788992602564),\n",
       " ('jumps', 0.04795579532980462),\n",
       " ('lazy', 0.04795579532980462),\n",
       " ('over', 0.04795579532980462),\n",
       " ('pig', 0.04795579532980462),\n",
       " ('the', 0.22827369129510436)]"
      ]
     },
     "execution_count": 29,
     "metadata": {},
     "output_type": "execute_result"
    }
   ],
   "source": [
    "# https://github.com/kenlimmj/fightin-words/blob/master/fightin-words/fightin-words.py\n",
    "# sourced at bottom of this file\n",
    "\n",
    "# Strings/text corpora to be compared\n",
    "l1 = 'The quick brown fox jumps over the lazy pig'\n",
    "l2 = 'The lazy purple pig jumps over the lazier donkey'\n",
    "\n",
    "# Extractor configuration parameters\n",
    "prior = 0.05\n",
    "cv = sk_text.CountVectorizer(max_features=15000)\n",
    "\n",
    "FWExtractor(prior, cv).fit_transform([l1, l2])"
   ]
  },
  {
   "cell_type": "markdown",
   "metadata": {
    "slideshow": {
     "slide_type": "notes"
    }
   },
   "source": [
    " [GitHub - kenlimmj/fightin-words: A scikit-learn compliant implementation of Monroe et al.'s Fightin' Words analysis method.](https://github.com/kenlimmj/fightin-words) \n",
    "\n",
    "*Thus, moving from a frequency or tf-idf-based vectorizer, we can incorporate and reflect other weightings in order to draw out different aspects of meaning.*\n",
    "\n",
    "From [jmhessel](https://github.com/jmhessel/FightingWords):\n",
    "\n",
    "- Say you have two groups of people talking, and you'd like to know which side is saying what. There are two problems that you might encounter when attempting this comparison:\n",
    "\n",
    " - You have a disproportionate number of language samples from one side, so methods based on **raw counts are not going to work**.\n",
    " - **One side uses words that the other side doesn't**, and it's not clear whether this occurs because the word is actually used more by one side, or because the word just happens to be rare.\n",
    "\n",
    "- Monroe et al. solve the first problem by examining the usage rates of each word/n-gram, rather than the raw counts. They solve the second problem by introducing a smoothing Dirichlet prior on vocabulary items. These two solutions are unified under a single, simple framework."
   ]
  },
  {
   "cell_type": "markdown",
   "metadata": {
    "slideshow": {
     "slide_type": "slide"
    }
   },
   "source": [
    "![](../images/distributional-hypotheses.png)"
   ]
  },
  {
   "cell_type": "markdown",
   "metadata": {
    "slideshow": {
     "slide_type": "notes"
    }
   },
   "source": [
    "- Section 2 then went on to talk about similarity and what this meant. We left off at the idea that everything we have been talking has revolved around similarity. \n",
    "- This is a powerful concept since language is constantly evolving and our vocabularies are never complete, nor is there an objective way to understand the meaning of a word. \n",
    "- In fact, we know from linguistic theory **the meaning of a word is always contextual**. You cannot know meaning with out context. \n",
    "- From Turney and Pantel above - **\"If units of text have similar vectors in a text frequency matrix, then they tend to have similar meanings.\"**\n"
   ]
  },
  {
   "cell_type": "markdown",
   "metadata": {
    "slideshow": {
     "slide_type": "slide"
    }
   },
   "source": [
    "# Distributed Word Representations\n",
    "![](../images/word-doc.png)"
   ]
  },
  {
   "cell_type": "markdown",
   "metadata": {
    "slideshow": {
     "slide_type": "notes"
    }
   },
   "source": [
    "- This section draws from Chris Pott's notes: https://web.stanford.edu/class/linguist236/materials/ling236-handout-05-09-vsm.pdf. \n",
    "\n",
    "- The corpus are IMDB reviews.\n",
    "- In all of this we've been using word vectors for the representation of meaning, though primarily at the document level as bag-of-words.\n",
    "- Let's take a look at a document term matrix. Here rows are labeled with words and columns are labeled with document indices (bag-of-words representations). Cell values are frequency counts.\n",
    "- Note this matrix is very sparse - this can be a computational advantage but has other disadvantages.\n",
    "- The idea in an IR task is to rank documents (columns) according to their values for a given query (set of rows).\n",
    "\n",
    "For a word x document matrix:\n",
    "- How do the rows relate to each other\n",
    "- How do the columns relate to each other\n",
    "- For a given group of documents D, which word epitomize D?\n",
    "- For a given group of words W, which documents epitomize W (IR)?"
   ]
  },
  {
   "cell_type": "markdown",
   "metadata": {
    "slideshow": {
     "slide_type": "slide"
    }
   },
   "source": [
    "![](../images/distributional-vector-semantics2.png)"
   ]
  },
  {
   "cell_type": "markdown",
   "metadata": {
    "slideshow": {
     "slide_type": "notes"
    }
   },
   "source": [
    "- Note, that both documents and terms can be vectors. \n",
    "- By using the idea of distributional vector semantics we can perform a variety of tasks\n"
   ]
  },
  {
   "cell_type": "markdown",
   "metadata": {
    "slideshow": {
     "slide_type": "slide"
    }
   },
   "source": [
    "# Word x Word matrix\n",
    "![](../images/word-word.png)"
   ]
  },
  {
   "cell_type": "markdown",
   "metadata": {
    "slideshow": {
     "slide_type": "notes"
    }
   },
   "source": [
    "This dense matrix is derivable from the word-document matrix. Implicit here is co-occuring context.  For example *ain't* and *against* occur 15 times in the corpus.\n",
    "\n",
    "- This matrix is particularly dense since IMDB reviews are pretty long.\n",
    "- We could also constrain co-occurence to the same sentence, paragraph, etc. We're not limited to the entire document. You can also arbitrarily do this on some number of words such as 5000 x 5000 words."
   ]
  },
  {
   "cell_type": "markdown",
   "metadata": {
    "slideshow": {
     "slide_type": "slide"
    }
   },
   "source": [
    "![](../images/term-context.png)"
   ]
  },
  {
   "cell_type": "markdown",
   "metadata": {
    "slideshow": {
     "slide_type": "slide"
    }
   },
   "source": [
    "# Other Possible Matrix Patterns\n",
    "* word × search query \n",
    "* word × syntactic context \n",
    "* pair × pattern (e.g., *mason*: *stone*, *cuts*) \n",
    "* adj. × modified noun \n",
    "* word × dependency rel. \n",
    "* person × product (think about this from an advertising perspective)\n",
    "* word × person \n",
    "* word × word × pattern \n",
    "* verb × subject × object \n",
    "* . . . "
   ]
  },
  {
   "cell_type": "markdown",
   "metadata": {
    "slideshow": {
     "slide_type": "slide"
    }
   },
   "source": [
    "# Matrix Design Choices\n",
    "![](../images/matrix-design-choices.png)"
   ]
  },
  {
   "cell_type": "markdown",
   "metadata": {
    "slideshow": {
     "slide_type": "notes"
    }
   },
   "source": [
    " \n",
    " This can seem overwhelming.\n",
    " https://web.stanford.edu/class/linguist236/materials/ling236-handout-05-09-vsm.pdf\n",
    "    \n",
    "- We've already seen the importance of tokenization, feature selection and labeled data in terms of importance in a matrix design. \n",
    "- You have many more choices for matrices. \n",
    " - You could decide to treat as a document, all of the tweets from a single person.\n",
    " - You could use re-weighting to amplify certain characteristics is an important aspect of design\n",
    " - You could use dimensionality reduction to further refine the matrix. Word2vec (and Glove) combines both weighting and dimensionality reduction and we'll look briefly at that.\n",
    " - Finally, there are many options for vector comparisons."
   ]
  },
  {
   "cell_type": "markdown",
   "metadata": {
    "slideshow": {
     "slide_type": "slide"
    }
   },
   "source": [
    "# Vector Comparision Example\n",
    "![](../images/vector-comparison-example.png)"
   ]
  },
  {
   "cell_type": "markdown",
   "metadata": {
    "slideshow": {
     "slide_type": "notes"
    }
   },
   "source": [
    " Semantically related words should be closer together and semantically unrelated words should be farther apart. We'll use this concept for guiding the development of representations.\n",
    "- In this small example, there are three words (A, B, C) and two documents.\n",
    "\t- Document x is along the x axis\n",
    "\t- Document y is along the y axis\n",
    "- The intuition we hope to capture is that words A & B have similar distributions. We think they should be close together.\n",
    "- In this example, imagine that words A & B have similar distributions. \n",
    "\t- Maybe A is a positive but low frequency word\n",
    "\t- Maybe B is a positive, high frequency word like good\n",
    "\t- Maybe $d_y$ is a positive movie review and $d_x$ is more ambivalent.\n",
    "\t- Maybe word c is a word like disappointing with a bias to a more negative review like $d_x$"
   ]
  },
  {
   "cell_type": "markdown",
   "metadata": {
    "slideshow": {
     "slide_type": "slide"
    }
   },
   "source": [
    "![](../images/cosine.png)"
   ]
  },
  {
   "cell_type": "markdown",
   "metadata": {
    "slideshow": {
     "slide_type": "notes"
    }
   },
   "source": [
    "http://web.stanford.edu/class/cs224u/materials/cs224u-vsm-veccompare.pdf\n",
    "\n",
    "https://nbviewer.jupyter.org/github/cgpotts/cs224u/blob/spring-2019/vsm_01_distributional.ipynb\n",
    "\n",
    "The value in the denominator is the normalized distance, or length of the two vectors\n",
    "- $u_i$ is word u in context i and $v_i$ is word v in context i\n",
    "- The numerator is the dot product.\n",
    "- We subtract the quotient from 1 to get a rough distance calculation\n",
    "For similarity we actually measuring the angles. "
   ]
  },
  {
   "cell_type": "markdown",
   "metadata": {
    "slideshow": {
     "slide_type": "slide"
    }
   },
   "source": [
    "# Other similarity (comparison) methods\n",
    "- Manhattan distance\n",
    "- Matching coefficient\n",
    "- Dice coefficient\n",
    "- Jaccard coefficient\n",
    "- Probabilistic methods\n",
    "- ..."
   ]
  },
  {
   "cell_type": "markdown",
   "metadata": {
    "slideshow": {
     "slide_type": "slide"
    }
   },
   "source": [
    "# Matrix Re-weighting\n",
    "Amplify the important, trustworthy, and unusual; deemphasize the distracting, mundane, quirky, or mistakes\n",
    "- The intuition is that we want to move away from raw counts\n",
    "- For weighting schemes, assess:\n",
    "- How do they compare to raw count values?\n",
    "- How does it compare  to word frequencies?\n",
    "- What is the overall distribution of values\n",
    "- We should prefer not to do feature selection the basis of counts, stop words, etc."
   ]
  },
  {
   "cell_type": "markdown",
   "metadata": {
    "slideshow": {
     "slide_type": "slide"
    }
   },
   "source": [
    "# Weighting / Normalization schemes\n",
    "- TF-IDF variants\n",
    "- Pairwise distance measures  (e.g., PPMI)\n",
    "- Recall... these are **sparse representations**"
   ]
  },
  {
   "cell_type": "markdown",
   "metadata": {
    "slideshow": {
     "slide_type": "notes"
    }
   },
   "source": [
    "- For other TF-IDF variants, see Manning and Schuetze’s textbook Foundations of Statistical  Natural Language Processing, p. 553)\n",
    "- *long**(length |V|= 20,000 to 50,000)\n",
    "- **sparse**(most elements are zero) "
   ]
  },
  {
   "cell_type": "markdown",
   "metadata": {
    "slideshow": {
     "slide_type": "slide"
    }
   },
   "source": [
    " Shorter vectors may be easier to use as features in ML (fewer weights to tune)\n",
    "- Dense vectors may generalize better that storing explicit counts\n",
    "- They may do better at capturing similarity such as synonymy \n",
    "- They tend to work well for NLP!\n",
    "- Three downloadable dense embeddings:\n",
    "\t- Word2vec (Mikolov et. al.[Google Code Archive - Long-term storage for Google Code Project Hosting.](https://code.google.com/archive/p/word2vec/)\n",
    "\t- Fasttext (from Facebook) - ([fastText](http://www.fasttext.cc/)\n",
    "\t- Glove (Pennington, Socher, Manning) - [GloVe: Global Vectors for Word Representation](https://nlp.stanford.edu/projects/glove/)"
   ]
  },
  {
   "cell_type": "markdown",
   "metadata": {
    "slideshow": {
     "slide_type": "slide"
    }
   },
   "source": [
    "# Word2vec\n",
    "Instead of counting how often two words co-occur,\n",
    "- Train a classifier on a binary prediction task: is w likely to be near y?\n",
    "- We take the learned classifier weights as embeddings\n",
    "- This is amazing since we now have \"gold\" answers to these questions ... no labeled data needed!\n",
    " - Insights from Bengio et al. (2003) and Collobert et al. (2011)"
   ]
  },
  {
   "cell_type": "markdown",
   "metadata": {
    "slideshow": {
     "slide_type": "slide"
    }
   },
   "source": [
    "![](../images/word2vec2.png)"
   ]
  },
  {
   "cell_type": "markdown",
   "metadata": {
    "slideshow": {
     "slide_type": "notes"
    }
   },
   "source": [
    "This example is from Rozado (2019) Using Word Embeddings to Analyze how Universities Conceptualize “Diversity” in their Online Institutional Presence\n",
    "\n",
    "- Note that we're gaining more than simply informationed encoded lexically: vector space models *can encode semantic and syntactic meaning based on word use in the corpus from which the word embedding model was trained*. \n",
    "\n",
    "- This 2D visualization makes it possible to visualize word relationships more easily."
   ]
  },
  {
   "cell_type": "markdown",
   "metadata": {
    "slideshow": {
     "slide_type": "slide"
    }
   },
   "source": [
    "# Word2vec with skipgrams (sgns)\n",
    "1. Treat the target word and a neighboring context word as positive examples. \n",
    "2. Randomly sample other words in the lexicon to get negative samples \n",
    "3. Use logistic regression to train a classifier to distinguish those two cases \n",
    "4. Use the weights as the embeddings "
   ]
  },
  {
   "cell_type": "markdown",
   "metadata": {
    "slideshow": {
     "slide_type": "slide"
    }
   },
   "source": [
    "![](../images/skip-gram.png)"
   ]
  },
  {
   "cell_type": "markdown",
   "metadata": {
    "slideshow": {
     "slide_type": "notes"
    }
   },
   "source": [
    "For each positive example, we create k negative examples using noise words that are not t.\n",
    "\n",
    "Then we train a logistic regression classifier iterative over the training set! To evaluate these -- use human scores from similarity-type tasks such as the SimLex task mentioned last week."
   ]
  },
  {
   "cell_type": "markdown",
   "metadata": {
    "slideshow": {
     "slide_type": "slide"
    }
   },
   "source": [
    "![](../images/skip-gram-goal.png)"
   ]
  },
  {
   "cell_type": "markdown",
   "metadata": {
    "slideshow": {
     "slide_type": "notes"
    }
   },
   "source": [
    "- similarity depends on the window size c\n",
    "- C = ±2 The nearest words to *Hogwarts:* are *Sunnydale*, *Evernight*\n",
    "- C = ±5 The nearest words to *Hogwarts:* are *Dumbledore*, *Malfoy*, *halfblood*"
   ]
  },
  {
   "cell_type": "markdown",
   "metadata": {
    "slideshow": {
     "slide_type": "slide"
    }
   },
   "source": [
    "![](../images/word2vec-ex1.png)"
   ]
  },
  {
   "cell_type": "markdown",
   "metadata": {
    "slideshow": {
     "slide_type": "slide"
    }
   },
   "source": [
    "![](../images/word2vec-ex2.png)"
   ]
  },
  {
   "cell_type": "markdown",
   "metadata": {
    "slideshow": {
     "slide_type": "slide"
    }
   },
   "source": [
    "# NAACL 2019 Tutorial on measuring and modeling change\n",
    "![](../images/lang-change1.png)\n",
    "![](../images/lang-change2.png)\n",
    "![](../images/lang-change3.png)"
   ]
  },
  {
   "cell_type": "markdown",
   "metadata": {
    "slideshow": {
     "slide_type": "notes"
    }
   },
   "source": [
    "From the [2019 NAACL tutorial on Measuring and Modeling Language Change (Jacob Eisenstein)](https://github.com/jacobeisenstein/language-change-tutorial/blob/master/eisenstein-naacl-slides.pdf)\n",
    "\n",
    "\n",
    "- Note... we have been focused on doing predictive tasks with text. These examples are focused around **explanation**.  NLP is used to operationalize variables of interest."
   ]
  },
  {
   "cell_type": "markdown",
   "metadata": {
    "slideshow": {
     "slide_type": "slide"
    }
   },
   "source": [
    "# Dimensionality Reduction & Topic Modeling"
   ]
  },
  {
   "cell_type": "code",
   "execution_count": 28,
   "metadata": {},
   "outputs": [],
   "source": [
    "from __future__ import absolute_import\n",
    "from __future__ import division\n",
    "from __future__ import print_function\n",
    "from __future__ import unicode_literals\n",
    "from typing import List, Union, Optional, Sequence\n",
    "\n",
    "import numpy as np\n",
    "import sklearn.base as sk_base\n",
    "import sklearn.feature_extraction.text as sk_text\n",
    "\n",
    "__version__ = '1.0.5'\n",
    "\n",
    "class FWExtractor(sk_base.BaseEstimator, sk_base.TransformerMixin):\n",
    "    \"\"\"Compute Monroe et. al's [Monroe2008] fightin' words result.\n",
    "    Largely derived from Jack Hessel's original implementation [Hessel2015]\n",
    "    but modified to be compliant with scikit-learn conventions (for use in\n",
    "    pipelines, etc.). Also some small technical improvements.\n",
    "    Parameters\n",
    "    ----------\n",
    "    prior: float or list, default=0.01\n",
    "        Starting Dirichlet prior that is smoothed over the input. If a float is\n",
    "        provided, a uniform distribution is created over the vocabulary\n",
    "        extracted from the corpora. If a list is provided, it is assumed that\n",
    "        the user will _also_ be passing in their own count vectorizer, and that\n",
    "        the dimensionality of both items match each other.\n",
    "    cv: sklearn.feature_extraction.text.CountVectorizer or\n",
    "        sklearn.feature_extraction.text.TfidfVectorizer or None, optional\n",
    "        The vectorizer used to construct the word-occurrence frequency\n",
    "        dictionary. If not specified, uses the default parameters for a naive\n",
    "        implementation of scikit-learn's `CountVectorizer`.\n",
    "    References\n",
    "    ----------\n",
    "    .. [Monroe2008] `Monroe, B. L., Colaresi, M. P., & Quinn, K. M. (2008).\n",
    "                     Fightin'words: Lexical feature selection and evaluation\n",
    "                     for identifying the content of political conflict.\n",
    "                     Political Analysis, 16(4), 372-403.`\n",
    "    .. [Hessel2015] `https://github.com/jmhessel/FightingWords`\n",
    "    \"\"\"\n",
    "\n",
    "    def __init__(self, prior=0.01, cv=None):\n",
    "        # type: (Union[float, List[float]], Optional[sk_text.CountVectorizer, sk_text.TfidfVectorizer]) -> None\n",
    "\n",
    "        if cv is None:\n",
    "            # Use the default scikit-learn vectorizer with sane defaults\n",
    "            self.cv = sk_text.CountVectorizer(decode_error='ignore', max_features=15000)\n",
    "        elif not (isinstance(cv, sk_text.CountVectorizer) or isinstance(cv, sk_text.TfidfVectorizer)):\n",
    "            raise TypeError(cv, 'Expected a scikit-learn CountVectorizer or TfidfVectorizer')\n",
    "        else:\n",
    "            self.cv = cv\n",
    "\n",
    "        if not (isinstance(prior, list) or isinstance(prior, float)):\n",
    "            raise TypeError(prior, 'Expected either a list or a float')\n",
    "        else:\n",
    "            self.prior = prior\n",
    "\n",
    "    def fit(self, X, y=None, **params):\n",
    "        \"\"\"Unused\"\"\"\n",
    "        return self\n",
    "\n",
    "    def transform(self, X, **params):\n",
    "        \"\"\"Perform a comparison between two corpora, and compute/rank the z-scores for word tokens\n",
    "        Parameters\n",
    "        ----------\n",
    "        X: list, [str, str]\n",
    "            Pair of text corpora to be compared.\n",
    "        \"\"\"\n",
    "        # type Sequence[str, str] -> List[Sequence[str, float]]\n",
    "\n",
    "        # Compute Bag-of-words Model.\n",
    "        counts = self.cv.fit_transform([' '.join(X)]).toarray()\n",
    "        vocab_size = len(self.cv.vocabulary_)\n",
    "\n",
    "        # Create a reverse-LUT to remap the vocabulary to human-readable words.\n",
    "        index_to_term = {v: k for k, v in self.cv.vocabulary_.items()}\n",
    "\n",
    "        if isinstance(self.prior, float):\n",
    "            # Generate uniform prior distribution\n",
    "            self.priors = [self.prior for i in range(vocab_size)]\n",
    "        else:\n",
    "            # Guaranteed to be dealing with a list in this block because the\n",
    "            # class constructor would have caught bad types at initialization.\n",
    "            if (len(self.prior) == vocab_size):\n",
    "                self.priors = self.prior\n",
    "            else:\n",
    "                raise AssertionError(self.prior, 'Number of priors must match vocabulary size')\n",
    "\n",
    "        z_scores = np.empty(np.array(self.priors).shape[0])\n",
    "        count_matrix = np.empty([2, vocab_size], dtype=np.float32)\n",
    "\n",
    "        count_matrix[0, :] = np.sum(counts[:len(X[0]), :], axis=0)\n",
    "        count_matrix[1, :] = np.sum(counts[len(X[0]):, :], axis=0)\n",
    "\n",
    "        a0 = np.sum(self.priors)\n",
    "\n",
    "        n1 = np.sum(count_matrix[0, :], dtype=np.float32)\n",
    "        n2 = np.sum(count_matrix[1, :], dtype=np.float32)\n",
    "\n",
    "        for i in range(vocab_size):\n",
    "            # Compute delta.\n",
    "            term1 = np.log((count_matrix[0, i] + self.priors[i]) / (n1 + a0 - count_matrix[0, i] - self.priors[i]))\n",
    "            term2 = np.log((count_matrix[1, i] + self.priors[i]) / (n2 + a0 - count_matrix[1, i] - self.priors[i]))\n",
    "            delta = term1 - term2\n",
    "\n",
    "            # Compute variance and standardize the z-score.\n",
    "            var = 1 / (count_matrix[0, i] + self.priors[i]) + 1 / (count_matrix[1, i] + self.priors[i])\n",
    "            z_scores[i] = delta / np.sqrt(var)\n",
    "\n",
    "        # Return the results in descending order.\n",
    "        return [(index_to_term[i], z_scores[i]) for i in np.argsort(z_scores)]"
   ]
  }
 ],
 "metadata": {
  "celltoolbar": "Slideshow",
  "file_extension": ".py",
  "jupytext": {
   "comment_magics": false,
   "encoding": "# -*- coding: utf-8 -*-",
   "formats": "ipynb,md"
  },
  "kernelspec": {
   "display_name": "Python 3",
   "language": "python",
   "name": "python3"
  },
  "language_info": {
   "codemirror_mode": {
    "name": "ipython",
    "version": 3
   },
   "file_extension": ".py",
   "mimetype": "text/x-python",
   "name": "python",
   "nbconvert_exporter": "python",
   "pygments_lexer": "ipython3",
   "version": "3.7.4"
  },
  "mimetype": "text/x-python",
  "name": "python",
  "npconvert_exporter": "python",
  "pygments_lexer": "ipython3",
  "toc": {
   "base_numbering": 1,
   "nav_menu": {},
   "number_sections": true,
   "sideBar": true,
   "skip_h1_title": false,
   "title_cell": "Table of Contents",
   "title_sidebar": "Contents",
   "toc_cell": false,
   "toc_position": {
    "height": "calc(100% - 180px)",
    "left": "10px",
    "top": "150px",
    "width": "202px"
   },
   "toc_section_display": true,
   "toc_window_display": true
  },
  "version": 3
 },
 "nbformat": 4,
 "nbformat_minor": 2
}
