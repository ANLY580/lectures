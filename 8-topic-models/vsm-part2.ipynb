{
 "cells": [
  {
   "cell_type": "code",
   "execution_count": 2,
   "metadata": {
    "slideshow": {
     "slide_type": "skip"
    }
   },
   "outputs": [],
   "source": [
    "from IPython.display import HTML"
   ]
  },
  {
   "cell_type": "markdown",
   "metadata": {
    "slideshow": {
     "slide_type": "slide"
    }
   },
   "source": [
    "*ANYL 580: NLP for Data Analytics*\n",
    "\n",
    "# **Lecture 7: Vector Semantics 2**"
   ]
  },
  {
   "cell_type": "markdown",
   "metadata": {
    "slideshow": {
     "slide_type": "slide"
    }
   },
   "source": [
    "# Topics\n",
    "\n",
    "- Where are we now in our study of NLP?\n",
    "- Vector semantics part 2\n",
    "- Guest Lecturer: Tony Zukas on Topic modeling "
   ]
  },
  {
   "cell_type": "markdown",
   "metadata": {
    "slideshow": {
     "slide_type": "slide"
    }
   },
   "source": [
    "## Where are we now in our study of NLP?\n",
    "\n",
    "- Foundations J&M 1-6\n",
    "- Naive Bayes (Bag-of-Words)\n",
    "- Logistic Regression\n",
    "- Distributed Representations"
   ]
  },
  {
   "cell_type": "markdown",
   "metadata": {
    "slideshow": {
     "slide_type": "notes"
    }
   },
   "source": [
    "- We started with the idea of words as computable objects. We could do a lot very simply with a **bag-of-word model** and the assumption that words are independent of one another. Lexicons were easy to add to ground truth data to boost the performance of the model.\n",
    "\n",
    "- But we saw that some feature were clearly more important than others for particular tasks. If we could somehow weight features, we might be able to boost relevance on our sentiment analysis task. To do this, we moved to **logistic regression**. Logistic regression has other parameters that can be tuned to improve performance, (for example, regularization) but we were also very reliant on ground truth data. You could have found ways to add more to your models.\n",
    "\n",
    "-  In all of this, you learned that there were still phenomena that were difficult to tease out. Unknown words was one. \n",
    "\n",
    "- We're now talking about **distributed representations** and tools for asking more fine-grained questions of natural language data. \n",
    "\n",
    "- Starting next week, we will be operating in a different mode where you gain an appreciation of how neural networks and dense representations have recently, radically altered the study of NLP. We'll focus on more complex tasks and you will be learning more about linguistic representations and experiment with APIs that will enable you to ask more complex questions of data."
   ]
  },
  {
   "cell_type": "markdown",
   "metadata": {
    "slideshow": {
     "slide_type": "slide"
    }
   },
   "source": [
    "# Feature Unions\n",
    "\n",
    "![](../images/feature-unions.png)"
   ]
  },
  {
   "cell_type": "markdown",
   "metadata": {
    "slideshow": {
     "slide_type": "notes"
    }
   },
   "source": [
    "From: Applied Text Analysis with Python by Benjamin Bengfort, Rebecca Bilbro & Tony Ojeda\n",
    "\n",
    "- Last week we talked a bit about **pipelines and ensemble models** to integrate data transformers into arbitrarily branching paths. Pipeline objects are Scikit-Learn specific, but they allow for integration points with NLTK and Gensim. The final transformer is an estimator for the prediction task.\n",
    "\n",
    "- By using pipelines we could use different vectorizers and this helps us solve another problem. While we can vectorize in a variety of ways (simple frequency, one-hot, etc.), we looked closely at **tf-idf** as a means for weighting important words. These were words common to similar documents but not others. \n"
   ]
  },
  {
   "cell_type": "markdown",
   "metadata": {
    "slideshow": {
     "slide_type": "slide"
    }
   },
   "source": [
    "![](../images/one-star-reviews.png)"
   ]
  },
  {
   "cell_type": "markdown",
   "metadata": {
    "slideshow": {
     "slide_type": "notes"
    }
   },
   "source": [
    "- But tf-idf fails us in some tasks -- we looked at a couple of examples from Monroe et al. on partisan language (Democrats versus Republicans on common issues) and saw that we needed a more fine-grained way to understand language use that was \"important\" for framing narratives. \n",
    "- Thus, we talked about **weighted log odds** as a means to \"tune\" (like a radio frequency) vectors. The goal was to *know the extent to which a word is used differently across two bodies of text*. This table is from,  [narrative framing of consumer sentiment in online restaurant reviews by Jurafsky, Chahuneau, Routledge, and Smith 2014](https://firstmonday.org/ojs/index.php/fm/article/view/4944/3863). \n",
    "- TF-IDF could not help with the question \"How do reviewers express fine–grained differences in sentiment beyond just positive or negative?\" and weighted log odds was a better tool for this."
   ]
  },
  {
   "cell_type": "code",
   "execution_count": 12,
   "metadata": {
    "slideshow": {
     "slide_type": "slide"
    }
   },
   "outputs": [
    {
     "ename": "AttributeError",
     "evalue": "module 'fightin-words' has no attribute 'FWExtractor'",
     "output_type": "error",
     "traceback": [
      "\u001b[0;31m---------------------------------------------------------------------------\u001b[0m",
      "\u001b[0;31mAttributeError\u001b[0m                            Traceback (most recent call last)",
      "\u001b[0;32m<ipython-input-12-2a0be5f4e068>\u001b[0m in \u001b[0;36m<module>\u001b[0;34m\u001b[0m\n\u001b[1;32m     12\u001b[0m \u001b[0mcv\u001b[0m \u001b[0;34m=\u001b[0m \u001b[0msk_text\u001b[0m\u001b[0;34m.\u001b[0m\u001b[0mCountVectorizer\u001b[0m\u001b[0;34m(\u001b[0m\u001b[0mmax_features\u001b[0m\u001b[0;34m=\u001b[0m\u001b[0;36m15000\u001b[0m\u001b[0;34m)\u001b[0m\u001b[0;34m\u001b[0m\u001b[0;34m\u001b[0m\u001b[0m\n\u001b[1;32m     13\u001b[0m \u001b[0;34m\u001b[0m\u001b[0m\n\u001b[0;32m---> 14\u001b[0;31m \u001b[0mfw\u001b[0m\u001b[0;34m.\u001b[0m\u001b[0mFWExtractor\u001b[0m\u001b[0;34m(\u001b[0m\u001b[0mprior\u001b[0m\u001b[0;34m,\u001b[0m \u001b[0mcv\u001b[0m\u001b[0;34m)\u001b[0m\u001b[0;34m.\u001b[0m\u001b[0mfit_transform\u001b[0m\u001b[0;34m(\u001b[0m\u001b[0;34m[\u001b[0m\u001b[0ml1\u001b[0m\u001b[0;34m,\u001b[0m \u001b[0ml2\u001b[0m\u001b[0;34m]\u001b[0m\u001b[0;34m)\u001b[0m\u001b[0;34m\u001b[0m\u001b[0;34m\u001b[0m\u001b[0m\n\u001b[0m",
      "\u001b[0;31mAttributeError\u001b[0m: module 'fightin-words' has no attribute 'FWExtractor'"
     ]
    }
   ],
   "source": [
    "# !pip install fightin-words\n",
    "\n",
    "fw = __import__('fightin-words')\n",
    "import sklearn.feature_extraction.text as sk_text\n",
    "\n",
    "# Strings/text corpora to be compared\n",
    "l1 = 'The quick brown fox jumps over the lazy pig'\n",
    "l2 = 'The lazy purple pig jumps over the lazier donkey'\n",
    "\n",
    "# Extractor configuration parameters\n",
    "prior = 0.05\n",
    "cv = sk_text.CountVectorizer(max_features=15000)\n",
    "\n",
    "fw.FWExtractor(prior, cv).fit_transform([l1, l2])"
   ]
  },
  {
   "cell_type": "markdown",
   "metadata": {
    "slideshow": {
     "slide_type": "notes"
    }
   },
   "source": [
    " [GitHub - kenlimmj/fightin-words: A scikit-learn compliant implementation of Monroe et al.'s Fightin' Words analysis method.](https://github.com/kenlimmj/fightin-words) \n",
    "\n",
    "*Thus, moving from a frequency or tf-idf-based vectorizer, we can incorporate and reflect other weightings in order to draw out different aspects of meaning.*\n",
    "\n",
    "From [jmhessel](https://github.com/jmhessel/FightingWords):\n",
    "\n",
    "- Say you have two groups of people talking, and you'd like to know which side is saying what. There are two problems that you might encounter when attempting this comparison:\n",
    "\n",
    " - You have a disproportionate number of language samples from one side, so methods based on **raw counts are not going to work**.\n",
    " - **One side uses words that the other side doesn't**, and it's not clear whether this occurs because the word is actually used more by one side, or because the word just happens to be rare.\n",
    "\n",
    "- Monroe et al. solve the first problem by examining the usage rates of each word/n-gram, rather than the raw counts. They solve the second problem by introducing a smoothing Dirichlet prior on vocabulary items. These two solutions are unified under a single, simple framework."
   ]
  },
  {
   "cell_type": "markdown",
   "metadata": {
    "slideshow": {
     "slide_type": "slide"
    }
   },
   "source": [
    "![](../images/distributional-hypotheses.png)"
   ]
  },
  {
   "cell_type": "markdown",
   "metadata": {
    "slideshow": {
     "slide_type": "notes"
    }
   },
   "source": [
    "- Section 2 then went on to talk about similarity and what this meant. We left off at the idea that everything we have been talking has revolved around similarity. \n",
    "- This is a powerful concept since language is constantly evolving and our vocabularies are never complete, nor is there an objective way to understand the meaning of a word. \n",
    "- In fact, we know from linguistic theory **the meaning of a word is always contextual**. You cannot know meaning with out context. \n",
    "- From Turney and Pantel above - **\"If units of text have similar vectors in a text frequency matrix, then they tend to have similar meanings.\"**\n"
   ]
  },
  {
   "cell_type": "markdown",
   "metadata": {
    "slideshow": {
     "slide_type": "slide"
    }
   },
   "source": [
    "## Distributed Word Representations\n",
    "![](../images/word-doc.png)"
   ]
  },
  {
   "cell_type": "markdown",
   "metadata": {
    "slideshow": {
     "slide_type": "notes"
    }
   },
   "source": [
    "- This section draws from Chris Pott's notes: https://web.stanford.edu/class/linguist236/materials/ling236-handout-05-09-vsm.pdf. \n",
    "\n",
    "- The corpus are IMDB reviews.\n",
    "- In all of this we've been using word vectors for the representation of meaning, though primarily at the document level as bag-of-words.\n",
    "- Let's take a look at a document term matrix. Here rows are labeled with words and columns are labeled with document indices (bag-of-words representations). Cell values are frequency counts.\n",
    "- Note this matrix is very sparse - this can be a computational advantage but has other disadvantages.\n",
    "- The idea in an IR task is to rank documents (columns) according to their values for a given query (set of rows)."
   ]
  },
  {
   "cell_type": "markdown",
   "metadata": {
    "slideshow": {
     "slide_type": "slide"
    }
   },
   "source": [
    "![](../images/distributional-vector-semantics2.png)"
   ]
  },
  {
   "cell_type": "markdown",
   "metadata": {
    "slideshow": {
     "slide_type": "notes"
    }
   },
   "source": [
    "- Note, that both documents and terms can be vectors. \n",
    "- By using the idea of distributional vector semantics we can perform a variety of tasks.\n",
    "\n",
    "\n",
    "(Looking back to the word-document matrix in the previous slide, we can ask the following sorts of questions)\n",
    "\n",
    "For a word x document matrix:\n",
    "- How do the rows relate to each other\n",
    "- How do the columns relate to each other\n",
    "- For a given group of documents D, which word epitomize D?\n",
    "- For a given group of words W, which documents epitomize W (IR)?\n"
   ]
  },
  {
   "cell_type": "markdown",
   "metadata": {
    "slideshow": {
     "slide_type": "slide"
    }
   },
   "source": [
    "# Word x Word matrix\n",
    "![](../images/word-word.png)"
   ]
  },
  {
   "cell_type": "markdown",
   "metadata": {
    "slideshow": {
     "slide_type": "notes"
    }
   },
   "source": [
    "This dense matrix is derivable from the word-document matrix. Implicit here is co-occuring context.  For example *ain't* and *against* occur 15 times in the corpus.\n",
    "\n",
    "- This matrix is particularly dense since IMDB reviews are pretty long.\n",
    "- We could also constrain co-occurence to the same sentence, paragraph, etc. We're not limited to the entire document. You can also arbitrarily do this on some number of words such as 5000 x 5000 words."
   ]
  },
  {
   "cell_type": "markdown",
   "metadata": {
    "slideshow": {
     "slide_type": "slide"
    }
   },
   "source": [
    "![](../images/term-context.png)"
   ]
  },
  {
   "cell_type": "markdown",
   "metadata": {
    "slideshow": {
     "slide_type": "slide"
    }
   },
   "source": [
    "# Other possible designs\n",
    "* word × search query \n",
    "* word × syntactic context \n",
    "* pair × pattern (e.g., *mason*: *stone*, *cuts*) \n",
    "* adj. × modified noun \n",
    "* word × dependency rel. \n",
    "* person × product (think about this from an advertising perspective)\n",
    "* word × person \n",
    "* word × word × pattern \n",
    "* verb × subject × object \n",
    "* . . . "
   ]
  },
  {
   "cell_type": "markdown",
   "metadata": {
    "slideshow": {
     "slide_type": "slide"
    }
   },
   "source": [
    "# Matrix Design Choices\n",
    "![](../images/matrix-design-choices.png)"
   ]
  },
  {
   "cell_type": "markdown",
   "metadata": {
    "slideshow": {
     "slide_type": "notes"
    }
   },
   "source": [
    " This can seem overwhelming\n",
    "    \n",
    "- We've already seen the importance of tokenization, feature selection and labeled data in terms of importance in a matrix design. \n",
    "- You have many more choices for matrices. \n",
    "- You could decide to treat as a document, all of the tweets from a single person.\n",
    "- We briefly talked about how direct counts weren't that useful and weighting to amplify certain characteristics is an important aspect of design.\n",
    "- Today, we'll talk more on dimensionality reduction to further refine the matrix. Word2vec (and Glove) combines both weighting and dimensionality reduction and we'll look briefly at that.\n",
    "- Finally, there will be vector comparisons -- and there are many options."
   ]
  },
  {
   "cell_type": "markdown",
   "metadata": {
    "slideshow": {
     "slide_type": "slide"
    }
   },
   "source": [
    "# Vector Comparision Example\n",
    "![](../images/vector-comparison-example.png)"
   ]
  },
  {
   "cell_type": "markdown",
   "metadata": {
    "slideshow": {
     "slide_type": "notes"
    }
   },
   "source": [
    " Semantically related words should be closer together and semantically unrelated words should be farther apart. We'll use this concept for guiding the development of representations.\n",
    "- In this small example, there are three words (A, B, C) and two documents.\n",
    "\t- Document x is along the x axis\n",
    "\t- Document y is along the y axis\n",
    "- The intuition we hope to capture is that words A & B have similar distributions. We think they should be close together.\n",
    "- In this example, imagine that words A & B have similar distributions. \n",
    "\t- Maybe A is a positive but low frequency word\n",
    "\t- Maybe B is a positive, high frequency word like good\n",
    "\t- Maybe dy is a positive movie review and dx is more ambivalent.\n",
    "\t- Maybe word c is a word like disappointing with a bias to a more negative review like dx"
   ]
  },
  {
   "cell_type": "markdown",
   "metadata": {
    "slideshow": {
     "slide_type": "slide"
    }
   },
   "source": [
    "![](../images/cosine.png)"
   ]
  },
  {
   "cell_type": "markdown",
   "metadata": {
    "slideshow": {
     "slide_type": "notes"
    }
   },
   "source": [
    "The value in the denominator is the normalized distance\n",
    "- The numerator is the dot product.\n",
    "- We subtract the quotient from 1 to get a rough distance calculation\n",
    "For similarity we actually measuring the angles. "
   ]
  },
  {
   "cell_type": "markdown",
   "metadata": {
    "slideshow": {
     "slide_type": "slide"
    }
   },
   "source": [
    "# Other similarity (comparison) methods\n",
    "- Manhattan distance\n",
    "- Matching coefficient\n",
    "- Dice coefficient\n",
    "- Jaccard coefficient\n",
    "- Probabilistic methods\n",
    "- ..."
   ]
  },
  {
   "cell_type": "markdown",
   "metadata": {
    "slideshow": {
     "slide_type": "slide"
    }
   },
   "source": [
    "## Matrix Re-weighting\n",
    "Amplify the important, trustworthy, and unusual; deemphasize the distracting, mundane, quirky, or mistakes\n",
    "- The intuition is that we want to move away from raw counts\n",
    "- For weighting schemes, assess:\n",
    "- How do they compare to raw count values?\n",
    "- How does it compare  to word frequencies?\n",
    "- What is the overall distribution of values\n",
    "- We should prefer not to do feature selection the basis of counts, stop words, etc."
   ]
  },
  {
   "cell_type": "markdown",
   "metadata": {
    "slideshow": {
     "slide_type": "slide"
    }
   },
   "source": [
    "## Weighting / Normalization schemes\n",
    "- TF-IDF variants\n",
    "- Pairwise distance measures  (e.g., PPMI)\n",
    "- Recall... these are **sparse representations**"
   ]
  },
  {
   "cell_type": "markdown",
   "metadata": {
    "slideshow": {
     "slide_type": "notes"
    }
   },
   "source": [
    "- For other TF-IDF variants, see Manning and Schuetze’s textbook Foundations of Statistical  Natural Language Processing, p. 553)\n",
    "- *long**(length |V|= 20,000 to 50,000)\n",
    "- **sparse**(most elements are zero) "
   ]
  },
  {
   "cell_type": "markdown",
   "metadata": {
    "slideshow": {
     "slide_type": "slide"
    }
   },
   "source": [
    " Shorter vectors may be easier to use as features in ML (fewer weights to tune)\n",
    "- Dense vectors may generalize better that storing explicit counts\n",
    "- They may do better at capturing similarity such as synonymy \n",
    "- They tend to work well for NLP!\n",
    "- Three downloadable dense embeddings:\n",
    "\t- Word2vec (Mikolov et. al.[Google Code Archive - Long-term storage for Google Code Project Hosting.](https://code.google.com/archive/p/word2vec/)\n",
    "\t- Fasttext (from Facebook) - ([fastText](http://www.fasttext.cc/)\n",
    "\t- Glove (Pennington, Socher, Manning) - [GloVe: Global Vectors for Word Representation](https://nlp.stanford.edu/projects/glove/)"
   ]
  },
  {
   "cell_type": "markdown",
   "metadata": {
    "slideshow": {
     "slide_type": "slide"
    }
   },
   "source": [
    "## Word2vec\n",
    "Instead of counting how often two words co-occur,\n",
    "- Train a classifier on a binary prediction task: is w likely to be near y?\n",
    "- We take the learned classifier weights as embeddings\n",
    "- This is amazing since we now have \"gold\" answers to these questions ... no labeled data needed!\n",
    " - Insights from Bengio et al. (2003) and Collobert et al. (2011)"
   ]
  },
  {
   "cell_type": "markdown",
   "metadata": {
    "slideshow": {
     "slide_type": "slide"
    }
   },
   "source": [
    "![](../images/word2vec2.png)"
   ]
  },
  {
   "cell_type": "markdown",
   "metadata": {
    "slideshow": {
     "slide_type": "notes"
    }
   },
   "source": [
    "This example is from Rozado (2019) Using Word Embeddings to Analyze how Universities Conceptualize “Diversity” in their Online Institutional Presence\n",
    "\n",
    "- Note that we're gaining more than simply informationed encoded lexically: vector space models *can encode semantic and syntactic meaning based on word use in the corpus from which the word embedding model was trained*. \n",
    "\n",
    "- This 2D visualization makes it possible to visualize word relationships more easily."
   ]
  },
  {
   "cell_type": "markdown",
   "metadata": {
    "slideshow": {
     "slide_type": "slide"
    }
   },
   "source": [
    "## Word2vec with skipgrams (sgns)\n",
    "1. Treat the target word and a neighboring context word as positive examples. \n",
    "2. Randomly sample other words in the lexicon to get negative samples \n",
    "3. Use logistic regression to train a classifier to distinguish those two cases \n",
    "4. Use the weights as the embeddings "
   ]
  },
  {
   "cell_type": "markdown",
   "metadata": {
    "slideshow": {
     "slide_type": "slide"
    }
   },
   "source": [
    "![](../images/skip-gram.png)"
   ]
  },
  {
   "cell_type": "markdown",
   "metadata": {
    "slideshow": {
     "slide_type": "notes"
    }
   },
   "source": [
    "For each positive example, we create k negative examples using noise words that are not t.\n",
    "\n",
    "Then we train a logistic regression classifier iterative over the training set! To evaluate these -- use human scores from similarity-type tasks such as the SimLex task mentioned last week."
   ]
  },
  {
   "cell_type": "markdown",
   "metadata": {
    "slideshow": {
     "slide_type": "slide"
    }
   },
   "source": [
    "![](../images/skip-gram-goal.png)"
   ]
  },
  {
   "cell_type": "markdown",
   "metadata": {
    "slideshow": {
     "slide_type": "notes"
    }
   },
   "source": [
    "- similarity depends on the window size c\n",
    "- C = ±2 The nearest words to *Hogwarts:* are *Sunnydale*, *Evernight*\n",
    "- C = ±5 The nearest words to *Hogwarts:* are *Dumbledore*, *Malfoy*, *halfblood*"
   ]
  },
  {
   "cell_type": "markdown",
   "metadata": {
    "slideshow": {
     "slide_type": "slide"
    }
   },
   "source": [
    "![](../images/word2vec-ex1.png)"
   ]
  },
  {
   "cell_type": "markdown",
   "metadata": {
    "slideshow": {
     "slide_type": "slide"
    }
   },
   "source": [
    "![](../images/word2vec-ex2.png)"
   ]
  },
  {
   "cell_type": "markdown",
   "metadata": {
    "slideshow": {
     "slide_type": "slide"
    }
   },
   "source": [
    "## NAACL 2019 Tutorial on measuring and modeling change\n",
    "![](../images/lang-change1.png)\n",
    "![](../images/lang-change2.png)\n",
    "![](../images/lang-change3.png)"
   ]
  },
  {
   "cell_type": "markdown",
   "metadata": {
    "slideshow": {
     "slide_type": "notes"
    }
   },
   "source": [
    "From the [2019 NAACL tutorial on Measuring and Modeling Language Change (Jacob Eisenstein)](https://github.com/jacobeisenstein/language-change-tutorial/blob/master/eisenstein-naacl-slides.pdf)\n",
    "\n",
    "\n",
    "- Note... we have been focused on doing predictive tasks with text. These examples are focused around **explanation**.  NLP is used to operationalize variables of interest."
   ]
  },
  {
   "cell_type": "markdown",
   "metadata": {
    "slideshow": {
     "slide_type": "slide"
    }
   },
   "source": [
    "## Dimensionality Reduction & Topic Modeling<div class=\"cite2c-biblio\"></div>"
   ]
  }
 ],
 "metadata": {
  "celltoolbar": "Slideshow",
  "file_extension": ".py",
  "jupytext": {
   "comment_magics": false,
   "encoding": "# -*- coding: utf-8 -*-",
   "formats": "ipynb,md"
  },
  "kernelspec": {
   "display_name": "Python 3",
   "language": "python",
   "name": "python3"
  },
  "language_info": {
   "codemirror_mode": {
    "name": "ipython",
    "version": 3
   },
   "file_extension": ".py",
   "mimetype": "text/x-python",
   "name": "python",
   "nbconvert_exporter": "python",
   "pygments_lexer": "ipython3",
   "version": "3.7.4"
  },
  "mimetype": "text/x-python",
  "name": "python",
  "npconvert_exporter": "python",
  "pygments_lexer": "ipython3",
  "toc": {
   "base_numbering": 1,
   "nav_menu": {},
   "number_sections": true,
   "sideBar": true,
   "skip_h1_title": false,
   "title_cell": "Table of Contents",
   "title_sidebar": "Contents",
   "toc_cell": false,
   "toc_position": {
    "height": "calc(100% - 180px)",
    "left": "10px",
    "top": "150px",
    "width": "202px"
   },
   "toc_section_display": true,
   "toc_window_display": true
  },
  "version": 3
 },
 "nbformat": 4,
 "nbformat_minor": 2
}
