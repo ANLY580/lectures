{
 "cells": [
  {
   "cell_type": "markdown",
   "metadata": {
    "collapsed": true,
    "slideshow": {
     "slide_type": "skip"
    }
   },
   "source": [
    "---\n",
    "jupyter:\n",
    "  jupytext:\n",
    "    cell_markers: region,endregion\n",
    "    comment_magics: false\n",
    "    formats: ipynb,.pct.py:hydrogen,Rmd,md\n",
    "    text_representation:\n",
    "      extension: .md\n",
    "      format_name: percent\n",
    "      format_version: '1.1'\n",
    "      jupytext_version: 1.1.5\n",
    "  kernelspec:\n",
    "    display_name: Python 3\n",
    "    language: python\n",
    "    name: python3\n",
    "---"
   ]
  },
  {
   "cell_type": "markdown",
   "metadata": {
    "slideshow": {
     "slide_type": "slide"
    }
   },
   "source": [
    "*ANLY 580: Natural Language Processing for Data Analytics* <br>\n",
    "*Fall 2019* <br>\n",
    "# 5. Sentiment Analysis and Naive Bayes"
   ]
  },
  {
   "cell_type": "markdown",
   "metadata": {
    "slideshow": {
     "slide_type": "notes"
    }
   },
   "source": [
    "Note - we're going to spend considerable time talking about the project for next week. I've dropped Python code into Canvas that gives you a start to the problem (basline solution), though with a bit of effort you should be able to do better."
   ]
  },
  {
   "cell_type": "markdown",
   "metadata": {
    "slideshow": {
     "slide_type": "slide"
    }
   },
   "source": [
    "# Agenda\n",
    "* Some types of text classification\n",
    "* Deep(er) dive into sentiment analysis\n",
    "* Naive Bayes (theory)\n",
    "* Project baseline algorithm\n",
    "* Evaluation\n",
    "* Practical considerations\n",
    "* Finishing your project"
   ]
  },
  {
   "cell_type": "markdown",
   "metadata": {
    "slideshow": {
     "slide_type": "notes"
    }
   },
   "source": [
    "While as data scientists you need to understand as much as possible in order to best select algorithms or trouble-shoot when you encounter problems, J&M leaves implementation up to others. So project # 1 was designed to help you practice skills while developing an understanding of theory."
   ]
  },
  {
   "cell_type": "markdown",
   "metadata": {
    "slideshow": {
     "slide_type": "slide"
    }
   },
   "source": [
    "# What do we mean by text classification?\n",
    "![](../images/supervised-classification.png)"
   ]
  },
  {
   "cell_type": "markdown",
   "metadata": {
    "slideshow": {
     "slide_type": "notes"
    }
   },
   "source": [
    "This week we're talking about Naive Bayes and a simple tool for classifying text into categories. What categories you ask?"
   ]
  },
  {
   "cell_type": "markdown",
   "metadata": {
    "slideshow": {
     "slide_type": "slide"
    }
   },
   "source": [
    "# Spam\n",
    "![](../images/tweet-spam-names.png)\n"
   ]
  },
  {
   "cell_type": "markdown",
   "metadata": {
    "slideshow": {
     "slide_type": "notes"
    }
   },
   "source": [
    "https://www.ranker.com/list/types-of-twitter-spam/kel-varnsen\n",
    "\n",
    "How do you recognize it?\n",
    "- name\n",
    "- links\n",
    "- tons of hashtags\n",
    "- topics (e.g., porn)\n",
    "- brands, ads...\n",
    "\n",
    "ground truth spam tweets https://ieeexplore.ieee.org/document/7249453"
   ]
  },
  {
   "cell_type": "markdown",
   "metadata": {
    "slideshow": {
     "slide_type": "slide"
    }
   },
   "source": [
    "# Authorship\n",
    "\n",
    "![](../images/mosteller.png)"
   ]
  },
  {
   "cell_type": "markdown",
   "metadata": {
    "slideshow": {
     "slide_type": "notes"
    }
   },
   "source": [
    "Mosteller & Wallace 1963 http://ptrckprry.com/course/ssd/reading/Most63.pdf - two mathematicians who looked at word choice statistically to determine who wrote which paper under the pseudonym Publius.\n",
    "\n",
    "https://priceonomics.com/how-statistics-solved-a-175-year-old-mystery-about/\n",
    "\n",
    "![](../images/hamilton-marker-words.png)\n",
    "\n",
    "\"Once all the words were printed out and sorted, the Wallace and Mosteller team set out to find “discriminators.” These are words that Madison may have used much more frequently than Hamilton, or vice versa. The best candidates were “non-contextual” words—conjunctions, prepositions, articles. These are words that people use all the time and more or less equally from one context to the next, regardless of the topic.\n",
    "\n",
    "“These function words are much more stable than content words and, for the most part, they are also very frequent, which means you get lots of data,” explains Patrick Juola, a professor of computer science at Duquesne University and an expert in text analysis.\"\n",
    "\n",
    "Pioneered the use of Baysian statistics."
   ]
  },
  {
   "cell_type": "markdown",
   "metadata": {
    "slideshow": {
     "slide_type": "slide"
    }
   },
   "source": [
    "# Gender\n",
    "![](../images/gender.png)"
   ]
  },
  {
   "cell_type": "markdown",
   "metadata": {
    "slideshow": {
     "slide_type": "notes"
    }
   },
   "source": [
    "British National Corpus\n",
    "\n",
    "\"The short (less than 50) list of features which our algorithm identified as being most collectively useful for distinguishing male-authored texts from female-authored texts was very suggestive. This list included a large number of determiners {a, the, that, these} and quantifiers {one, two, more, some } as male indicators. Moreover, the parts of speech DT0 (BNC: a determiner which typically occurs either as the first word in a noun phrase or as the head of a noun phrase), AT0 (BNC: a determiner which typically begins a noun phrase but cannot appear as its head), and CRD (cardinal numbers) are all strong male indicators. Conversely, the pronouns {I, you, she, her, their, myself, yourself, herself} are all strong female indicators.\"\n"
   ]
  },
  {
   "cell_type": "markdown",
   "metadata": {
    "slideshow": {
     "slide_type": "slide"
    }
   },
   "source": [
    "# Reviews\n",
    "![](../images/review.png)\n"
   ]
  },
  {
   "cell_type": "markdown",
   "metadata": {
    "slideshow": {
     "slide_type": "slide"
    }
   },
   "source": [
    "# And more tasks\n",
    "- **Illocutionary acts** - Apologizing, promising, ordering, answering, requesting, complaining, warning, inviting, refusing, and congratulating\n",
    "- **genre** - for example, fiction, biography, letter, news, ... Some common communicative form\n",
    "- **register** - formal, informal language\n",
    "- **style** - linguistic variability with a social context\n",
    "- **stance** - position with respect to an issue\n",
    "- **dialect** -  broadly, differences in vocabulary, grammar, and pronunciation\n",
    "- **profiling** - extrapolation on the basis of patterns"
   ]
  },
  {
   "cell_type": "markdown",
   "metadata": {
    "slideshow": {
     "slide_type": "slide"
    }
   },
   "source": [
    "# And even more tasks...\n",
    "- Hate speech\n",
    "- Offensive language\n",
    "- \"Fake news\"\n",
    "- Hyperpartisan language\n",
    "- Rumors\n",
    "- Suggestions\n",
    "- Politeness\n",
    "- Bias\n",
    "- Deception"
   ]
  },
  {
   "cell_type": "markdown",
   "metadata": {
    "slideshow": {
     "slide_type": "slide"
    }
   },
   "source": [
    "# Sentiment\n",
    "![](../images/sentiment.png)"
   ]
  },
  {
   "cell_type": "markdown",
   "metadata": {
    "slideshow": {
     "slide_type": "notes"
    }
   },
   "source": [
    "This list is not exhaustive. And the features used for detection vary broadly from linguistic to non-linguistic. "
   ]
  },
  {
   "cell_type": "markdown",
   "metadata": {
    "slideshow": {
     "slide_type": "slide"
    }
   },
   "source": [
    "![](../images/sentiment-goal.png)"
   ]
  },
  {
   "cell_type": "markdown",
   "metadata": {
    "slideshow": {
     "slide_type": "slide"
    }
   },
   "source": [
    "![](../images/consumer-sentiment.png)"
   ]
  },
  {
   "cell_type": "markdown",
   "metadata": {
    "slideshow": {
     "slide_type": "notes"
    }
   },
   "source": [
    "Slide from J&M\n",
    "\n",
    "Perhaps, this is what the customer wants?\n",
    "\n",
    "Original paper: https://www.aaai.org/ocs/index.php/ICWSM/ICWSM10/paper/viewFile/1536/1842\n",
    "\n",
    "\n",
    "Abstract\n",
    "\n",
    "We connect measures of public opinion measured from polls with sentiment measured from text. We analyze several surveys on consumer confidence and political opinion over the 2008 to 2009 period, and find they correlate to sentiment word frequencies in contemporaneous Twitter messages. While our results vary across datasets, in several cases the correlations are as high as 80%, and capture important large-scale trends. The results highlight the potential of text streams as a substitute and supplement for traditional polling."
   ]
  },
  {
   "cell_type": "markdown",
   "metadata": {
    "slideshow": {
     "slide_type": "slide"
    }
   },
   "source": [
    "# Deeper dive on sentiment analysis\n",
    "\n",
    "- Sentiment (polarity)\n",
    "- Opinions\n",
    "- Values\n",
    "- Attitudes\n",
    "- Feelings (emotions)\n",
    "![](../images/opinion.png)"
   ]
  },
  {
   "cell_type": "markdown",
   "metadata": {
    "slideshow": {
     "slide_type": "notes"
    }
   },
   "source": [
    "Hutto & Gilbert 2014 - http://comp.social.gatech.edu/papers/icwsm14.vader.hutto.pdf\n",
    "\n",
    "This is a pretty good definition, though it seems the field is expanding:\n",
    "> Sentiment analysis, or opinion  mining,is an active  area of study  in  the  field  of  natural  language  processing  that  analyzes people's  opinions,  sentiments,  evaluations,  attitudes, and  emotions  via  the  computational  treatment  of  subjectivity  in  text. \n",
    "\n",
    "E S. Kim and E. Hovy, “Automatic detection of opinion bearing words and sentences”, 2005\n",
    "\n",
    "These days when we talk about \"who\" someone is in terms of values and attitudes, we're stepping into the space of psychographics."
   ]
  },
  {
   "cell_type": "markdown",
   "metadata": {
    "slideshow": {
     "slide_type": "slide"
    }
   },
   "source": [
    "# Special tasks\n",
    "- Subjectivity / objectivity\n",
    " - movie review snippets vs plot summaries\n",
    " - \"The protagonist tries to protect her good name\" \n",
    "- Aspect-Based\n",
    " - \"The battery life of this camera is too short\"\n",
    " - Opinion spam\n",
    " - Comparisons"
   ]
  },
  {
   "cell_type": "markdown",
   "metadata": {
    "slideshow": {
     "slide_type": "notes"
    }
   },
   "source": [
    "- First example from Bang & Lee - http://www.cs.cornell.edu/home/llee/papers/cutsent.pdf\n",
    "- Second example from Bing Liu - https://www.cs.uic.edu/~liub/FBS/NLP-handbook-sentiment-analysis.pdf"
   ]
  },
  {
   "cell_type": "markdown",
   "metadata": {
    "slideshow": {
     "slide_type": "slide"
    }
   },
   "source": [
    "Conceptual challenges (Chris Potts)\n",
    "Which of the following sentences express sentiment? What is their sentiment polarity (pos/neg), if any?\n",
    "1. There was an earthquake in California.\n",
    "2. The team failed to complete the physical challenge. (We\n",
    "win/lose!)\n",
    "3. They said it would be great.\n",
    "4. They said it would be great, and they were right.\n",
    "5. They said it would be great, and they were wrong.\n",
    "6. The party fat-cats are sipping their expensive imported wines.\n",
    "7. Oh, you’re terrible!\n",
    "8. Here’s to ya, ya bastard!\n",
    "9. Of 2001, “Many consider the masterpiece bewildering, boring, slow-moving or annoying, . . . ”\n",
    "10. long-suffering fans, bittersweet memories, hilariously embarrassing moments, . . ."
   ]
  },
  {
   "cell_type": "markdown",
   "metadata": {
    "slideshow": {
     "slide_type": "slide"
    }
   },
   "source": [
    "# Vader\n",
    "![](../images/vader.png)\n"
   ]
  },
  {
   "cell_type": "markdown",
   "metadata": {
    "slideshow": {
     "slide_type": "notes"
    }
   },
   "source": [
    "image from: http://comp.social.gatech.edu/papers/icwsm14.vader.hutto.pdf\n",
    "\n",
    "VADER (Valence Aware Dictionary and sEntiment Reasoner) is a lexicon and rule-based sentiment analysis tool that is  attuned to sentiments expressed in social media. VADER uses a sentiment lexicon which are labeled.\n",
    "\n",
    "\"We use a combination of qualitative and quantitative methods to produce, and then empirically validate, a gold-standard sentiment lexicon that is especially attuned to microblog-like contexts. We next combine these lexical features with consideration for five generalizable rules that embody grammatical and syntactical conventions that humans use when expressing or emphasizing sentiment intensity.\"\n",
    "\n",
    "1. **Punctuation, namely the exclamation point (!), increases the magnitude of the intensity without modifying the semantic orientation.** For example, “The food here is good!!!” is more intense than “The food here is good.”\n",
    "2. **Capitalization, specifically using ALL-CAPS to emphasize a sentiment-relevant word** in the presence of other non-capitalized words, increases the magnitude of the sentiment intensity without affecting the semantic orientation. For example, “The food here is GREAT!” conveys more intensity than “The food here is great!”\n",
    "3. **Degree modifiers (also called intensifiers, booster words, or degree adverbs) impact sentiment intensity by either increasing or decreasing the intensity.** For example, “The service here is extremely good” is more intense than “The service here is good”, whereas “The service here is marginally good” reduces the intensity. \n",
    "4. **The contrastive conjunction “but” signals a shift in sentiment polarity, with the sentiment of the text following the conjunction being dominant.** “The food here is great, but the service is horrible” has mixed sentiment, with the latter half dictating the overall rating.\n",
    "5. By examining the **tri-gram preceding a sentiment-laden lexical feature, we catch nearly 90% of cases where negation flips the polarity of the text.** A negated sentence would be “The food here isn’t really all that great”.\n"
   ]
  },
  {
   "cell_type": "markdown",
   "metadata": {
    "slideshow": {
     "slide_type": "notes"
    }
   },
   "source": [
    "More complete demo in the __main__ for vaderSentiment.py. The demo has:\n",
    "\n",
    "        examples of typical use cases for sentiment analysis, including proper handling of sentences with:\n",
    "\n",
    "                typical negations (e.g., \"not good\")\n",
    "                use of contractions as negations (e.g., \"wasn't very good\")\n",
    "                conventional use of punctuation to signal increased sentiment intensity (e.g., \"Good!!!\")\n",
    "                conventional use of word-shape to signal emphasis (e.g., using ALL CAPS for words/phrases)\n",
    "                using degree modifiers to alter sentiment intensity (e.g., intensity boosters such as \"very\" and intensity dampeners such as \"kind of\")\n",
    "                understanding many sentiment-laden slang words (e.g., 'sux')\n",
    "                understanding many sentiment-laden slang words as modifiers such as 'uber' or 'friggin' or 'kinda'\n",
    "                understanding many sentiment-laden emoticons such as :) and :D\n",
    "                translating utf-8 encoded emojis such as 💘 and 💋 and 😁\n",
    "                understanding sentiment-laden initialisms and acronyms (for example: 'lol')\n",
    "\n",
    "        more examples of tricky sentences that confuse other sentiment analysis tools\n",
    "\n",
    "        example for how VADER can work in conjunction with NLTK to do sentiment analysis on longer texts...i.e., decomposing paragraphs, articles/reports/publications, or novels into sentence-level analyses\n",
    "\n",
    "        examples of a concept for assessing the sentiment of images, video, or other tagged multimedia content\n",
    "\n",
    "        if you have access to the Internet, the demo has an example of how VADER can work with analyzing sentiment of texts in other languages (non-English text sentences)."
   ]
  },
  {
   "cell_type": "markdown",
   "metadata": {
    "slideshow": {
     "slide_type": "notes"
    }
   },
   "source": [
    "# Other Sentiment Lexicons\n",
    "\n",
    "- Chapter 19 from J&M http://web.stanford.edu/~jurafsky/slp3/19.pdf\n",
    "\n",
    "From Chris Potts http://web.stanford.edu/class/cs224u/materials/cs224u-2019-sentiment.pdf:\n",
    "\n",
    "There are too many to try to list, so I picked some with noteworthy properties, limiting to the core task of sentiment analysis:\n",
    "- IMDb movie reviews (50K) (Maas et al. 2011): http://ai.stanford.edu/~amaas/data/sentiment/index.html\n",
    "- Datasets from Lillian Lee’s group: http://www.cs.cornell.edu/home/llee/data/\n",
    "- Datasets from Bing Liu’s group: https://www.cs.uic.edu/~liub/FBS/sentiment- analysis.html\n",
    "- RateBeer (McAuley et al. 2012; McAuley & Leskovec 2013): http://snap.stanford.edu/data/web- RateBeer.html\n",
    "- Amazon Customer Review data: https://s3.amazonaws.com/amazon- reviews- pds/readme.html\n",
    "- Amazon Product Data (McAuley et al. 2015; He & McAuley 2016): http://jmcauley.ucsd.edu/data/amazon/\n",
    "- Sentiment and social networks together (West et al. 2014) http://infolab.stanford.edu/~west1/TACL2014/\n",
    "- Stanford Sentiment Treebank (SST; Socher et al. 2013) https://nlp.stanford.edu/sentiment/\n",
    "- Bing Liu’s Opinion Lexicon: nltk.corpus.opinion_lexicon\n",
    "- SentiWordNet: nltk.corpus.sentiwordnet\n",
    "- MPQA subjectivity lexicon: http://mpqa.cs.pitt.edu\n",
    "- Harvard General Inquirer\n",
    " - Download: http://www.wjh.harvard.edu/~inquirer/spreadsheet_guide.htm\n",
    " - Documentation: http://www.wjh.harvard.edu/~inquirer/homecat.htm\n",
    "- Linguistic Inquiry and Word Counts (LIWC): https://liwc.wpengine.com\n",
    "- Hamilton et al. (2016): SocialSent https://nlp.stanford.edu/projects/socialsent/\n",
    "- Brysbaert et al. (2014): Norms of valence, arousal, and dominance for 13,915 English lemmas"
   ]
  },
  {
   "cell_type": "markdown",
   "metadata": {
    "slideshow": {
     "slide_type": "slide"
    }
   },
   "source": [
    "# Naive Bayes"
   ]
  },
  {
   "cell_type": "markdown",
   "metadata": {
    "slideshow": {
     "slide_type": "notes"
    }
   },
   "source": [
    "Multiple sources of linguistic knowledge interact in problems of ambiguity, representation and understanding.\n",
    "- eight and ate\n",
    "- he saw the girl with the telescope\n",
    "\n",
    "Baysian inference is useful when we're not certain all the information needed is in our model.\n",
    "\n",
    "The main purpose of Bayesian updating is to infer the likelihood of a given hypothesis, given a series of examples as input. Naive Bayes provides a tool for dealing with uncertainty \n",
    "\n",
    "Baysian models rely on a kind of statistics that describe how data was generated.\n",
    "\n",
    "We are lookiing at how plausible our hypothesis is given the data."
   ]
  },
  {
   "cell_type": "markdown",
   "metadata": {
    "slideshow": {
     "slide_type": "slide"
    }
   },
   "source": [
    "![](../images/naive-bayes1.png)"
   ]
  },
  {
   "cell_type": "markdown",
   "metadata": {
    "slideshow": {
     "slide_type": "slide"
    }
   },
   "source": [
    "![](../images/naive-bayes2.png)\n"
   ]
  },
  {
   "cell_type": "markdown",
   "metadata": {
    "slideshow": {
     "slide_type": "notes"
    }
   },
   "source": [
    "Function gamma that takes a document and returns a class.\n",
    "\n",
    "- As input into our model, we are using words. You can think of words as a vector of words.\n",
    "- We can use all the words or a subset of words.\n",
    "\n",
    "All we use is a set of words and their counts."
   ]
  },
  {
   "cell_type": "markdown",
   "metadata": {
    "slideshow": {
     "slide_type": "slide"
    }
   },
   "source": [
    "![](../images/bayes-rule.png)"
   ]
  },
  {
   "cell_type": "markdown",
   "metadata": {
    "slideshow": {
     "slide_type": "notes"
    }
   },
   "source": [
    "All we're doing is looking for the (conditional) probability of the class given a document."
   ]
  },
  {
   "cell_type": "markdown",
   "metadata": {
    "slideshow": {
     "slide_type": "slide"
    }
   },
   "source": [
    "![](../images/bayes-rule2.png)"
   ]
  },
  {
   "cell_type": "markdown",
   "metadata": {
    "slideshow": {
     "slide_type": "notes"
    }
   },
   "source": [
    "We drop the denominator since, for every class, the probability of the document is the same.\n",
    "\n",
    "The MAP (most likely class, maximum a posteriori) is just the product of two things:\n",
    "- the prior (count of the class across all documents)\n",
    "- the likelihood"
   ]
  },
  {
   "cell_type": "markdown",
   "metadata": {
    "slideshow": {
     "slide_type": "slide"
    }
   },
   "source": [
    "![](../images/bayes-rule3.png)"
   ]
  },
  {
   "cell_type": "markdown",
   "metadata": {
    "slideshow": {
     "slide_type": "notes"
    }
   },
   "source": [
    "What is liklihood here? (The probability of the class given the document)\n",
    "\n",
    "- We represent this with features that represent the document. A vector of features (as joint probabilities) x1 - xn"
   ]
  },
  {
   "cell_type": "markdown",
   "metadata": {
    "slideshow": {
     "slide_type": "slide"
    }
   },
   "source": [
    "![](../images/bayes-rule4.png)"
   ]
  },
  {
   "cell_type": "markdown",
   "metadata": {
    "slideshow": {
     "slide_type": "notes"
    }
   },
   "source": [
    "- Computing the probability of class is easy! Just the frequency.\n",
    "- Computing likelihood had lots of parameters.\n",
    "\n",
    "We saw this last week with language modeling. We needed to simplify some of the problems with joint probabilities."
   ]
  },
  {
   "cell_type": "markdown",
   "metadata": {
    "slideshow": {
     "slide_type": "slide"
    }
   },
   "source": [
    "# Simplifying Assumptions\n",
    "![](../images/bayes-rule5.png)"
   ]
  },
  {
   "cell_type": "markdown",
   "metadata": {
    "slideshow": {
     "slide_type": "notes"
    }
   },
   "source": [
    "- The likelihood has a lot of parameters. More so that what we discussed with edit distance. It's so large we could only estimate it with a HUGE number of training examples. So we make simplifying assumptions.\n",
    " - Bag-of-words: position of the word in the document doesn't matter.\n",
    " - Conditional independence: the different features are independent given the class.\n",
    "  - P(x1) given the class x P(x2) given the class... etc. A whole joint string of features\n",
    "\n",
    "Both assumptions are incorrect. But by making these assumptions we are still able to achieve success despite the incorrectness.\n",
    "\n",
    "We're just going to multiply each of these conditional probabilities without worrying about which position they are in."
   ]
  },
  {
   "cell_type": "markdown",
   "metadata": {
    "slideshow": {
     "slide_type": "slide"
    }
   },
   "source": [
    "![](../images/bayes-rule6.png)"
   ]
  },
  {
   "cell_type": "markdown",
   "metadata": {
    "slideshow": {
     "slide_type": "notes"
    }
   },
   "source": [
    "We're going to say that the best class by NB, is the one where the probability of the class is multiplied by the sum of the conditional probabilities of each feature."
   ]
  },
  {
   "cell_type": "markdown",
   "metadata": {
    "slideshow": {
     "slide_type": "slide"
    }
   },
   "source": [
    "# Naive Bayes and Text\n",
    "![](../images/naive-bayes.png)"
   ]
  },
  {
   "cell_type": "markdown",
   "metadata": {
    "slideshow": {
     "slide_type": "notes"
    }
   },
   "source": [
    "For Laplace smoothing, add 1 to the count in the numerator and V to the count in the denominator.\n",
    "\n",
    "*If we just use word features and all the the words in text, we have a kind of language model.*"
   ]
  },
  {
   "cell_type": "markdown",
   "metadata": {
    "slideshow": {
     "slide_type": "slide"
    }
   },
   "source": [
    "![](../images/nb-lm1.png)"
   ]
  },
  {
   "cell_type": "markdown",
   "metadata": {
    "slideshow": {
     "slide_type": "slide"
    }
   },
   "source": [
    "![](../images/nb-lm2.png)"
   ]
  },
  {
   "cell_type": "markdown",
   "metadata": {
    "slideshow": {
     "slide_type": "notes"
    }
   },
   "source": [
    "Each class is a unigram language model.\n",
    "\n",
    "And for each sentence, we're just multiplying the likelihood of the words in the class.\n",
    "\n",
    "We can think of this exactly as a language model."
   ]
  },
  {
   "cell_type": "markdown",
   "metadata": {
    "slideshow": {
     "slide_type": "slide"
    }
   },
   "source": [
    "![](../images/nb-lm3.png)"
   ]
  },
  {
   "cell_type": "markdown",
   "metadata": {
    "slideshow": {
     "slide_type": "notes"
    }
   },
   "source": [
    "When we compare the probabilities against two separate language models."
   ]
  },
  {
   "cell_type": "markdown",
   "metadata": {
    "slideshow": {
     "slide_type": "slide"
    }
   },
   "source": [
    "![](../images/worked-example.png)"
   ]
  },
  {
   "cell_type": "markdown",
   "metadata": {
    "slideshow": {
     "slide_type": "notes"
    }
   },
   "source": [
    "Chinese: prior 3/4, total words in class = 8, V = 6\n",
    "Japanese: prior 1/4, total words in class = 3, V = 6 \n",
    "\n",
    "Choosing a class:\n",
    "Probability Chinese: Prior x Chinese given the class (3) x Tokyo (1) and Japan (1)\n",
    "Probability Japanese: Ends up smaller"
   ]
  },
  {
   "cell_type": "markdown",
   "metadata": {
    "slideshow": {
     "slide_type": "slide"
    }
   },
   "source": [
    "![](../images/naive-bayes-summary.png)"
   ]
  },
  {
   "cell_type": "markdown",
   "metadata": {
    "slideshow": {
     "slide_type": "slide"
    }
   },
   "source": [
    "![](../images/binarized-learning.png)"
   ]
  },
  {
   "cell_type": "markdown",
   "metadata": {
    "slideshow": {
     "slide_type": "slide"
    }
   },
   "source": [
    "![](../images/binarized-intuition.png)"
   ]
  },
  {
   "cell_type": "markdown",
   "metadata": {
    "slideshow": {
     "slide_type": "slide"
    }
   },
   "source": [
    "# Binarized\n",
    "![](../images/binarized1.png)"
   ]
  },
  {
   "cell_type": "markdown",
   "metadata": {
    "slideshow": {
     "slide_type": "slide"
    }
   },
   "source": [
    "![](../images/binarized2.png)"
   ]
  },
  {
   "cell_type": "markdown",
   "metadata": {
    "slideshow": {
     "slide_type": "notes"
    }
   },
   "source": [
    "The word Chinese appears 5 times in the class Chinese. But in the Boolean form of the algorithm, the word Chinese counts as 3."
   ]
  },
  {
   "cell_type": "markdown",
   "metadata": {
    "slideshow": {
     "slide_type": "slide"
    }
   },
   "source": [
    "![](../images/binarized3.png)"
   ]
  },
  {
   "cell_type": "markdown",
   "metadata": {
    "slideshow": {
     "slide_type": "slide"
    }
   },
   "source": [
    "# Naive Bayes baseline (project)\n",
    "- Let's walk through some code! \n",
    "- Vader (lexicon-based)\n",
    "- Naive Bayes\n",
    " - NLTK\n",
    " - Scikit-learn"
   ]
  },
  {
   "cell_type": "markdown",
   "metadata": {
    "slideshow": {
     "slide_type": "notes"
    }
   },
   "source": [
    "I don't want coding to get in the way of learning concepts. You can use these examples for your project and try to improve them. Not sure you can do much to improve Vader, but you can examine results from both to compare the types of errors that you see."
   ]
  },
  {
   "cell_type": "markdown",
   "metadata": {
    "slideshow": {
     "slide_type": "slide"
    }
   },
   "source": [
    "# Evaluation"
   ]
  },
  {
   "cell_type": "markdown",
   "metadata": {
    "slideshow": {
     "slide_type": "slide"
    }
   },
   "source": [
    "![](../images/eval-measures.png)"
   ]
  },
  {
   "cell_type": "markdown",
   "metadata": {
    "slideshow": {
     "slide_type": "notes"
    }
   },
   "source": [
    "Slide from J&M.\n",
    "\n"
   ]
  },
  {
   "cell_type": "markdown",
   "metadata": {
    "slideshow": {
     "slide_type": "slide"
    }
   },
   "source": [
    "![](../images/contingency-table.png)"
   ]
  },
  {
   "cell_type": "markdown",
   "metadata": {
    "slideshow": {
     "slide_type": "notes"
    }
   },
   "source": [
    "For each pair of classes <c1,c2> how many documents from c1 were incorrectly assigned to c2?"
   ]
  },
  {
   "cell_type": "markdown",
   "metadata": {
    "slideshow": {
     "slide_type": "slide"
    }
   },
   "source": [
    "![](../images/f-measure.png)"
   ]
  },
  {
   "attachments": {},
   "cell_type": "markdown",
   "metadata": {
    "slideshow": {
     "slide_type": "notes"
    }
   },
   "source": [
    "a combined measure: F-measure: weighted harmonic mean between precision and recall\n",
    "- why weighted?  in some applications you may care more about P or R\n",
    "- why harmonic?  it's conservative -- lower than arith or geo mean\n",
    "- if P and R are far apart, F tends to be near lower value\n",
    "- in order to do well on F1, need to do well on BOTH P and R\n",
    "\n",
    "That said... think about how you communicate f-measure scores. Their meaning will not be obvious so you should explain in plain language what is behind it.\n",
    "\n",
    "Comment: when ppl say f-measure w/o specifying beta, they mean balanced, and this is by far the most common way of doing it -- F1\n",
    "\n",
    "F1: 2((precision*recall) / (precision+recall))"
   ]
  },
  {
   "cell_type": "markdown",
   "metadata": {
    "slideshow": {
     "slide_type": "slide"
    }
   },
   "source": [
    "![](../images/micro-macro.png)"
   ]
  },
  {
   "cell_type": "markdown",
   "metadata": {
    "slideshow": {
     "slide_type": "notes"
    }
   },
   "source": [
    "Slide from J&M\n",
    "\n",
    "- Macroaveraging is a good strategy for a task where all categories are imporatant and also where one might be smaller than another."
   ]
  },
  {
   "cell_type": "markdown",
   "metadata": {
    "slideshow": {
     "slide_type": "slide"
    }
   },
   "source": [
    "![](../images/cross-validation.png)"
   ]
  },
  {
   "cell_type": "markdown",
   "metadata": {
    "slideshow": {
     "slide_type": "notes"
    }
   },
   "source": [
    "Slide from J&M"
   ]
  },
  {
   "cell_type": "markdown",
   "metadata": {
    "slideshow": {
     "slide_type": "slide"
    }
   },
   "source": [
    "![](../images/10-fold.png)"
   ]
  },
  {
   "cell_type": "markdown",
   "metadata": {
    "slideshow": {
     "slide_type": "notes"
    }
   },
   "source": [
    "Slide from J&M\n",
    "\n",
    "\"It is common to create a fixed training set and test set, then do 10-fold cross-validation inside the training set, but compute error rate the normal way in the test set.\""
   ]
  },
  {
   "cell_type": "markdown",
   "metadata": {
    "slideshow": {
     "slide_type": "slide"
    }
   },
   "source": [
    "# Practical considerations"
   ]
  },
  {
   "cell_type": "markdown",
   "metadata": {
    "slideshow": {
     "slide_type": "slide"
    }
   },
   "source": [
    "![](../images/realworld1.png)"
   ]
  },
  {
   "cell_type": "markdown",
   "metadata": {
    "slideshow": {
     "slide_type": "notes"
    }
   },
   "source": [
    "Slide from J&M"
   ]
  },
  {
   "cell_type": "markdown",
   "metadata": {
    "slideshow": {
     "slide_type": "slide"
    }
   },
   "source": [
    "![](../images/realworld2.png)"
   ]
  },
  {
   "cell_type": "markdown",
   "metadata": {
    "slideshow": {
     "slide_type": "notes"
    }
   },
   "source": [
    "Slide from J&M"
   ]
  },
  {
   "cell_type": "markdown",
   "metadata": {
    "slideshow": {
     "slide_type": "slide"
    }
   },
   "source": [
    "![](../images/realworld3.png)"
   ]
  },
  {
   "cell_type": "markdown",
   "metadata": {
    "slideshow": {
     "slide_type": "notes"
    }
   },
   "source": [
    "Slide from J&M"
   ]
  },
  {
   "cell_type": "markdown",
   "metadata": {
    "slideshow": {
     "slide_type": "slide"
    }
   },
   "source": [
    "![](../images/realworld4.png)"
   ]
  },
  {
   "cell_type": "markdown",
   "metadata": {
    "slideshow": {
     "slide_type": "notes"
    }
   },
   "source": [
    "Slide from J&M"
   ]
  },
  {
   "cell_type": "markdown",
   "metadata": {
    "slideshow": {
     "slide_type": "slide"
    }
   },
   "source": [
    "![](../images/realworld5.png)"
   ]
  },
  {
   "cell_type": "markdown",
   "metadata": {
    "slideshow": {
     "slide_type": "notes"
    }
   },
   "source": [
    "Slide from J&M"
   ]
  },
  {
   "cell_type": "markdown",
   "metadata": {
    "slideshow": {
     "slide_type": "slide"
    }
   },
   "source": [
    "![](../images/realworld6.png)"
   ]
  },
  {
   "cell_type": "markdown",
   "metadata": {
    "slideshow": {
     "slide_type": "notes"
    }
   },
   "source": [
    "Slide from J&M"
   ]
  },
  {
   "cell_type": "markdown",
   "metadata": {
    "slideshow": {
     "slide_type": "slide"
    }
   },
   "source": [
    "![](../images/realworld7.png)"
   ]
  },
  {
   "cell_type": "markdown",
   "metadata": {
    "slideshow": {
     "slide_type": "notes"
    }
   },
   "source": [
    "Slide from J&M"
   ]
  },
  {
   "cell_type": "markdown",
   "metadata": {
    "slideshow": {
     "slide_type": "slide"
    }
   },
   "source": [
    "![](../images/realworld8.png)"
   ]
  },
  {
   "cell_type": "markdown",
   "metadata": {
    "slideshow": {
     "slide_type": "notes"
    }
   },
   "source": [
    "Slide from J&M"
   ]
  },
  {
   "cell_type": "markdown",
   "metadata": {
    "slideshow": {
     "slide_type": "slide"
    }
   },
   "source": [
    "# Finishing your project\n",
    "\n",
    "- You have to try to do better than:\n",
    " - the baseline naive bayes that I provided\n",
    " - the baseline macroaverage score of .33 for any category\n",
    " - and after gold data I provided\n",
    "- Calculte the macro-average score\n",
    "- Generate an output file for your INPUT (test file) that has two columns: id, label\n",
    "- Submit your report and output file"
   ]
  },
  {
   "cell_type": "markdown",
   "metadata": {
    "slideshow": {
     "slide_type": "notes"
    }
   },
   "source": [
    "- You can directly use the examples I've given you and try to improve them\n",
    " - If you do, you will need to include your pre-processor. I used a separate block of code to generate csv files with features for the classifier.\n",
    "- You can use your own code from scratch \n",
    "\n",
    "- We will score your INPUT file and set up a leaderboard for three categories: highest score, most interesting / innovative approach, best report"
   ]
  },
  {
   "cell_type": "markdown",
   "metadata": {
    "slideshow": {
     "slide_type": "slide"
    }
   },
   "source": [
    "# Gold Files\n",
    "- Why are there four?\n",
    "- How can you use them?\n",
    "- What you might look for..."
   ]
  },
  {
   "cell_type": "markdown",
   "metadata": {
    "slideshow": {
     "slide_type": "notes"
    }
   },
   "source": [
    "Thoughts from discussion with an expert participant..."
   ]
  },
  {
   "cell_type": "markdown",
   "metadata": {
    "slideshow": {
     "slide_type": "slide"
    }
   },
   "source": [
    "# Questions?"
   ]
  }
 ],
 "metadata": {
  "celltoolbar": "Slideshow",
  "jupytext": {
   "comment_magics": false,
   "formats": "ipynb,md"
  },
  "kernelspec": {
   "display_name": "Python 3",
   "language": "python",
   "name": "python3"
  },
  "language_info": {
   "codemirror_mode": {
    "name": "ipython",
    "version": 3
   },
   "file_extension": ".py",
   "mimetype": "text/x-python",
   "name": "python",
   "nbconvert_exporter": "python",
   "pygments_lexer": "ipython3",
   "version": "3.7.3"
  },
  "toc": {
   "base_numbering": 1,
   "nav_menu": {},
   "number_sections": true,
   "sideBar": true,
   "skip_h1_title": false,
   "title_cell": "Table of Contents",
   "title_sidebar": "Contents",
   "toc_cell": false,
   "toc_position": {},
   "toc_section_display": true,
   "toc_window_display": false
  }
 },
 "nbformat": 4,
 "nbformat_minor": 2
}
