{
 "cells": [
  {
   "cell_type": "code",
   "execution_count": 1,
   "metadata": {},
   "outputs": [],
   "source": [
    "from collections import defaultdict\n",
    "import numpy as np\n",
    "\n",
    "# noinspection SpellCheckingInspection\n",
    "class NaiveBayesClassifier(object):\n",
    "    def __init__(self, n_gram=1, printing=False):\n",
    "        self.prior = defaultdict(int)\n",
    "        self.logprior = {}\n",
    "        self.bigdoc = defaultdict(list)\n",
    "        self.loglikelihoods = defaultdict(defaultdict)\n",
    "        self.V = []\n",
    "        self.n = n_gram\n",
    "\n",
    "    def compute_prior_and_bigdoc(self, training_set, training_labels):\n",
    "        '''\n",
    "        Computes the prior and the bigdoc (from the book's algorithm)\n",
    "        :param training_set:\n",
    "            a list of all documents of the training set\n",
    "        :param training_labels:\n",
    "            a list of labels corresponding to the documents in the training set\n",
    "        :return:\n",
    "            None\n",
    "        '''\n",
    "        for x, y in zip(training_set, training_labels):\n",
    "            all_words = x.split(\" \")\n",
    "            if self.n == 1:\n",
    "                grams = all_words\n",
    "            else:\n",
    "                grams = self.words_to_grams(all_words)\n",
    "\n",
    "            self.prior[y] += len(grams)\n",
    "            self.bigdoc[y].append(x)\n",
    "\n",
    "    def compute_vocabulary(self, documents):\n",
    "        vocabulary = set()\n",
    "\n",
    "        for doc in documents:\n",
    "            for word in doc.split(\" \"):\n",
    "                vocabulary.add(word.lower())\n",
    "\n",
    "        return vocabulary\n",
    "\n",
    "    def count_word_in_classes(self):\n",
    "        counts = {}\n",
    "        for c in list(self.bigdoc.keys()):\n",
    "            docs = self.bigdoc[c]\n",
    "            counts[c] = defaultdict(int)\n",
    "            for doc in docs:\n",
    "                words = doc.split(\" \")\n",
    "                for word in words:\n",
    "                    counts[c][word] += 1\n",
    "\n",
    "        return counts\n",
    "\n",
    "    def train(self, training_set, training_labels, alpha=1):\n",
    "        # Get number of documents\n",
    "        N_doc = len(training_set)\n",
    "\n",
    "        # Get vocabulary used in training set\n",
    "        self.V = self.compute_vocabulary(training_set)\n",
    "\n",
    "        # Create bigdoc\n",
    "        for x, y in zip(training_set, training_labels):\n",
    "            self.bigdoc[y].append(x)\n",
    "\n",
    "        # Get set of all classes\n",
    "        all_classes = set(training_labels)\n",
    "\n",
    "        # Compute a dictionary with all word counts for each class\n",
    "        self.word_count = self.count_word_in_classes()\n",
    "\n",
    "        # For each class\n",
    "        for c in all_classes:\n",
    "            # Get number of documents for that class\n",
    "            N_c = float(sum(training_labels == c))\n",
    "\n",
    "            # Compute logprior for class\n",
    "            self.logprior[c] = np.log(N_c / N_doc)\n",
    "\n",
    "            # Calculate the sum of counts of words in current class\n",
    "            total_count = 0\n",
    "            for word in self.V:\n",
    "                total_count += self.word_count[c][word]\n",
    "\n",
    "            # For every word, get the count and compute the log-likelihood for this class\n",
    "            for word in self.V:\n",
    "                count = self.word_count[c][word]\n",
    "                self.loglikelihoods[c][word] = np.log((count + alpha) / (total_count + alpha * len(self.V)))\n",
    "\n",
    "    def predict(self, test_doc):\n",
    "        sums = {\n",
    "            0: 0,\n",
    "            1: 0,\n",
    "        }\n",
    "        for c in self.bigdoc.keys():\n",
    "            sums[c] = self.logprior[c]\n",
    "            words = test_doc.split(\" \")\n",
    "            for word in words:\n",
    "               if word in self.V:\n",
    "                   sums[c] += self.loglikelihoods[c][word]\n",
    "\n",
    "        return sums\n"
   ]
  },
  {
   "cell_type": "code",
   "execution_count": 2,
   "metadata": {},
   "outputs": [],
   "source": [
    "doc1 = \"just plain boring\"                      # -\n",
    "doc2 = \"entirely predictable and lacks energy\"  # -\n",
    "doc3 = \"no surprises and very few laughs\"       # -\n",
    "doc4 = \"very powerful\"                          # +\n",
    "doc5 = \"the most fun film of the summer\"        # +"
   ]
  },
  {
   "cell_type": "code",
   "execution_count": 3,
   "metadata": {},
   "outputs": [],
   "source": [
    "training_set = [doc1, doc2, doc3, doc4, doc5]\n",
    "training_labels = np.array([0, 0, 0, 1 ,1])"
   ]
  },
  {
   "cell_type": "code",
   "execution_count": 5,
   "metadata": {},
   "outputs": [
    {
     "name": "stdout",
     "output_type": "stream",
     "text": [
      "{0: -9.703612836494585, 1: -10.325031041273633}\n"
     ]
    }
   ],
   "source": [
    "doc6 = \"predictable with no fun\" # ?\n",
    "#\n",
    "NBclassifier = NaiveBayesClassifier(n_gram=1)\n",
    "NBclassifier.train(training_set,training_labels)\n",
    "#\n",
    "result = NBclassifier.predict(doc6)\n",
    "\n",
    "print(result)\n"
   ]
  },
  {
   "cell_type": "code",
   "execution_count": null,
   "metadata": {},
   "outputs": [],
   "source": []
  }
 ],
 "metadata": {
  "kernelspec": {
   "display_name": "Python 3",
   "language": "python",
   "name": "python3"
  },
  "language_info": {
   "codemirror_mode": {
    "name": "ipython",
    "version": 3
   },
   "file_extension": ".py",
   "mimetype": "text/x-python",
   "name": "python",
   "nbconvert_exporter": "python",
   "pygments_lexer": "ipython3",
   "version": "3.7.3"
  }
 },
 "nbformat": 4,
 "nbformat_minor": 4
}
