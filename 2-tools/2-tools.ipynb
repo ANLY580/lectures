{
 "cells": [
  {
   "cell_type": "code",
   "execution_count": null,
   "metadata": {
    "slideshow": {
     "slide_type": "skip"
    }
   },
   "outputs": [],
   "source": [
    "---\n",
    "jupyter:\n",
    "  jupytext:\n",
    "    cell_markers: region,endregion\n",
    "    comment_magics: false\n",
    "    formats: ipynb,.pct.py:hydrogen,Rmd,md\n",
    "    text_representation:\n",
    "      extension: .py\n",
    "      format_name: hydrogen\n",
    "      format_version: '1.1'\n",
    "      jupytext_version: 1.1.5\n",
    "  kernelspec:\n",
    "    display_name: Python 3\n",
    "    language: python\n",
    "    name: python3\n",
    "---"
   ]
  },
  {
   "cell_type": "markdown",
   "metadata": {
    "slideshow": {
     "slide_type": "slide"
    }
   },
   "source": [
    "*ANLY 580: Natural Language Processing for Data Analytics* <br>\n",
    "*Fall 2019* <br>\n",
    "# 2. Tools"
   ]
  },
  {
   "cell_type": "markdown",
   "metadata": {
    "slideshow": {
     "slide_type": "slide"
    }
   },
   "source": [
    "# Today's Plan\n",
    "- Overview of tools\n",
    "- Hands-on: Tokenization"
   ]
  },
  {
   "cell_type": "markdown",
   "metadata": {
    "slideshow": {
     "slide_type": "notes"
    }
   },
   "source": [
    "Basically, today I want to make sure that everyone is able to work with NLTK and Python.\n",
    "\n",
    "If you are unfamiliar with Linux, it's important to work through the tutorial for that. I've included the some references for the commands that Jurafsky used for text processing in Linux in the [supplement file here](https://anyl580.github.io/syllabus/2-Tools.html)."
   ]
  },
  {
   "cell_type": "markdown",
   "metadata": {
    "slideshow": {
     "slide_type": "slide"
    }
   },
   "source": [
    "# What you should do BEFORE class\n",
    "\n",
    "- Reading (you know this)\n",
    "- Watch associated J&M videos\n",
    "- Look at the lecture supplement"
   ]
  },
  {
   "cell_type": "markdown",
   "metadata": {
    "slideshow": {
     "slide_type": "notes"
    }
   },
   "source": [
    "There's little point in my regurgitating the reading -- particularly when Jurafsky and Manning do so well explaining the concepts. Plus, your quizzes assume you did this work. So I'll be focusing on context -- what you can't get directly from J&M or the readings."
   ]
  },
  {
   "cell_type": "markdown",
   "metadata": {
    "slideshow": {
     "slide_type": "slide"
    }
   },
   "source": [
    "# Tools\n",
    "- Development tools\n",
    "- Industrial tooling"
   ]
  },
  {
   "cell_type": "markdown",
   "metadata": {
    "slideshow": {
     "slide_type": "slide"
    }
   },
   "source": [
    "# Development Tools\n",
    "- Python vs R\n",
    "- Notebooks vs IDEs\n",
    "- Cloud options"
   ]
  },
  {
   "cell_type": "markdown",
   "metadata": {
    "slideshow": {
     "slide_type": "notes"
    }
   },
   "source": [
    "\n",
    "We'll walk through some of the links in the supplement for this section.\n",
    "\n",
    "All of these topics elicit vigorous debate. That said:\n",
    "\n",
    "**NLP & Programming Languages**\n",
    "- Python is great if you are integrating with software developers. And there is a strong tradition of Python and NLP.\n",
    "- Prior to Python: Perl, Java, C, Prolog, Lisp, Scheme... were used for NLP. And probably others.\n",
    "- R is prevalent in corpus linguistics.\n",
    "R provides for robust data processing via the [Tidyverse](https://www.tidyverse.org) and it's data-centric view of the world. Julia Silge wrote a really neat book called [\"Tidy Textmining\"](https://www.tidytextmining.com) applying these ideas to text analysis.\n",
    "\n",
    "- In my opinion, you should be proficient in both. In this class, we are neutral with respect to the tools you prefer to use, but there is an emphasis on Python simply because of the APIs and tooling available for integration into software products.\n",
    "\n",
    "** Notebooks vs IDEs**\n",
    "\n",
    "You should use both! IDEs are so much better for debugging and for all of tooling that makes you more efficient at coding. **Rstudio** and **PyCharm** are both fantastic.\n",
    "\n",
    "Notebooks are great environments for exploring data and for sharing your work. Re-usable code you should package in a Python file as a module.\n",
    "\n",
    "**Cloud**\n",
    "\n",
    "- For this course, we'll have a variety of options for environments.\n",
    "\n",
    "- The best options for collaboration is by using GitHub, period. That said, you should be able to work on your laptop,  Azure Notebooks, Google Colaboratory pretty easily.\n",
    "- It's possible we'll want to run some models with a GPU. You can still use Google Colaboratory or one of the cloud options (if you have an account or feel compfortable setting one up).\n",
    "- I often use Docker in Digital Ocean plus my laptop (Juno app on iPad.)"
   ]
  },
  {
   "cell_type": "markdown",
   "metadata": {
    "slideshow": {
     "slide_type": "slide"
    }
   },
   "source": [
    "# Industrial Tooling\n",
    "- Crawlers\n",
    "- Extractors\n",
    "- Search Appliances"
   ]
  },
  {
   "cell_type": "markdown",
   "metadata": {
    "slideshow": {
     "slide_type": "notes"
    }
   },
   "source": [
    "Why do we need to talk about this?\n",
    "\n",
    "The vast majority of information created by humans intended to be consumed or understood by humans is textual. Even though we are focused on NLP for the purpose of data science, you as data scientists will need to learn to both use and tune tools around collection, extraction, and search.\n",
    "\n",
    "I did not include other sorts of useful tools you may use in the workflow around orchestration, ETL, etc. - you may learn more about them in your other classes in this program."
   ]
  },
  {
   "cell_type": "markdown",
   "metadata": {
    "slideshow": {
     "slide_type": "slide"
    }
   },
   "source": [
    "# Pipeline\n",
    "![](../images/search-1.jpg)"
   ]
  },
  {
   "cell_type": "markdown",
   "metadata": {
    "slideshow": {
     "slide_type": "notes"
    }
   },
   "source": [
    "Image: The Search Network, Search Insights 2018. p. 9 https://searchexplained.com/product/book-search-insights-2018/\n",
    "\n",
    "Let's start with a pipeline. As a data scientist, you quickly learn that most of the effort is around tooling and making your data usable. Every step of the way has an impact on what you do and collection is a key part of this."
   ]
  },
  {
   "cell_type": "markdown",
   "metadata": {
    "slideshow": {
     "slide_type": "slide"
    }
   },
   "source": [
    "# Crawlers\n",
    "- Don't write your own!\n",
    "- wget, Nutch, Scrapy (Python)\n",
    "- There are some crawled Corpora...\n",
    "Common Crawl (WARC, WET and index)\n",
    "    - Can subsample based on language id, detected charset, url, etc.\n",
    "    - Files truncated at 1MB!\n",
    "    - Be careful of anything off the web"
   ]
  },
  {
   "cell_type": "markdown",
   "metadata": {
    "slideshow": {
     "slide_type": "notes"
    }
   },
   "source": [
    "# Challenges\n",
    "- Circular links\n",
    "- Redirects\n",
    "- Cookies\n",
    "- Network failure\n",
    "- Site-internal crazy URL\n",
    "\n",
    "Sleep between requests, consider\n",
    "randomizing a user-agent in the http-header, consider adding a \"referred from\" header, and, of course, respect robots.txt"
   ]
  },
  {
   "cell_type": "markdown",
   "metadata": {
    "slideshow": {
     "slide_type": "slide"
    }
   },
   "source": [
    "# Pipeline\n",
    "![](../images/search-2.jpg)"
   ]
  },
  {
   "cell_type": "markdown",
   "metadata": {
    "slideshow": {
     "slide_type": "notes"
    }
   },
   "source": [
    "Image: The Search Network, Search Insights 2018. p. 9 https://searchexpla ined.com/product/ book-search- insights-2018/\n",
    "\n",
    "Okay, if this is a search pipeline, you crawl... then what? There is a ton missing here!"
   ]
  },
  {
   "cell_type": "markdown",
   "metadata": {
    "slideshow": {
     "slide_type": "slide"
    }
   },
   "source": [
    "# Extractors\n",
    "![](../images/pipeline-tasks.jpg)"
   ]
  },
  {
   "cell_type": "markdown",
   "metadata": {
    "slideshow": {
     "slide_type": "notes"
    }
   },
   "source": [
    "You already have a decent intuition now that even tokenization will impact the performance of downstream tasks. What if your documents come from many different types of sources?\n",
    "\n",
    "Next week, Linda Moreau will talk about what kinds of things can go wrong in text extraction. I'll simply point out a few at a high level."
   ]
  },
  {
   "cell_type": "markdown",
   "metadata": {
    "slideshow": {
     "slide_type": "slide"
    }
   },
   "source": [
    "# Challenges\n",
    "- PDF\n",
    "- Images (OCR...)\n",
    "- Proprietary & embedded document formats\n",
    "- Exceptions\n",
    "- Missing, garbled text"
   ]
  },
  {
   "cell_type": "markdown",
   "metadata": {
    "slideshow": {
     "slide_type": "notes"
    }
   },
   "source": [
    "- There are lots of examples in Tim Allison's briefing in Canvas (this week), on where content extraction can go wrong. He is a contributor to the Apache Tika program -- and this is a content extractor you may find useful."
   ]
  },
  {
   "cell_type": "markdown",
   "metadata": {
    "slideshow": {
     "slide_type": "slide"
    }
   },
   "source": [
    "# Search Appliances (ELK)\n",
    "![](../images/elastic.jpg)"
   ]
  },
  {
   "cell_type": "markdown",
   "metadata": {
    "slideshow": {
     "slide_type": "notes"
    }
   },
   "source": [
    "Image from: https://www.elastic.co/blog/weblyzards-visual-exploration-of-sustainability-communication-with-elasticsearch\n",
    "\n",
    "The Elastic stack is very useful for enabling users to explore data before a data scientist has sufficient time and understanding to model it."
   ]
  },
  {
   "cell_type": "markdown",
   "metadata": {
    "slideshow": {
     "slide_type": "slide"
    }
   },
   "source": [
    "# Data Exploration\n",
    "![](../images/kibana-oov.jpg)"
   ]
  },
  {
   "cell_type": "markdown",
   "metadata": {
    "slideshow": {
     "slide_type": "notes"
    }
   },
   "source": [
    "This example from Tim Allison shows how a data scientist may use an elastic index with Kibana to visualize content for data exploration. From this, you can dive directly into files to get a closer look."
   ]
  },
  {
   "cell_type": "markdown",
   "metadata": {
    "slideshow": {
     "slide_type": "slide"
    }
   },
   "source": [
    "# Search: Inverted Index\n",
    "![](../images/inverted-index.jpg)"
   ]
  },
  {
   "cell_type": "markdown",
   "metadata": {
    "slideshow": {
     "slide_type": "notes"
    }
   },
   "source": [
    "Elastic uses a data structure called an \"inverted index\" to facilitate search. This is conceptually an easy problem. But if you look closely, you will see there is lots of NLP involved."
   ]
  },
  {
   "cell_type": "markdown",
   "metadata": {
    "slideshow": {
     "slide_type": "slide"
    }
   },
   "source": [
    "# Search: Tokenization / Filtering\n",
    "![](../images/tokenization-filtering.jpg)"
   ]
  },
  {
   "cell_type": "markdown",
   "metadata": {
    "slideshow": {
     "slide_type": "notes"
    }
   },
   "source": [
    "To reduce the size of an index and to improve recall, you can do some work in tokenization to improve search."
   ]
  },
  {
   "cell_type": "markdown",
   "metadata": {
    "slideshow": {
     "slide_type": "slide"
    }
   },
   "source": [
    "# Normalization\n",
    "![](../images/normalization-search.jpg)"
   ]
  },
  {
   "cell_type": "markdown",
   "metadata": {
    "slideshow": {
     "slide_type": "notes"
    }
   },
   "source": [
    "Normalizing has a strong affect on search. Much can go wrong if this is not handled well."
   ]
  },
  {
   "cell_type": "markdown",
   "metadata": {
    "slideshow": {
     "slide_type": "slide"
    }
   },
   "source": [
    "# Stemming\n",
    "- Non-linguistic\n",
    "- Designed to improve search\n",
    "- [Porter stemmer](https://www.nltk.org/_modules/nltk/stem/porter.html)"
   ]
  },
  {
   "cell_type": "markdown",
   "metadata": {
    "slideshow": {
     "slide_type": "notes"
    }
   },
   "source": [
    "To better understand the concept of stemming, go straight to the source code in this slide and also play around with stemming words from the Brown Corpus.\n",
    "\n",
    "Note, while stemming is relatively easy in English, some other languages have much more complex morphology and other techniques may be more prevalent than stripping affixes and using simple transformation patterns.\n",
    "\n",
    "Stemmers are used to group similar words together and have widely been used in information retrieval. But you can also use ngram techniques. We'll talk more about ngrams next week."
   ]
  },
  {
   "cell_type": "markdown",
   "metadata": {
    "slideshow": {
     "slide_type": "slide"
    }
   },
   "source": [
    "# Stemming - sometimes too aggressive\n",
    "![](../images/stemming.jpg)"
   ]
  },
  {
   "cell_type": "markdown",
   "metadata": {
    "slideshow": {
     "slide_type": "notes"
    }
   },
   "source": [
    "While stemming may improve recall, it may also results in reduced precision."
   ]
  },
  {
   "cell_type": "markdown",
   "metadata": {
    "slideshow": {
     "slide_type": "slide"
    }
   },
   "source": [
    "# Lemmatization\n",
    "- Linguistic\n",
    "- Collapses *inflectional* variants"
   ]
  },
  {
   "cell_type": "markdown",
   "metadata": {
    "slideshow": {
     "slide_type": "notes"
    }
   },
   "source": [
    "- This process involves first determining the part of speech of a word, and then applying normalization rules.\n",
    "\n",
    "For most applications, lemmatization would not be preferred in information retrieval since it would result in lower recall."
   ]
  },
  {
   "cell_type": "markdown",
   "metadata": {
    "slideshow": {
     "slide_type": "slide"
    }
   },
   "source": [
    "# Tokenization / Filtering\n",
    "![](../images/case-folding.jpg)"
   ]
  },
  {
   "cell_type": "markdown",
   "metadata": {
    "slideshow": {
     "slide_type": "notes"
    }
   },
   "source": [
    "Unicode case-folding may also help to improve search, though the order in which you apply rules for stop word removal, normalization and case-folding will matter when you are working with text across multiple languages. This article provides an accessible explanation in the context of Elastic.\n",
    "https://greg.blog/2013/05/01/three-principles-for-multilingal-indexing-in-elasticsearch/"
   ]
  },
  {
   "cell_type": "markdown",
   "metadata": {
    "slideshow": {
     "slide_type": "slide"
    }
   },
   "source": [
    "# A Note on Evaluation\n",
    "![](../images/recall-precision.png)"
   ]
  },
  {
   "cell_type": "markdown",
   "metadata": {
    "slideshow": {
     "slide_type": "notes"
    }
   },
   "source": [
    "Buried in this chapter was a note about recall and precision. This visual depiction gives a clear way to see what is meant.\n",
    "\n",
    "Along with measures of similarity such as edit distance, we'll talk quite a bit about how to use recall and precision for evaluating performance in a variety of NLP tasks.\n",
    "\n",
    "For the purposes of tokenization, we can use recall and precision generally to see how well we do when we have ground truth. But there is no linguistically motivated way to determine a single ground truth. (The same may not be said of lemmatization.)"
   ]
  },
  {
   "cell_type": "markdown",
   "metadata": {
    "slideshow": {
     "slide_type": "slide"
    }
   },
   "source": [
    "# Type 1 and Type 2 Error\n",
    "![](../images/type-1-2.png)"
   ]
  },
  {
   "cell_type": "markdown",
   "metadata": {
    "slideshow": {
     "slide_type": "notes"
    }
   },
   "source": [
    "I find this image to be helpful in remembering which kind of error is a type 1 (false positive) error versus type 2 (false negative) error!"
   ]
  },
  {
   "cell_type": "markdown",
   "metadata": {
    "slideshow": {
     "slide_type": "notes"
    }
   },
   "source": [
    "# Hands-on: Tokenization"
   ]
  },
  {
   "cell_type": "markdown",
   "metadata": {
    "slideshow": {
     "slide_type": "notes"
    }
   },
   "source": [
    "While we're largely ignoring punctuation for calculating statistics below, I want to make the cautionary note that punctuation can be quite important information and especially for tokenization when we are building a pipeline for higher levels of analysis.\n",
    "\n",
    "J&M give the fine example of a quote mark which may distinguish the difference between a genitive (possessive) marker, clitic, and quotative as in:\n",
    "\n",
    "> \"the book's over in the containers' above\"\n",
    "\n",
    "J&M similarly mentions the potential value of of capitalization for a number of interesting cases. For example, recall the difference between:\n",
    "\n",
    "> us and US\n",
    "\n",
    "Thus, the Brown Corpus that we're using includes punctuation and a wide range of tags for distinguishing word forms."
   ]
  },
  {
   "cell_type": "markdown",
   "metadata": {
    "slideshow": {
     "slide_type": "notes"
    }
   },
   "source": [
    "For the remainder of this session, walk through the material here and in the supplemental and we'll make sure everyone is set with GitHub and the basics before we move on to language modeling (next week)."
   ]
  },
  {
   "cell_type": "code",
   "execution_count": null,
   "metadata": {
    "slideshow": {
     "slide_type": "notes"
    }
   },
   "outputs": [],
   "source": [
    "# If you are working in binder, you can comment any import statements in the blocks below.\n",
    "\n",
    "import nltk"
   ]
  },
  {
   "cell_type": "markdown",
   "metadata": {
    "slideshow": {
     "slide_type": "notes"
    }
   },
   "source": [
    "You'll need also to have the brown corpus (or any others that interest you). Again, if you are not in binder, you can use the following to download corpora. But this command you type in your terminal. Make sure you are in the same environment as your Jupyter notebook. If you don't know what this means, it's likely not an issue.\n",
    "\n",
    "**python -m nltk.downloader brown**\n",
    "\n",
    "We've also included versions of the tagged and untagged Brown Corpus in Canvas and in the lectures repository. When you git clone the repo (https://help.github.com/en/desktop/contributing-to-projects/cloning-a-repository-from-github-to-github-desktop),you will get copies of these. If you are working in R, you may need to do this.\n",
    "\n",
    "Also in the repo are two individual files from the brown corpus. If you are new to Python, you also need to learn how to load files not included in libraries. These will give you an opportunity to do so."
   ]
  },
  {
   "cell_type": "markdown",
   "metadata": {
    "slideshow": {
     "slide_type": "notes"
    }
   },
   "source": [
    "Hopefully, you've already browsed through chapters 1 & 2 in NLTK. We'll be working from material in **chapter 3** this week and again in the fourth session of this class when we begin to learn about language modeling."
   ]
  },
  {
   "cell_type": "code",
   "execution_count": 17,
   "metadata": {
    "slideshow": {
     "slide_type": "notes"
    }
   },
   "outputs": [],
   "source": [
    "from nltk.corpus import brown"
   ]
  },
  {
   "cell_type": "code",
   "execution_count": null,
   "metadata": {
    "slideshow": {
     "slide_type": "notes"
    }
   },
   "outputs": [],
   "source": [
    "# In your anaconda distribution, you should be able to use basic unix commands.\n",
    "# For example, try the ls command below to make sure this is the case.\n",
    "\n",
    "!ls"
   ]
  },
  {
   "cell_type": "code",
   "execution_count": null,
   "metadata": {
    "slideshow": {
     "slide_type": "notes"
    }
   },
   "outputs": [],
   "source": [
    "# call.txt has no line breaks. Note what happens when you use the head command.\n",
    "!head ca11.txt"
   ]
  },
  {
   "cell_type": "code",
   "execution_count": 18,
   "metadata": {
    "slideshow": {
     "slide_type": "notes"
    }
   },
   "outputs": [
    {
     "name": "stdout",
     "output_type": "stream",
     "text": [
      "Miami, Fla., March 1\n"
     ]
    }
   ],
   "source": [
    "# Another way to view this file using standard Python is the following.\n",
    "# This time, we are only reading some number of chracters.\n",
    "# I'm a fan of realpython and if you are uncomfortable with basics in Python, check it out.\n",
    "# https://realpython.com/read-write-files-python/\n",
    "# The command below ensures that your file is closed after the block is executed.\n",
    "\n",
    "with open('ca11.txt') as file:\n",
    "    print(file.read(20))\n",
    "    ca11_raw = file.read()"
   ]
  },
  {
   "cell_type": "code",
   "execution_count": 43,
   "metadata": {
    "slideshow": {
     "slide_type": "notes"
    }
   },
   "outputs": [
    {
     "data": {
      "text/plain": [
       "[['Miami', ',', 'Fla.', ',', 'March', '17'], ['--', 'The', 'Orioles', 'tonight', 'retained', 'the', 'distinction', 'of', 'being', 'the', 'only', 'winless', 'team', 'among', 'the', 'eighteen', 'Major-League', 'clubs', 'as', 'they', 'dropped', 'their', 'sixth', 'straight', 'spring', 'exhibition', 'decision', ',', 'this', 'one', 'to', 'the', 'Kansas', 'City', 'Athletics', 'by', 'a', 'score', 'of', '5', 'to', '3', '.'], ...]"
      ]
     },
     "execution_count": 43,
     "metadata": {},
     "output_type": "execute_result"
    }
   ],
   "source": [
    "# That said, you have some neat functions already packaged in NLTK to make things easier.\n",
    "# For example:\n",
    "\n",
    "brown.sents('ca11')"
   ]
  },
  {
   "cell_type": "code",
   "execution_count": 40,
   "metadata": {
    "slideshow": {
     "slide_type": "notes"
    }
   },
   "outputs": [
    {
     "name": "stdout",
     "output_type": "stream",
     "text": [
      "2259\n",
      "1856\n"
     ]
    }
   ],
   "source": [
    "# Okay, so let's play with tokenizers on a single file from Brown\n",
    "\n",
    "from nltk.text import Text\n",
    "ca11 = Text(brown.words(fileids=['ca11']))\n",
    "print(len(ca11))\n",
    "# Filter to only words and also normalize the case to lower\n",
    "ca11_normalized = [word.lower() for word in ca11 if word.isalpha()]\n",
    "\n",
    "#How does this change the number of words?\n",
    "\n",
    "# YOUR SOLUTION\n",
    "\n",
    "# Note that if you are using the Text object that your text in ca11 is accessible via methods on this object."
   ]
  },
  {
   "cell_type": "code",
   "execution_count": null,
   "metadata": {
    "slideshow": {
     "slide_type": "notes"
    }
   },
   "outputs": [],
   "source": [
    "ca11.count(\"the\")\n",
    "ca11.concordance(\"start\")\n",
    "ca11.vocab()"
   ]
  },
  {
   "cell_type": "code",
   "execution_count": 41,
   "metadata": {
    "slideshow": {
     "slide_type": "notes"
    }
   },
   "outputs": [
    {
     "data": {
      "text/plain": [
       "['7',\n",
       " '--The',\n",
       " 'Orioles',\n",
       " 'tonight',\n",
       " 'retained',\n",
       " 'the',\n",
       " 'distinction',\n",
       " 'of',\n",
       " 'being',\n",
       " 'the',\n",
       " 'only',\n",
       " 'winless',\n",
       " 'team',\n",
       " 'among',\n",
       " 'the',\n",
       " 'eighteen',\n",
       " 'Major-League',\n",
       " 'clubs',\n",
       " 'as',\n",
       " 'they',\n",
       " 'dropped',\n",
       " 'their',\n",
       " 'sixth',\n",
       " 'straight',\n",
       " 'spring',\n",
       " 'exhibition',\n",
       " 'decision,',\n",
       " 'this',\n",
       " 'one',\n",
       " 'to',\n",
       " 'the',\n",
       " 'Kansas',\n",
       " 'City',\n",
       " 'Athletics',\n",
       " 'by',\n",
       " 'a',\n",
       " 'score',\n",
       " 'of',\n",
       " '5',\n",
       " 'to',\n",
       " '3.',\n",
       " 'Indications',\n",
       " 'as',\n",
       " 'late',\n",
       " 'as',\n",
       " 'the',\n",
       " 'top',\n",
       " 'of',\n",
       " 'the',\n",
       " 'sixth',\n",
       " 'were',\n",
       " 'that',\n",
       " 'the',\n",
       " 'Birds',\n",
       " 'were',\n",
       " 'to',\n",
       " 'end',\n",
       " 'their',\n",
       " 'victory',\n",
       " 'draught',\n",
       " 'as',\n",
       " 'they',\n",
       " 'coasted',\n",
       " 'along',\n",
       " 'with',\n",
       " 'a',\n",
       " '3-to-o',\n",
       " 'advantage.',\n",
       " 'Siebern',\n",
       " 'hits',\n",
       " 'homer',\n",
       " 'Over',\n",
       " 'the',\n",
       " 'first',\n",
       " 'five',\n",
       " 'frames,',\n",
       " 'Jack',\n",
       " 'Fisher,',\n",
       " 'the',\n",
       " 'big',\n",
       " 'righthander',\n",
       " 'who',\n",
       " 'figures',\n",
       " 'to',\n",
       " 'be',\n",
       " 'in',\n",
       " 'the',\n",
       " 'middle',\n",
       " 'of',\n",
       " 'Oriole',\n",
       " 'plans',\n",
       " 'for',\n",
       " 'a',\n",
       " 'drive',\n",
       " 'on',\n",
       " 'the',\n",
       " '1961',\n",
       " 'American',\n",
       " 'League',\n",
       " 'pennant,',\n",
       " 'held',\n",
       " 'the',\n",
       " \"A's\",\n",
       " 'scoreless',\n",
       " 'while',\n",
       " 'yielding',\n",
       " 'three',\n",
       " 'scattered',\n",
       " 'hits.',\n",
       " 'Then',\n",
       " 'Dick',\n",
       " 'Hyde,',\n",
       " 'submarine-ball',\n",
       " 'hurler,',\n",
       " 'entered',\n",
       " 'the',\n",
       " 'contest',\n",
       " 'and',\n",
       " 'only',\n",
       " 'five',\n",
       " 'batters',\n",
       " 'needed',\n",
       " 'to',\n",
       " 'face',\n",
       " 'him',\n",
       " 'before',\n",
       " 'there',\n",
       " 'existed',\n",
       " 'a',\n",
       " '3-to-3',\n",
       " 'deadlock.',\n",
       " 'A',\n",
       " 'two-run',\n",
       " 'homer',\n",
       " 'by',\n",
       " 'Norm',\n",
       " 'Siebern',\n",
       " 'and',\n",
       " 'a',\n",
       " 'solo',\n",
       " 'blast',\n",
       " 'by',\n",
       " 'Bill',\n",
       " 'Tuttle',\n",
       " 'tied',\n",
       " 'the',\n",
       " 'game,',\n",
       " 'and',\n",
       " 'single',\n",
       " 'runs',\n",
       " 'in',\n",
       " 'the',\n",
       " 'eighth',\n",
       " 'and',\n",
       " 'ninth',\n",
       " 'gave',\n",
       " 'the',\n",
       " 'Athletics',\n",
       " 'their',\n",
       " 'fifth',\n",
       " 'victory',\n",
       " 'in',\n",
       " 'eight',\n",
       " 'starts.',\n",
       " 'House',\n",
       " 'throws',\n",
       " 'wild',\n",
       " 'With',\n",
       " 'one',\n",
       " 'down',\n",
       " 'in',\n",
       " 'the',\n",
       " 'eighth,',\n",
       " 'Marv',\n",
       " 'Throneberry',\n",
       " 'drew',\n",
       " 'a',\n",
       " 'walk',\n",
       " 'and',\n",
       " 'stole',\n",
       " 'second',\n",
       " 'as',\n",
       " 'Hyde',\n",
       " 'fanned',\n",
       " 'Tuttle.',\n",
       " 'Catcher',\n",
       " 'Frank',\n",
       " \"House's\",\n",
       " 'throw',\n",
       " 'in',\n",
       " 'an',\n",
       " 'effort',\n",
       " 'to',\n",
       " 'nab',\n",
       " 'Throneberry',\n",
       " 'was',\n",
       " 'wide',\n",
       " 'and',\n",
       " 'in',\n",
       " 'the',\n",
       " 'dirt.',\n",
       " 'Then',\n",
       " 'Heywood',\n",
       " 'Sullivan,',\n",
       " 'Kansas',\n",
       " 'City',\n",
       " 'catcher,',\n",
       " 'singled',\n",
       " 'up',\n",
       " 'the',\n",
       " 'middle',\n",
       " 'and',\n",
       " 'Throneberry',\n",
       " 'was',\n",
       " 'across',\n",
       " 'with',\n",
       " 'what',\n",
       " 'proved',\n",
       " 'to',\n",
       " 'be',\n",
       " 'the',\n",
       " 'winning',\n",
       " 'run.',\n",
       " 'Rookie',\n",
       " 'southpaw',\n",
       " 'George',\n",
       " 'Stepanovich',\n",
       " 'relieved',\n",
       " 'Hyde',\n",
       " 'at',\n",
       " 'the',\n",
       " 'start',\n",
       " 'of',\n",
       " 'the',\n",
       " 'ninth',\n",
       " 'and',\n",
       " 'gave',\n",
       " 'up',\n",
       " 'the',\n",
       " \"A's\",\n",
       " 'fifth',\n",
       " 'tally',\n",
       " 'on',\n",
       " 'a',\n",
       " 'walk',\n",
       " 'to',\n",
       " 'second',\n",
       " 'baseman',\n",
       " 'Dick',\n",
       " 'Howser,',\n",
       " 'a',\n",
       " 'wild',\n",
       " 'pitch,',\n",
       " 'and',\n",
       " 'Frank',\n",
       " \"Cipriani's\",\n",
       " 'single',\n",
       " 'under',\n",
       " 'Shortstop',\n",
       " 'Jerry',\n",
       " \"Adair's\",\n",
       " 'glove',\n",
       " 'into',\n",
       " 'center.',\n",
       " 'The',\n",
       " 'Orioles',\n",
       " 'once',\n",
       " 'again',\n",
       " 'performed',\n",
       " 'at',\n",
       " 'the',\n",
       " 'plate',\n",
       " 'in',\n",
       " 'powderpuff',\n",
       " 'fashion,',\n",
       " 'gathering',\n",
       " 'only',\n",
       " 'seven',\n",
       " 'blows',\n",
       " 'off',\n",
       " 'the',\n",
       " 'offerings',\n",
       " 'of',\n",
       " 'three',\n",
       " 'Kansas',\n",
       " 'City',\n",
       " 'pitchers.',\n",
       " 'Three',\n",
       " 'were',\n",
       " 'doubles,',\n",
       " 'Brooks',\n",
       " 'Robinson',\n",
       " 'getting',\n",
       " 'a',\n",
       " 'pair',\n",
       " 'and',\n",
       " 'Marv',\n",
       " 'Breeding',\n",
       " 'one.',\n",
       " 'Hartman',\n",
       " 'impressive',\n",
       " 'Bill',\n",
       " 'Kunkel,',\n",
       " 'Bob',\n",
       " 'Hartman',\n",
       " 'and',\n",
       " 'Ed',\n",
       " 'Keegan',\n",
       " 'did',\n",
       " 'the',\n",
       " 'mound',\n",
       " 'chores',\n",
       " 'for',\n",
       " 'the',\n",
       " 'club',\n",
       " 'down',\n",
       " 'from',\n",
       " 'West',\n",
       " 'Palm',\n",
       " 'Beach',\n",
       " 'to',\n",
       " 'play',\n",
       " 'the',\n",
       " 'game',\n",
       " 'before',\n",
       " '767',\n",
       " 'paying',\n",
       " 'customers',\n",
       " 'in',\n",
       " 'Miami',\n",
       " 'Stadium.',\n",
       " 'The',\n",
       " 'Birds',\n",
       " 'got',\n",
       " 'five',\n",
       " 'hits',\n",
       " 'and',\n",
       " 'all',\n",
       " 'three',\n",
       " 'of',\n",
       " 'their',\n",
       " 'runs',\n",
       " 'off',\n",
       " 'Kunkel',\n",
       " 'before',\n",
       " 'Hartman',\n",
       " 'took',\n",
       " 'over',\n",
       " 'in',\n",
       " 'the',\n",
       " 'top',\n",
       " 'of',\n",
       " 'the',\n",
       " 'fourth.',\n",
       " 'Hartman,',\n",
       " 'purchased',\n",
       " 'by',\n",
       " 'the',\n",
       " \"A's\",\n",
       " 'from',\n",
       " 'the',\n",
       " 'Milwaukee',\n",
       " 'Braves',\n",
       " 'last',\n",
       " 'fall,',\n",
       " 'allowed',\n",
       " 'no',\n",
       " 'hits',\n",
       " 'in',\n",
       " 'his',\n",
       " 'scoreless',\n",
       " 'three-inning',\n",
       " 'appearance,',\n",
       " 'and',\n",
       " 'merited',\n",
       " 'the',\n",
       " 'triumph.',\n",
       " 'Keegan,',\n",
       " 'a',\n",
       " '6-foot-3-inch',\n",
       " '158-pounder,',\n",
       " 'gave',\n",
       " 'up',\n",
       " 'the',\n",
       " \"Orioles'\",\n",
       " 'last',\n",
       " 'two',\n",
       " 'safeties',\n",
       " 'over',\n",
       " 'the',\n",
       " 'final',\n",
       " 'three',\n",
       " 'frames,',\n",
       " 'escaping',\n",
       " 'a',\n",
       " 'load',\n",
       " 'of',\n",
       " 'trouble',\n",
       " 'in',\n",
       " 'the',\n",
       " 'ninth',\n",
       " 'when',\n",
       " 'the',\n",
       " 'Birds',\n",
       " 'threatened',\n",
       " 'but',\n",
       " 'failed',\n",
       " 'to',\n",
       " 'tally.',\n",
       " 'Robinson',\n",
       " 'doubles',\n",
       " 'again',\n",
       " 'In',\n",
       " 'the',\n",
       " 'ninth,',\n",
       " 'Robinson',\n",
       " 'led',\n",
       " 'off',\n",
       " 'with',\n",
       " 'his',\n",
       " 'second',\n",
       " 'double',\n",
       " 'of',\n",
       " 'the',\n",
       " 'night,',\n",
       " 'a',\n",
       " 'blast',\n",
       " 'off',\n",
       " 'the',\n",
       " 'fence',\n",
       " '375',\n",
       " 'feet',\n",
       " 'deep',\n",
       " 'into',\n",
       " 'left.',\n",
       " 'Whitey',\n",
       " 'Herzog,',\n",
       " 'performing',\n",
       " 'in',\n",
       " 'right',\n",
       " 'as',\n",
       " 'the',\n",
       " 'Orioles',\n",
       " 'fielded',\n",
       " 'possibly',\n",
       " 'their',\n",
       " 'strongest',\n",
       " 'team',\n",
       " 'of',\n",
       " 'the',\n",
       " 'spring,',\n",
       " 'worked',\n",
       " 'Keegan',\n",
       " 'for',\n",
       " 'a',\n",
       " 'base',\n",
       " 'on',\n",
       " 'balls.',\n",
       " 'Then',\n",
       " 'three',\n",
       " 'consecutive',\n",
       " 'pinch-hitters',\n",
       " 'failed',\n",
       " 'to',\n",
       " 'produce.',\n",
       " 'Pete',\n",
       " 'Ward',\n",
       " 'was',\n",
       " 'sent',\n",
       " 'in',\n",
       " 'for',\n",
       " 'House',\n",
       " 'and,',\n",
       " 'after',\n",
       " 'failing',\n",
       " 'in',\n",
       " 'a',\n",
       " 'bunt',\n",
       " 'attempt,',\n",
       " 'popped',\n",
       " 'to',\n",
       " 'Howser',\n",
       " 'on',\n",
       " 'the',\n",
       " 'grass',\n",
       " 'back',\n",
       " 'of',\n",
       " 'short.',\n",
       " 'John',\n",
       " 'Powell,',\n",
       " 'batting',\n",
       " 'for',\n",
       " 'Adair,',\n",
       " 'fanned',\n",
       " 'after',\n",
       " 'fouling',\n",
       " 'off',\n",
       " 'two',\n",
       " '2-and-2',\n",
       " 'pitches,',\n",
       " 'and',\n",
       " 'Buddy',\n",
       " 'Barker,',\n",
       " 'up',\n",
       " 'for',\n",
       " 'Stepanovich,',\n",
       " 'bounced',\n",
       " 'out',\n",
       " 'sharply',\n",
       " 'to',\n",
       " 'Jerry',\n",
       " 'Lumpe',\n",
       " 'at',\n",
       " 'second',\n",
       " 'to',\n",
       " 'end',\n",
       " 'the',\n",
       " '2-hour-and-27-minute',\n",
       " 'contest.',\n",
       " 'The',\n",
       " 'Orioles',\n",
       " 'got',\n",
       " 'a',\n",
       " 'run',\n",
       " 'in',\n",
       " 'the',\n",
       " 'first',\n",
       " 'inning',\n",
       " 'when',\n",
       " 'Breeding,',\n",
       " 'along',\n",
       " 'with',\n",
       " 'Robinson,',\n",
       " 'the',\n",
       " 'two',\n",
       " 'Birds',\n",
       " 'who',\n",
       " 'got',\n",
       " 'a',\n",
       " 'pair',\n",
       " 'of',\n",
       " 'hits,',\n",
       " 'doubled',\n",
       " 'to',\n",
       " 'right',\n",
       " 'center,',\n",
       " 'moved',\n",
       " 'to',\n",
       " 'third',\n",
       " 'on',\n",
       " 'Russ',\n",
       " \"Snyder's\",\n",
       " 'single',\n",
       " 'to',\n",
       " 'right',\n",
       " 'and',\n",
       " 'crossed',\n",
       " 'on',\n",
       " \"Kunkel's\",\n",
       " 'wild',\n",
       " 'pitch',\n",
       " 'into',\n",
       " 'the',\n",
       " 'dirt',\n",
       " 'in',\n",
       " 'front',\n",
       " 'of',\n",
       " 'the',\n",
       " 'plate.',\n",
       " 'The',\n",
       " 'Flock',\n",
       " 'added',\n",
       " 'a',\n",
       " 'pair',\n",
       " 'of',\n",
       " 'tallies',\n",
       " 'in',\n",
       " 'the',\n",
       " 'third',\n",
       " 'on',\n",
       " 'three',\n",
       " 'straight',\n",
       " 'hits',\n",
       " 'after',\n",
       " 'two',\n",
       " 'were',\n",
       " 'out.',\n",
       " 'Jackie',\n",
       " 'Brandt',\n",
       " 'singled',\n",
       " 'deep',\n",
       " 'into',\n",
       " 'the',\n",
       " 'hole',\n",
       " 'at',\n",
       " 'short',\n",
       " 'to',\n",
       " 'start',\n",
       " 'the',\n",
       " 'rally.',\n",
       " 'Lumpe',\n",
       " 'errs',\n",
       " 'Jim',\n",
       " 'Gentile',\n",
       " 'bounced',\n",
       " 'a',\n",
       " 'hard',\n",
       " 'shot',\n",
       " 'off',\n",
       " \"Kunkel's\",\n",
       " 'glove',\n",
       " 'and',\n",
       " 'beat',\n",
       " 'it',\n",
       " 'out',\n",
       " 'for',\n",
       " 'a',\n",
       " 'single,',\n",
       " 'and',\n",
       " 'when',\n",
       " 'Lumpe',\n",
       " 'grabbed',\n",
       " 'the',\n",
       " 'ball',\n",
       " 'and',\n",
       " 'threw',\n",
       " 'it',\n",
       " 'over',\n",
       " 'first',\n",
       " 'baseman',\n",
       " \"Throneberry's\",\n",
       " 'head',\n",
       " 'Brandt',\n",
       " 'took',\n",
       " 'third',\n",
       " 'and',\n",
       " 'Gentile',\n",
       " 'second',\n",
       " 'on',\n",
       " 'the',\n",
       " 'error.',\n",
       " 'Then',\n",
       " 'Robinson',\n",
       " 'slammed',\n",
       " 'a',\n",
       " 'long',\n",
       " 'double',\n",
       " 'to',\n",
       " 'left',\n",
       " 'center',\n",
       " 'to',\n",
       " 'score',\n",
       " 'both',\n",
       " 'runners.',\n",
       " 'When',\n",
       " 'Robinson',\n",
       " 'tried',\n",
       " 'to',\n",
       " 'stretch',\n",
       " 'his',\n",
       " 'blow',\n",
       " 'into',\n",
       " 'a',\n",
       " 'triple,',\n",
       " 'he',\n",
       " 'was',\n",
       " 'cut',\n",
       " 'down',\n",
       " 'in',\n",
       " 'a',\n",
       " 'close',\n",
       " 'play',\n",
       " 'at',\n",
       " 'third,',\n",
       " 'Tuttle',\n",
       " 'to',\n",
       " 'Andy',\n",
       " 'Carey.',\n",
       " 'The',\n",
       " 'detailed',\n",
       " 'rundown',\n",
       " 'on',\n",
       " 'the',\n",
       " 'Kansas',\n",
       " 'City',\n",
       " 'scoring',\n",
       " 'in',\n",
       " 'the',\n",
       " 'sixth',\n",
       " 'went',\n",
       " 'like',\n",
       " 'this:',\n",
       " 'Lumpe',\n",
       " 'worked',\n",
       " 'a',\n",
       " 'walk',\n",
       " 'as',\n",
       " 'the',\n",
       " 'first',\n",
       " 'batter',\n",
       " 'to',\n",
       " 'face',\n",
       " 'Hyde',\n",
       " 'and',\n",
       " 'romped',\n",
       " 'around',\n",
       " 'as',\n",
       " 'Siebern',\n",
       " 'blasted',\n",
       " \"Hyde's\",\n",
       " 'next',\n",
       " 'toss',\n",
       " '415',\n",
       " 'feet',\n",
       " 'over',\n",
       " 'the',\n",
       " 'scoreboard',\n",
       " 'in',\n",
       " 'right',\n",
       " 'center.',\n",
       " 'Carey',\n",
       " 'Singles',\n",
       " 'Carey',\n",
       " 'singled',\n",
       " 'on',\n",
       " 'a',\n",
       " 'slow-bouncing',\n",
       " 'ball',\n",
       " 'to',\n",
       " 'short',\n",
       " 'which',\n",
       " 'Robinson',\n",
       " 'cut',\n",
       " 'across',\n",
       " 'to',\n",
       " 'field',\n",
       " 'and',\n",
       " 'threw',\n",
       " 'wide',\n",
       " 'to',\n",
       " 'first.',\n",
       " 'It',\n",
       " 'was',\n",
       " 'ruled',\n",
       " 'a',\n",
       " 'difficult',\n",
       " 'chance',\n",
       " 'and',\n",
       " 'a',\n",
       " 'hit.',\n",
       " 'Then',\n",
       " 'Throneberry',\n",
       " 'rapped',\n",
       " 'into',\n",
       " 'a',\n",
       " 'fast',\n",
       " 'double',\n",
       " 'play.',\n",
       " 'Breeding',\n",
       " 'to',\n",
       " 'Adair',\n",
       " 'to',\n",
       " 'Gentile,',\n",
       " 'setting',\n",
       " 'up',\n",
       " \"Tuttle's\",\n",
       " '390-foot',\n",
       " 'homer',\n",
       " 'over',\n",
       " 'the',\n",
       " 'wall',\n",
       " 'in',\n",
       " 'left',\n",
       " 'center.',\n",
       " 'If',\n",
       " 'the',\n",
       " 'Orioles',\n",
       " 'are',\n",
       " 'to',\n",
       " 'break',\n",
       " 'their',\n",
       " 'losing',\n",
       " 'streak',\n",
       " 'within',\n",
       " 'the',\n",
       " 'next',\n",
       " 'two',\n",
       " 'days,',\n",
       " 'it',\n",
       " 'will',\n",
       " 'have',\n",
       " 'to',\n",
       " 'be',\n",
       " 'at',\n",
       " 'the',\n",
       " 'expense',\n",
       " 'of',\n",
       " 'the',\n",
       " 'American',\n",
       " 'League',\n",
       " 'champion',\n",
       " 'New',\n",
       " 'York',\n",
       " 'Yankees,',\n",
       " 'who',\n",
       " 'come',\n",
       " 'in',\n",
       " 'here',\n",
       " 'tomorrow',\n",
       " 'for',\n",
       " 'a',\n",
       " 'night',\n",
       " 'game',\n",
       " 'and',\n",
       " 'a',\n",
       " 'single',\n",
       " 'test',\n",
       " 'Sunday',\n",
       " 'afternoon.',\n",
       " 'Miami,',\n",
       " 'Fla.,',\n",
       " 'March',\n",
       " '17',\n",
       " '--The',\n",
       " 'flavor',\n",
       " 'of',\n",
       " \"Baltimore's\",\n",
       " 'Florida',\n",
       " 'Grapefruit',\n",
       " 'League',\n",
       " 'news',\n",
       " 'ripened',\n",
       " 'considerably',\n",
       " 'late',\n",
       " 'today',\n",
       " 'when',\n",
       " 'the',\n",
       " 'Orioles',\n",
       " 'were',\n",
       " 'advised',\n",
       " 'that',\n",
       " 'Ron',\n",
       " 'Hansen',\n",
       " 'has',\n",
       " 'fulfilled',\n",
       " 'his',\n",
       " 'obligations',\n",
       " 'under',\n",
       " 'the',\n",
       " \"Army's\",\n",
       " 'military',\n",
       " 'training',\n",
       " 'program',\n",
       " 'and',\n",
       " 'is',\n",
       " 'ready',\n",
       " 'for',\n",
       " 'belated',\n",
       " 'spring',\n",
       " 'training.',\n",
       " 'Hansen,',\n",
       " 'who',\n",
       " 'slugged',\n",
       " 'the',\n",
       " '1960',\n",
       " 'Oriole',\n",
       " 'high',\n",
       " 'of',\n",
       " '22',\n",
       " 'homers',\n",
       " 'and',\n",
       " 'drove',\n",
       " 'in',\n",
       " '86',\n",
       " 'runs',\n",
       " 'on',\n",
       " 'a',\n",
       " 'freshman',\n",
       " 'average,',\n",
       " 'completes',\n",
       " 'the',\n",
       " \"Birds'\",\n",
       " 'spring',\n",
       " 'squad',\n",
       " 'at',\n",
       " '49',\n",
       " 'players.',\n",
       " 'The',\n",
       " 'big,',\n",
       " '22-year-old',\n",
       " 'shortstop,',\n",
       " 'the',\n",
       " '1960',\n",
       " 'American',\n",
       " 'league\"',\n",
       " 'rookie-of-the-year\",',\n",
       " 'flew',\n",
       " 'here',\n",
       " 'late',\n",
       " 'this',\n",
       " 'afternoon',\n",
       " 'from',\n",
       " 'Baltimore,',\n",
       " 'signed',\n",
       " 'his',\n",
       " 'contract',\n",
       " 'for',\n",
       " 'an',\n",
       " 'estimated',\n",
       " '$15,000',\n",
       " 'and',\n",
       " 'was',\n",
       " 'a',\n",
       " 'spectator',\n",
       " 'at',\n",
       " \"tonight's\",\n",
       " '5-to-3',\n",
       " 'loss',\n",
       " 'to',\n",
       " 'Kansas',\n",
       " 'City',\n",
       " '--the',\n",
       " 'winless',\n",
       " \"Birds'\",\n",
       " 'sixth',\n",
       " 'setback',\n",
       " 'in',\n",
       " 'a',\n",
       " 'row.',\n",
       " '15',\n",
       " 'pounds',\n",
       " 'lighter',\n",
       " 'The',\n",
       " '6-foot',\n",
       " '3-inch',\n",
       " 'Hansen',\n",
       " 'checked',\n",
       " 'in',\n",
       " 'close',\n",
       " 'to',\n",
       " '200',\n",
       " 'pounds,',\n",
       " '15',\n",
       " 'pounds',\n",
       " 'lighter',\n",
       " 'than',\n",
       " 'his',\n",
       " 'reporting',\n",
       " 'weight',\n",
       " 'last',\n",
       " 'spring.',\n",
       " 'He',\n",
       " 'hopes',\n",
       " 'to',\n",
       " 'melt',\n",
       " 'off',\n",
       " 'an',\n",
       " 'additional',\n",
       " 'eight',\n",
       " 'pounds',\n",
       " 'before',\n",
       " 'the',\n",
       " 'Flock',\n",
       " 'breaks',\n",
       " 'camp',\n",
       " 'three',\n",
       " 'weeks',\n",
       " 'hence.',\n",
       " 'When',\n",
       " 'he',\n",
       " 'was',\n",
       " 'inducted',\n",
       " 'into',\n",
       " 'the',\n",
       " 'Army',\n",
       " 'at',\n",
       " 'Fort',\n",
       " 'Knox,',\n",
       " 'Ky.,',\n",
       " \"Hansen's\",\n",
       " 'weight',\n",
       " 'had',\n",
       " 'dropped',\n",
       " 'to',\n",
       " '180',\n",
       " '--\"too',\n",
       " 'light',\n",
       " 'for',\n",
       " 'me',\n",
       " 'to',\n",
       " 'be',\n",
       " 'at',\n",
       " 'my',\n",
       " 'best\"',\n",
       " 'he',\n",
       " 'said.',\n",
       " '\"I',\n",
       " 'feel',\n",
       " 'good',\n",
       " 'physically\",',\n",
       " ...]"
      ]
     },
     "execution_count": 41,
     "metadata": {},
     "output_type": "execute_result"
    }
   ],
   "source": [
    "# API documentation here: https://www.nltk.org/api/nltk.tokenize.html\n",
    "\n",
    "# While NLTK gives you some nice capabilities with its included corpora, generally speaking\n",
    "# you have to handle tokenization yourself via the use of APIs in tools like SpaCy. Later,\n",
    "# when we get to the module where we use SpaCy we'll do some performance comparisons\n",
    "# between NLTK and SpaCy for tokenization. But for how, let's use NLTK.\n",
    "\n",
    "from nltk.tokenize import WhitespaceTokenizer\n",
    "\n",
    "WhitespaceTokenizer().tokenize(ca11_raw)"
   ]
  },
  {
   "cell_type": "code",
   "execution_count": null,
   "metadata": {
    "slideshow": {
     "slide_type": "notes"
    }
   },
   "outputs": [],
   "source": [
    "# Exercise 1: Whitespace tokenization\n",
    "\n",
    "# How many tokens are there?\n",
    "\n",
    "# YOUR SOLUTION HERE\n",
    "\n",
    "# What do you see that looks like a problem?"
   ]
  },
  {
   "cell_type": "code",
   "execution_count": null,
   "metadata": {
    "slideshow": {
     "slide_type": "notes"
    }
   },
   "outputs": [],
   "source": [
    "# Exercise 2: Regular expression tokenization\n",
    "\n",
    "#https://www.nltk.org/api/nltk.tokenize.html#nltk.tokenize.regexp.RegexpTokenizer\n",
    "from nltk.tokenize import RegexpTokenizer\n",
    "\n",
    "# From the documentation this is a tokenizer that splits a string using a regular expression,\n",
    "# which matches either the tokens or the separators between tokens.\n",
    "\n",
    "# tokenizer = RegexpTokenizer('\\w+|\\$[\\d\\.]+|\\S+')\n",
    "\n",
    "# Tokenization is a task you need to become proficient with. Sometimes included\n",
    "# tokenizers do what you want, but other times you will need to provide additional\n",
    "# pre-processing to ensure text is tokenized the way you would like it to be.\n",
    "\n",
    "# With some help from rexpr, write a regular expression that tokenizes the text,\n",
    "# handling the problems you noted above.\n",
    "\n",
    "# YOUR SOLUTION HERE\n",
    "\n",
    "# How many tokens are there?\n",
    "\n",
    "# YOUR SOLUTION HERE\n",
    "\n",
    "# Could you fix everything you noted was wrong from the Whitespace tokenizer?\n"
   ]
  },
  {
   "cell_type": "code",
   "execution_count": null,
   "metadata": {
    "slideshow": {
     "slide_type": "notes"
    }
   },
   "outputs": [],
   "source": [
    "# Exercise 3: Tagged Text\n",
    "\n",
    "# One of the really neat things about the Brown Corpus (and others like it), are the additional annotations\n",
    "# that give you more information about the text and word distributions in it.\n",
    "# NLTK includes a probability module with the ability to collect conditional frequency\n",
    "# distribution over tokens in text.\n",
    "\n",
    "# Let's switch to the entire Brown corpus now, and also use the tokenization provided by\n",
    "# the Text object.\n",
    "\n",
    "# API documentation here:\n",
    "# https://www.nltk.org/api/nltk.html#nltk.probability.ConditionalFreqDist\n",
    "\n",
    "from nltk.probability import ConditionalFreqDist\n",
    "from nltk.probability import FreqDist\n",
    "\n",
    "# From the documentation, A frequency distribution records the number of times\n",
    "# each outcome of an experiment has occurred. For example, a frequency distribution\n",
    "# could be used to record the frequency of each word type in a document.\n",
    "\n",
    "# fdist = FreqDist(word.lower() for word in word_tokenize(sent))\n",
    "\n",
    "# Conditional frequency distributions are used to record the number of times each sample\n",
    "# occurred, given the condition under which the experiment was run.\n",
    "# For example, a conditional frequency distribution could be\n",
    "# used to record the frequency of each word (type) in a document, given its length.\n",
    "\n"
   ]
  },
  {
   "cell_type": "code",
   "execution_count": null,
   "metadata": {
    "slideshow": {
     "slide_type": "notes"
    }
   },
   "outputs": [],
   "source": [
    "# Exercise 3: Tagged text (continued)\n",
    "\n",
    "# What we'd like to do now is look at combinations of word types and tags in the Brown Corpus.\n",
    "\n",
    "freq_dist = FreqDist()\n",
    "cond_freq_dist = ConditionalFreqDist()\n",
    "\n",
    "# Tagged words are already in tuples\n",
    "brown.tagged_words()[:10]"
   ]
  },
  {
   "cell_type": "code",
   "execution_count": null,
   "metadata": {},
   "outputs": [],
   "source": [
    "# Given a word, list the possible tags for that word with its frequency count.\n",
    "\n",
    "# Example: a particular word should generate a list like [('nn', 12), ('vb', 22)]\n",
    "# Then you might need to sort and reverse a list of tuples\n",
    "# such as word_freq = [(y,x) for (x,y) in freq_word]\n",
    "\n",
    "# YOUR SOLUTION HERE"
   ]
  },
  {
   "cell_type": "code",
   "execution_count": null,
   "metadata": {
    "slideshow": {
     "slide_type": "notes"
    }
   },
   "outputs": [],
   "source": [
    "# Exercise 4: Ambiguous words\n",
    "\n",
    "# Find the word which have the greatest variety of tags.\n",
    "\n",
    "# YOUR SOLUTION HERE\n"
   ]
  },
  {
   "cell_type": "code",
   "execution_count": null,
   "metadata": {
    "slideshow": {
     "slide_type": "notes"
    }
   },
   "outputs": [],
   "source": [
    "# Exercise 5: Ambiguity in the corpus\n",
    "\n",
    "# How many ambiguous word types are there?\n",
    "\n",
    "# YOUR SOLUTION HERE\n",
    "\n",
    "# What is the percentage of ambiguous words across the entire vocabulary?\n",
    "\n",
    "# YOUR SOLUTION HERE"
   ]
  },
  {
   "cell_type": "code",
   "execution_count": null,
   "metadata": {},
   "outputs": [],
   "source": [
    "# Exercise 6: Heap's Law\n",
    "\n",
    "# Someone has largely done the work for you... but go through and plot Heap's curve\n",
    "# (types versus tokens) on the Brown corpus.\n",
    "# https://github.com/martinapugliese/the-talking-data/blob/master/quantifying-natural-languages/Heaps's%20laws%20different%20languages.ipynb"
   ]
  }
 ],
 "metadata": {
  "jupytext": {
   "cell_metadata_filter": "slideshow,-all",
   "formats": "ipynb,md",
   "notebook_metadata_filter": "-all",
   "text_representation": {
    "extension": ".md",
    "format_name": "markdown"
   }
  },
  "kernelspec": {
   "display_name": "Python 3",
   "language": "python",
   "name": "python3"
  },
  "language_info": {
   "codemirror_mode": {
    "name": "ipython",
    "version": 3
   },
   "file_extension": ".py",
   "mimetype": "text/x-python",
   "name": "python",
   "nbconvert_exporter": "python",
   "pygments_lexer": "ipython3",
   "version": "3.7.3"
  }
 },
 "nbformat": 4,
 "nbformat_minor": 2
}
