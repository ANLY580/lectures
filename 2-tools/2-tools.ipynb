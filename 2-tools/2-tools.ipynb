{
 "cells": [
  {
   "cell_type": "code",
   "execution_count": null,
   "metadata": {
    "slideshow": {
     "slide_type": "skip"
    }
   },
   "outputs": [],
   "source": [
    "---\n",
    "jupyter:\n",
    "  jupytext:\n",
    "    cell_markers: region,endregion\n",
    "    comment_magics: false\n",
    "    formats: ipynb,.pct.py:hydrogen,Rmd,md\n",
    "    text_representation:\n",
    "      extension: .py\n",
    "      format_name: hydrogen\n",
    "      format_version: '1.1'\n",
    "      jupytext_version: 1.1.5\n",
    "  kernelspec:\n",
    "    display_name: Python 3\n",
    "    language: python\n",
    "    name: python3\n",
    "---"
   ]
  },
  {
   "cell_type": "markdown",
   "metadata": {
    "slideshow": {
     "slide_type": "slide"
    }
   },
   "source": [
    "*ANLY 580: Natural Language Processing for Data Analytics* <br>\n",
    "*Fall 2019* <br>\n",
    "# 2. Tools"
   ]
  },
  {
   "cell_type": "markdown",
   "metadata": {
    "slideshow": {
     "slide_type": "slide"
    }
   },
   "source": [
    "# Today's Plan\n",
    "- Overview of tools\n",
    "- Tokenization\n",
    "- Hands-on Practicum"
   ]
  },
  {
   "cell_type": "markdown",
   "metadata": {
    "slideshow": {
     "slide_type": "notes"
    }
   },
   "source": [
    "\n",
    "Basically, today I want to make sure that everyone is able to work with NLTK and Python.\n",
    "\n",
    "If you are unfamiliar with Linux, it's important to work through the tutorial for that. I've included the some references for the commands that Jurafsky used for text processing in Linux in the [supplement file here](https://anyl580.github.io/syllabus/2-Tools.html).\n",
    "\n",
    "This Jupyter Notebook\n",
    "\n",
    "[Regular Expressions](https://georgetown.instructure.com/files/2884565/download?download_frd=1)\n"
   ]
  }
 ],
 "metadata": {
  "jupytext": {
   "cell_metadata_filter": "slideshow,-all",
   "comment_magics": false,
   "notebook_metadata_filter": "-all",
   "text_representation": {
    "extension": ".md",
    "format_name": "markdown"
   }
  },
  "kernelspec": {
   "display_name": "Python 3",
   "language": "python",
   "name": "python3"
  },
  "language_info": {
   "codemirror_mode": {
    "name": "ipython",
    "version": 3
   },
   "file_extension": ".py",
   "mimetype": "text/x-python",
   "name": "python",
   "nbconvert_exporter": "python",
   "pygments_lexer": "ipython3",
   "version": "3.7.3"
  }
 },
 "nbformat": 4,
 "nbformat_minor": 2
}
