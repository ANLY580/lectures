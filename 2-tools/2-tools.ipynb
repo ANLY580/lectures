{
 "cells": [
  {
   "cell_type": "code",
   "execution_count": null,
   "metadata": {
    "slideshow": {
     "slide_type": "skip"
    }
   },
   "outputs": [],
   "source": [
    "---\n",
    "jupyter:\n",
    "  jupytext:\n",
    "    cell_markers: region,endregion\n",
    "    comment_magics: false\n",
    "    formats: ipynb,.pct.py:hydrogen,Rmd,md\n",
    "    text_representation:\n",
    "      extension: .py\n",
    "      format_name: hydrogen\n",
    "      format_version: '1.1'\n",
    "      jupytext_version: 1.1.5\n",
    "  kernelspec:\n",
    "    display_name: Python 3\n",
    "    language: python\n",
    "    name: python3\n",
    "---"
   ]
  },
  {
   "cell_type": "markdown",
   "metadata": {
    "slideshow": {
     "slide_type": "slide"
    }
   },
   "source": [
    "*ANLY 580: Natural Language Processing for Data Analytics* <br>\n",
    "*Fall 2019* <br>\n",
    "# 2. Tools"
   ]
  },
  {
   "cell_type": "markdown",
   "metadata": {
    "slideshow": {
     "slide_type": "slide"
    }
   },
   "source": [
    "# Today's Plan\n",
    "- Overview of tools\n",
    "- Hands-on: Tokenization"
   ]
  },
  {
   "cell_type": "markdown",
   "metadata": {
    "slideshow": {
     "slide_type": "notes"
    }
   },
   "source": [
    "Basically, today I want to make sure that everyone is able to work with NLTK and Python.\n",
    "\n",
    "If you are unfamiliar with Linux, it's important to work through the tutorial for that. I've included the some references for the commands that Jurafsky used for text processing in Linux in the [supplement file here](https://anyl580.github.io/syllabus/2-Tools.html)."
   ]
  },
  {
   "cell_type": "markdown",
   "metadata": {
    "slideshow": {
     "slide_type": "slide"
    }
   },
   "source": [
    "# What you should do BEFORE class\n",
    "\n",
    "- Reading (you know this)\n",
    "- Watch associated J&M videos\n",
    "- Look at the lecture supplement"
   ]
  },
  {
   "cell_type": "markdown",
   "metadata": {
    "slideshow": {
     "slide_type": "notes"
    }
   },
   "source": [
    "There's little point in my regurgitating the reading -- particularly when Jurafsky and Manning do so well explaining the concepts. Plus, your quizzes assume you did this work. So I'll be focusing on context -- what you can't get directly from J&M or the readings."
   ]
  },
  {
   "cell_type": "markdown",
   "metadata": {
    "slideshow": {
     "slide_type": "slide"
    }
   },
   "source": [
    "# Tools\n",
    "- Development tools\n",
    "- Industrial tools"
   ]
  },
  {
   "cell_type": "markdown",
   "metadata": {
    "slideshow": {
     "slide_type": "slide"
    }
   },
   "source": [
    "# Hands-on: Tokenization"
   ]
  },
  {
   "cell_type": "markdown",
   "metadata": {
    "slideshow": {
     "slide_type": "notes"
    }
   },
   "source": [
    "For the remainder of this session, walk through the material here and in the supplemental and we'll make sure everyone is set with GitHub and the basics before we move on to language modeling (next week)."
   ]
  },
  {
   "cell_type": "code",
   "execution_count": null,
   "metadata": {
    "slideshow": {
     "slide_type": "notes"
    }
   },
   "outputs": [],
   "source": [
    "# If you are not working in binder, uncomment any import statements in the blocks below.\n",
    "\n",
    "import nltk"
   ]
  },
  {
   "cell_type": "markdown",
   "metadata": {
    "slideshow": {
     "slide_type": "notes"
    }
   },
   "source": [
    "You'll need also to have the brown corpus (or any others that interest you). Again, if you are not in binder, you can use the following to download corpora. But this command you type in your terminal. Make sure you are in the same environment as your Jupyter notebook. If you don't know what this means, it's likely not an issue.\n",
    "\n",
    "**python -m nltk.downloader brown**\n",
    "\n",
    "We've also included versions of the tagged and untagged brown corpora in Canvas and in the lectures repository. When you git clone the repo (https://help.github.com/en/desktop/contributing-to-projects/cloning-a-repository-from-github-to-github-desktop),you will get copies of these. If you are working in R, you may need to do this.\n",
    "\n",
    "Also in the repo are two individual files from the brown corpus. If you are new to Python, you also need to learn how to load files not included in libraries. These will give you an opportunity to do so."
   ]
  },
  {
   "cell_type": "markdown",
   "metadata": {
    "slideshow": {
     "slide_type": "notes"
    }
   },
   "source": [
    "Hopefully, you've already browsed through chapters 1 & 2 in NLTK. We'll be working from material in **chapter 3** this week and again in the fourth session of this class when we begin to learn about language modeling.\n"
   ]
  },
  {
   "cell_type": "code",
   "execution_count": null,
   "metadata": {
    "slideshow": {
     "slide_type": "notes"
    }
   },
   "outputs": [],
   "source": [
    "from nltk.corpus import brown"
   ]
  },
  {
   "cell_type": "code",
   "execution_count": null,
   "metadata": {
    "slideshow": {
     "slide_type": "notes"
    }
   },
   "outputs": [],
   "source": [
    "# In your anaconda distribution, you should be able to use basic unix commands. \n",
    "# For example, try the ls command below to make sure this is the case.\n",
    "\n",
    "!ls"
   ]
  },
  {
   "cell_type": "code",
   "execution_count": null,
   "metadata": {
    "slideshow": {
     "slide_type": "notes"
    }
   },
   "outputs": [],
   "source": [
    "# call.txt has no line breaks. Note what happens when you use the head command.\n",
    "!head ca11.txt"
   ]
  },
  {
   "cell_type": "code",
   "execution_count": null,
   "metadata": {
    "slideshow": {
     "slide_type": "notes"
    }
   },
   "outputs": [],
   "source": [
    "# Another way to view this file using standard Python is the following. \n",
    "# This time, we are only reading some number of chracters.\n",
    "# I'm a fan of realpython and if you are uncomfortable with basics in Python, check it out.\n",
    "# https://realpython.com/read-write-files-python/\n",
    "# The command below ensures that your file is closed after the block is executed.\n",
    "\n",
    "with open('ca11.txt') as file:\n",
    "    print(file.read(20))\n",
    "    ca11_raw = file.read()"
   ]
  },
  {
   "cell_type": "code",
   "execution_count": null,
   "metadata": {
    "slideshow": {
     "slide_type": "notes"
    }
   },
   "outputs": [],
   "source": [
    "# That said, you have some neat functions already packaged in NLTK to make things easier.\n",
    "# For example:\n",
    "\n",
    "brown.sents('ca11')"
   ]
  },
  {
   "cell_type": "code",
   "execution_count": null,
   "metadata": {
    "slideshow": {
     "slide_type": "notes"
    }
   },
   "outputs": [],
   "source": [
    "# Okay, so let's play with tokenizers on a single file from Brown\n",
    "\n",
    "from nltk.text import Text\n",
    "ca11 = nltk.Text(brown.words(fileids=['ca11']))\n",
    "\n",
    "# Note that if you are using the Text object that your text in ca11 is accessible via methods on this object."
   ]
  },
  {
   "cell_type": "code",
   "execution_count": null,
   "metadata": {
    "slideshow": {
     "slide_type": "notes"
    }
   },
   "outputs": [],
   "source": [
    "ca11.count(\"the\")\n",
    "ca11.concordance(\"start\")\n",
    "ca11.vocab()"
   ]
  },
  {
   "cell_type": "code",
   "execution_count": null,
   "metadata": {
    "slideshow": {
     "slide_type": "notes"
    }
   },
   "outputs": [],
   "source": [
    "# API documentation here: https://www.nltk.org/api/nltk.tokenize.html\n",
    "\n",
    "# While NLTK gives you some nice capabilities with its included corpora, generally speaking\n",
    "# you have to handle tokenization yourself via the use of APIs in tools like SpaCy. Later, \n",
    "# when we get to the module where we use SpaCy we'll do some performance comparisons\n",
    "# between NLTK and SpaCy for tokenization. But for how, let's use NLTK.\n",
    "\n",
    "from nltk.tokenize import WhitespaceTokenizer\n",
    "\n",
    "WhitespaceTokenizer().tokenize(ca11_raw)"
   ]
  },
  {
   "cell_type": "code",
   "execution_count": null,
   "metadata": {
    "slideshow": {
     "slide_type": "notes"
    }
   },
   "outputs": [],
   "source": [
    "# Exercise 1: Whitespace tokenization\n",
    "\n",
    "# How many tokens are there?\n",
    "\n",
    "# YOUR SOLUTION HERE\n",
    "\n",
    "# What do you see that looks like a problem?"
   ]
  },
  {
   "cell_type": "code",
   "execution_count": 88,
   "metadata": {
    "slideshow": {
     "slide_type": "slide"
    }
   },
   "outputs": [],
   "source": [
    "# Exercise 2: Regular expression tokenization\n",
    "\n",
    "#https://www.nltk.org/api/nltk.tokenize.html#nltk.tokenize.regexp.RegexpTokenizer\n",
    "from nltk.tokenize import RegexpTokenizer\n",
    "\n",
    "# From the documentation this is a tokenizer that splits a string using a regular expression, \n",
    "# which matches either the tokens or the separators between tokens.\n",
    "\n",
    "# tokenizer = RegexpTokenizer('\\w+|\\$[\\d\\.]+|\\S+')\n",
    "\n",
    "# Tokenization is a task you need to become proficient with. Sometimes included\n",
    "# tokenizers do what you want, but other times you will need to provide additional\n",
    "# pre-processing to ensure text is tokenized the way you would like it to be.\n",
    "\n",
    "# With some help from rexpr, write a regular expression that tokenizes the text, \n",
    "# handling the problems you noted above.\n",
    "\n",
    "# YOUR SOLUTION HERE\n",
    "\n",
    "# How many tokens are there?\n",
    "\n",
    "# YOUR SOLUTION HERE\n",
    "\n",
    "# Could you fix everything you noted was wrong from the Whitespace tokenizer?\n"
   ]
  },
  {
   "cell_type": "code",
   "execution_count": null,
   "metadata": {
    "slideshow": {
     "slide_type": "notes"
    }
   },
   "outputs": [],
   "source": [
    "# Exercise 3: Tagged Text\n",
    "\n",
    "# One of the really neat things about the Brown Corpus (and others like it), are the additional annotations\n",
    "# that give you more information about the text and word distributions in it.\n",
    "# NLTK includes a probability module with the ability to collect conditional frequency \n",
    "# distribution over tokens in text.\n",
    "\n",
    "# Let's switch to the entire Brown corpus now, and also use the tokenization provided by \n",
    "# the Text object.\n",
    "\n",
    "# API documentation here:\n",
    "# https://www.nltk.org/api/nltk.html#nltk.probability.ConditionalFreqDist\n",
    "\n",
    "from nltk.probability import ConditionalFreqDist\n",
    "from nltk.probability import FreqDist\n",
    "\n",
    "# From the documentation, A frequency distribution records the number of times \n",
    "# each outcome of an experiment has occurred. For example, a frequency distribution \n",
    "# could be used to record the frequency of each word type in a document.\n",
    "\n",
    "# fdist = FreqDist(word.lower() for word in word_tokenize(sent))\n",
    "\n",
    "# Conditional frequency distributions are used to record the number of times each sample \n",
    "# occurred, given the condition under which the experiment was run. \n",
    "# For example, a conditional frequency distribution could be \n",
    "# used to record the frequency of each word (type) in a document, given its length.\n",
    "\n"
   ]
  },
  {
   "cell_type": "code",
   "execution_count": 95,
   "metadata": {
    "slideshow": {
     "slide_type": "notes"
    }
   },
   "outputs": [
    {
     "data": {
      "text/plain": [
       "[('The', 'AT'),\n",
       " ('Fulton', 'NP-TL'),\n",
       " ('County', 'NN-TL'),\n",
       " ('Grand', 'JJ-TL'),\n",
       " ('Jury', 'NN-TL'),\n",
       " ('said', 'VBD'),\n",
       " ('Friday', 'NR'),\n",
       " ('an', 'AT'),\n",
       " ('investigation', 'NN'),\n",
       " ('of', 'IN')]"
      ]
     },
     "execution_count": 95,
     "metadata": {},
     "output_type": "execute_result"
    }
   ],
   "source": [
    "# Exercise 3: Tagged text (continued)\n",
    "\n",
    "# What we'd like to do now is look at combinations of word types and tags in the Brown Corpus.\n",
    "\n",
    "freq_dist = FreqDist()\n",
    "cond_freq_dist = ConditionalFreqDist()\n",
    "\n",
    "# Tagged words are already in tuples\n",
    "brown.tagged_words()[:10]"
   ]
  },
  {
   "cell_type": "code",
   "execution_count": null,
   "metadata": {},
   "outputs": [],
   "source": [
    "# Given a word, list the possible tags for that word with its frequency count.\n",
    "\n",
    "# Example: a particular word should generate a list like [('nn', 12), ('vb', 22)]\n",
    "# Then you might need to sort and reverse a list of tuples\n",
    "# such as word_freq = [(y,x) for (x,y) in freq_word]\n",
    "\n",
    "# YOUR SOLUTION HERE"
   ]
  },
  {
   "cell_type": "code",
   "execution_count": null,
   "metadata": {
    "slideshow": {
     "slide_type": "notes"
    }
   },
   "outputs": [],
   "source": [
    "# Exercise 3: Tagged text (continued)\n",
    "\n",
    "# Write a function that takes a word and gives you a frequency distribution\n",
    "\n",
    "# YOUR SOLUTION HERE\n",
    "\n",
    "\n",
    "# Write a function that takes a word and gives you a probability distribution\n",
    "\n",
    "# YOUR SOLUTION HERE\n"
   ]
  },
  {
   "cell_type": "code",
   "execution_count": 96,
   "metadata": {
    "slideshow": {
     "slide_type": "notes"
    }
   },
   "outputs": [],
   "source": [
    "# Exercise 4: Ambiguous words\n",
    "\n",
    "# Find the word which have the greatest variety of tags.\n",
    "\n",
    "# YOUR SOLUTION HERE\n"
   ]
  },
  {
   "cell_type": "code",
   "execution_count": null,
   "metadata": {
    "slideshow": {
     "slide_type": "notes"
    }
   },
   "outputs": [],
   "source": [
    "# Exercise 5: Ambiguity in the corpus\n",
    "\n",
    "# How many ambiguous word types are there? \n",
    "\n",
    "# YOUR SOLUTION HERE\n",
    "\n",
    "# What is the percentage of ambiguous words across the entire vocabulary?\n",
    "\n",
    "# YOUR SOLUTION HERE"
   ]
  }
 ],
 "metadata": {
  "celltoolbar": "Slideshow",
  "jupytext": {
   "cell_metadata_filter": "slideshow,-all",
   "comment_magics": false,
   "formats": "ipynb,md",
   "notebook_metadata_filter": "-all"
  },
  "kernelspec": {
   "display_name": "Python 3",
   "language": "python",
   "name": "python3"
  },
  "language_info": {
   "codemirror_mode": {
    "name": "ipython",
    "version": 3
   },
   "file_extension": ".py",
   "mimetype": "text/x-python",
   "name": "python",
   "nbconvert_exporter": "python",
   "pygments_lexer": "ipython3",
   "version": "3.7.3"
  }
 },
 "nbformat": 4,
 "nbformat_minor": 2
}
