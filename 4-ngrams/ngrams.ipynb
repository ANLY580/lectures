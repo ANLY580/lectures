{
 "cells": [
  {
   "cell_type": "markdown",
   "metadata": {
    "slideshow": {
     "slide_type": "skip"
    }
   },
   "source": [
    "\n",
    "---\n",
    "jupyter:\n",
    "  jupytext:\n",
    "    cell_markers: region,endregion\n",
    "    comment_magics: false\n",
    "    formats: ipynb,.pct.py:hydrogen,Rmd,md\n",
    "    text_representation:\n",
    "      extension: .md\n",
    "      format_name: percent\n",
    "      format_version: '1.1'\n",
    "      jupytext_version: 1.1.5\n",
    "  kernelspec:\n",
    "    display_name: Python 3\n",
    "    language: python\n",
    "    name: python3\n",
    "---"
   ]
  },
  {
   "cell_type": "markdown",
   "metadata": {
    "slideshow": {
     "slide_type": "slide"
    }
   },
   "source": [
    "*ANLY 580: Natural Language Processing for Data Analytics* <br>\n",
    "*Fall 2019* <br>\n",
    "# 4. Language Modeling"
   ]
  },
  {
   "cell_type": "markdown",
   "metadata": {
    "slideshow": {
     "slide_type": "slide"
    }
   },
   "source": [
    "# Objectives\n",
    "* Big ideas so far\n",
    "* Language modeling (ngrams)\n",
    "* Norvig's Jupyter notebook\n",
    "* Other associational models"
   ]
  },
  {
   "cell_type": "markdown",
   "metadata": {
    "slideshow": {
     "slide_type": "notes"
    }
   },
   "source": [
    "# More detailed topics\n",
    "* Big ideas so far\n",
    "* A conundrum: Flesch reading score\n",
    "* Language models\n",
    "    * unigram model (bag of words)\n",
    "    * noisy channel\n",
    "    * ngrams\n",
    "* Some properties of ngrams\n",
    "* Calculating ngrams\n",
    "* Evaluating model fit\n",
    "* Other associational models"
   ]
  },
  {
   "cell_type": "markdown",
   "metadata": {
    "lines_to_next_cell": 2,
    "slideshow": {
     "slide_type": "slide"
    }
   },
   "source": [
    "# Big ideas so far\n",
    "* Variability\n",
    "* Ambiguity\n",
    "* Tokenizers\n",
    "* Multilingual\n",
    "* Pipelines"
   ]
  },
  {
   "cell_type": "markdown",
   "metadata": {
    "slideshow": {
     "slide_type": "notes"
    }
   },
   "source": [
    "* **Language** is highly **variable** -- it requires context for understanding. The *distributional hypothesis* posits linguistic items with similar distributions share similar meanings. And distributional properties of language extend to other sorts of similarity measures (e.g., POS, named entities, etc.). This is one of the most important ideas in NLP today.\n",
    "\n",
    "* In this chapter on language modeling, J&M make reference to this idea when talking about *Kneser-Ney discounting* (n-gram smoothing) such that we'd like to use **distributional properties** beyond **absolute frequency** when making predictions with bigrams. (The example was \"kong\" versus \"glasses\" when the phrase \"Hong Kong\" is frequent in a corpus, but \"glasses\" has a wider distribution.)\n",
    "\n",
    "* One manifestation of the value of the distributional nature of language use is **ambiguity** of meaning in words (e.g., 'bank' institution versus 'bank' verb versus bank of a river). We use surrounding context for understanding.\n",
    "\n",
    "* **There is no clear definition of a word**. You will always have decisions to make when tokenizing.\n",
    "\n",
    "* Choose your tokenizer based on the data, task, and **fit** if you are matching on hashes, model, index etc.\n",
    "\n",
    "* You can check your assumption by looking at **out-of-vocabulary** words.\n",
    "\n",
    "* **Multilingual processing** requires even more care since each language and script pair has its own considerations and you will encounter situations where the problems are not **visible**.\n",
    "\n",
    "* Language processing typically requires **pipeline processes** where analysis occurs in steps. For some processes, the order may matter."
   ]
  },
  {
   "cell_type": "markdown",
   "metadata": {
    "slideshow": {
     "slide_type": "slide"
    }
   },
   "source": [
    "# Is this bad science?\n",
    "![](../images/flesch.jpg)"
   ]
  },
  {
   "cell_type": "markdown",
   "metadata": {
    "slideshow": {
     "slide_type": "notes"
    }
   },
   "source": [
    "> The Globe reviewed the language used by 19 presidential candidates, Democrats and Republicans, in speeches announcing their campaigns for the 2016 presidential election. The review, using a common algorithm called the Flesch-Kincaid readability test that crunches word choice and sentence structure and spits out grade-level rankings, produced some striking results."
   ]
  },
  {
   "cell_type": "markdown",
   "metadata": {
    "slideshow": {
     "slide_type": "slide"
    }
   },
   "source": [
    "# What is Flesch-Kincaid?\n",
    "![](../images/flesch-kincaid-chart.jpg)"
   ]
  },
  {
   "cell_type": "markdown",
   "metadata": {
    "lines_to_next_cell": 0,
    "slideshow": {
     "slide_type": "notes"
    }
   },
   "source": [
    "From Wikipedia:\n",
    "> The Flesch-Kincaid readability tests are readability tests designed to indicate how difficult a passage in English is to understand. There are two tests, the Flesch Reading Ease, and the Flesch-Kincaid Grade Level. Although they use the same core measures (word length and sentence length), they have different weighting factors.\n",
    "\n",
    "Original article on [\"How to write plain English\" (Flesch)](https://web.archive.org/web/20160712094308/http://www.mang.canterbury.ac.nz/writing_guide/writing/flesch.shtml)\n",
    "\n",
    "From the paper:\n",
    "\n",
    "> Step 1. Count the words.\n",
    "Count the words in your piece of writing. Count as single words contractions, hyphenated words, abbreviations, figures, symbols and their combinations, e.g., wouldn't, full-length, TV, 17, &, $15, 7%.\n",
    "\n",
    "> Step 2. Count the syllables.\n",
    "Count the syllables in your piece of writing. Count the syllables in words as they are pronounced. Count abbreviations, figures, symbols and their combinations as one-syllable words. If a word has two accepted pronunciations, use the one with fewer syllables. If in doubt, check a dictionary.\n",
    "\n",
    ">Step 3. Count the sentences.\n",
    "Count the sentences in your piece of writing. Count as a sentence each full unit of speech marked off by a period, colon, semicolon, dash, question mark or exclamation point. Disregard paragraph breaks, colons, semicolons, dashes or initial capitals within a sentence. For instance, count the following as a single sentence:\n",
    "You qualify if-\n",
    "You are at least 58 years old; and\n",
    "Your total household income is under $5,000.\n",
    "\n",
    ">Step 4. Figure the average number of syllables per word.\n",
    "Divide the number of syllables by the number of words.\n",
    "\n",
    ">Step 5. Figure the average number of words per sentence.\n",
    "Divide the number of words by the number of sentences.\n",
    "\n",
    ">Step 6. Find your readability score.\n",
    "\n",
    ">Find the average sentence length and word length of your piece of writing on the chart (below). Take a straightedge or ruler and connect the two figures. The intersection of the straightedge or ruler with the center column shows your readability score."
   ]
  },
  {
   "cell_type": "markdown",
   "metadata": {
    "slideshow": {
     "slide_type": "slide"
    }
   },
   "source": [
    "![](../images/flesch-kincaid-formula.jpg)"
   ]
  },
  {
   "cell_type": "code",
   "execution_count": 1,
   "metadata": {
    "lines_to_next_cell": 0,
    "slideshow": {
     "slide_type": "notes"
    }
   },
   "outputs": [
    {
     "data": {
      "text/plain": [
       "52.23"
      ]
     },
     "execution_count": 1,
     "metadata": {},
     "output_type": "execute_result"
    }
   ],
   "source": [
    "import textstat\n",
    "\n",
    "test_data = (\n",
    "    \"Playing games has always been thought to be important to \"\n",
    "    \"the development of well-balanced and creative children; \"\n",
    "    \"however, what part, if any, they should play in the lives \"\n",
    "    \"of adults has never been researched that deeply. I believe \"\n",
    "    \"that playing games is every bit as important for adults \"\n",
    "    \"as for children. Not only is taking time out to play games \"\n",
    "    \"with our children and other adults valuable to building \"\n",
    "    \"interpersonal relationships but is also a wonderful way \"\n",
    "    \"to release built up tension.\"\n",
    ")\n",
    "\n",
    "textstat.flesch_reading_ease(test_data)"
   ]
  },
  {
   "cell_type": "code",
   "execution_count": 9,
   "metadata": {
    "slideshow": {
     "slide_type": "notes"
    }
   },
   "outputs": [
    {
     "data": {
      "text/plain": [
       "4"
      ]
     },
     "execution_count": 9,
     "metadata": {},
     "output_type": "execute_result"
    }
   ],
   "source": [
    "# There are also utilities in NLTK that make it easy for you to code this yourself. For example, you can count syllables using cmudict.\n",
    "\n",
    "# For more languages, there is a library called pyphen. https://pyphen.org\n",
    "\n",
    "from nltk.corpus import cmudict\n",
    "from curses.ascii import isdigit\n",
    "\n",
    "d = cmudict.dict()\n",
    "\n",
    "def count_syllables(word):\n",
    "    return([len(list(y for y in x if isdigit(y[-1]))) for x in d[word.lower()]][0])\n",
    "\n",
    "num_syllables = count_syllables(\"estimation\")\n",
    "#num_syllables = count_syllables(\"supercalifragilisticexpialidocious\")\n",
    "num_syllables"
   ]
  },
  {
   "cell_type": "markdown",
   "metadata": {
    "slideshow": {
     "slide_type": "slide"
    }
   },
   "source": [
    "# Is this bad science?\n",
    "![](../images/social.jpg)"
   ]
  },
  {
   "cell_type": "markdown",
   "metadata": {
    "slideshow": {
     "slide_type": "notes"
    }
   },
   "source": [
    "Articles like the one referenced earlier pop up on a seemingly regular basis. Often, the author is analyzing the *speech* of a speaker and not formal, written text.\n",
    "\n",
    "Do you see a problem with this?"
   ]
  },
  {
   "cell_type": "markdown",
   "metadata": {
    "slideshow": {
     "slide_type": "slide"
    }
   },
   "source": [
    "![](../images/flesch-kincaid.png)"
   ]
  },
  {
   "cell_type": "markdown",
   "metadata": {
    "slideshow": {
     "slide_type": "notes"
    }
   },
   "source": [
    "<a target=\"_blank\" href=\"https://www.bostonglobe.com/news/politics/2015/10/20/donald-trump-and-ben-carson-speak-grade-school-level-that-today-voters-can-quickly-grasp/LUCBY6uwQAxiLvvXbVTSUN/story.html\">Boston Globe: Oct 20, 2015</a>\n",
    "\n",
    "\"The Globe reviewed the language used by 19 presidential candidates, Democrats and Republicans, in speeches announcing their campaigns for the 2016 presidential election. The review, using a common algorithm called the **Flesch-Kincaid readability test** that crunches word choice and sentence structure and spits out grade-level rankings, produced some striking results.\"\n",
    "\n",
    "\"The Republican candidates - like Trump - who are speaking at a level easily understood by people at the lower end of the education spectrum are outperforming their highfalutin opponents in the polls. Simpler language resonates with a broader swath of voters in an era of 140-character Twitter tweets and 10-second television sound bites, say specialists on political speech.\""
   ]
  },
  {
   "cell_type": "markdown",
   "metadata": {
    "lines_to_next_cell": 0,
    "slideshow": {
     "slide_type": "slide"
    }
   },
   "source": [
    "* Language models"
   ]
  },
  {
   "cell_type": "markdown",
   "metadata": {
    "slideshow": {
     "slide_type": "notes"
    }
   },
   "source": [
    "Flesch-Kincaid is a very simple model intended to capture readability. It's not very complicated, but it is nonetheless mis-used. If you are a statistician, you can think about this as a problem in validity.\n",
    "\n",
    "Now we're going to discuss language models. The type of language modeling that we're discussing is a very general purpose technique for NLP, though it was designed early on for Speech Recognition.\n",
    "\n",
    "Hopefully, you've read chapter 3 of J&M and also watched the videos. I'm not going to cover all those same details, but I will highlight a few important points."
   ]
  },
  {
   "cell_type": "markdown",
   "metadata": {
    "slideshow": {
     "slide_type": "slides"
    }
   },
   "source": [
    "# Norvig (2) Unigram model or bag of words\n",
    "https://nbviewer.jupyter.org/url/norvig.com/ipython/How%20to%20Do%20Things%20with%20Words.ipynb"
   ]
  },
  {
   "cell_type": "markdown",
   "metadata": {
    "slideshow": {
     "slide_type": "slides"
    }
   },
   "source": [
    "![](../images/noisy-channel-model.jpg)"
   ]
  },
  {
   "cell_type": "markdown",
   "metadata": {
    "slideshow": {
     "slide_type": "slides"
    }
   },
   "source": [
    "Images from: Julia Hirschberg, http://fayllar.org/julia-hirschberg-v2.html\n",
    "\n",
    "The basic idea is that we have a noisy channel where we need to pick the best sentence/word/letter by picking the most likely.\n",
    "\n",
    "It's easy to see the similarity between a noisy channel model for speech recognition, optical character recognition and machine translation."
   ]
  },
  {
   "cell_type": "markdown",
   "metadata": {
    "slideshow": {
     "slide_type": "slides"
    }
   },
   "source": [
    "![](../images/noisy-channel-spelling.jpg)"
   ]
  },
  {
   "cell_type": "markdown",
   "metadata": {
    "slideshow": {
     "slide_type": "slides"
    }
   },
   "source": [
    "Images from:\n",
    "\n",
    "Here is the same problem but in the context of spelling. Here you can imagine a document where there are spelling errors.\n",
    "\n",
    "What you might want to do is pick the best hypothesis about the best word to pick."
   ]
  },
  {
   "cell_type": "markdown",
   "metadata": {
    "slideshow": {
     "slide_type": "slides"
    }
   },
   "source": [
    "# Let's say...\n",
    "![](../images/argmax.png)\n",
    "- A French preposition could be translated as **\"in\"** or **\"on\"**.\n",
    "- And... let's say p(f | e) suggests both:\n",
    "- in the end zone\n",
    "- on the end zone\n",
    "P(e) will prefer: **in** the end zone"
   ]
  },
  {
   "cell_type": "markdown",
   "metadata": {
    "slideshow": {
     "slide_type": "notes"
    }
   },
   "source": [
    "In this formula,\n",
    "- argmax is the candidate with the highest combined probability.\n",
    "\n",
    "The basic idea is that you want to pick a word that maximizes the product of two factors:\n",
    "\n",
    "- P(f | e) the likelihood and is also known as the **noisy channel model** (or error model) -- it accounts for the variants. (This is the probability of the incorrect word given the correct word)\n",
    "- P(e) the prior (correct word). This is term is called the **language model** (the probability of the correct word)"
   ]
  },
  {
   "cell_type": "markdown",
   "metadata": {
    "slideshow": {
     "slide_type": "slide"
    }
   },
   "source": [
    "# Back to spelling...\n",
    "![](../images/edit-distance-kcg.png)"
   ]
  },
  {
   "cell_type": "markdown",
   "metadata": {
    "slideshow": {
     "slide_type": "notes"
    }
   },
   "source": [
    "Remember edit distance?\n",
    "\n",
    "This is our noisy channel model!\n",
    "\n",
    "If you would like to dig deeper into this case study, Manning has a great presentation here: https://slideplayer.com/slide/16489389/\n",
    "\n",
    "He notes from a Kukich 1992 study that 25-40% of mis-spellings are actual words."
   ]
  },
  {
   "cell_type": "markdown",
   "metadata": {
    "slideshow": {
     "slide_type": "slide"
    }
   },
   "source": [
    "# Scoring\n",
    "![](../images/edit-distance2-kcg.png)"
   ]
  },
  {
   "cell_type": "markdown",
   "metadata": {
    "slideshow": {
     "slide_type": "notes"
    }
   },
   "source": [
    "The basic idea here is that we get a cost for the number of edits in Pr(t | c) and we multiply those times a measure of frequency for each word.\n",
    "\n",
    "Both 'actress' and 'across' are very high probability.\n",
    "\n",
    "More detailed explanation:\n",
    "Each candidate correction, c, is scored by Pr(c) Pr(t | c), and then normalized by the sum of the scores for all proposed candidates. The prior, Pr(c), is estimated by (freq(c) + 0.5)/N, where freq(c) is the number of times that the word c appears in the 1988 AP corpus (N = 44 million words))"
   ]
  },
  {
   "cell_type": "markdown",
   "metadata": {
    "slideshow": {
     "slide_type": "slide"
    }
   },
   "source": [
    "\"a stellar and versatile **acress** whose combination of sass and glamour...\""
   ]
  },
  {
   "cell_type": "markdown",
   "metadata": {
    "slideshow": {
     "slide_type": "notes"
    }
   },
   "source": [
    "Unfortunately, in the original sentence 'across' is the wrong word.\n",
    "\n",
    "The unigram model alone could be improved. And, in fact, the authors speculated that more context would improve this algorithm. And that's where we're headed below..."
   ]
  },
  {
   "cell_type": "markdown",
   "metadata": {
    "slideshow": {
     "slide_type": "slide"
    }
   },
   "source": [
    "![](../images/bigram-lm.png)"
   ]
  },
  {
   "cell_type": "markdown",
   "metadata": {
    "slideshow": {
     "slide_type": "notes"
    }
   },
   "source": [
    "\n",
    "<!-- #region {\"slideshow\": {\"slide_type\": \"slide\"}} -->\n",
    "# Norvig (3) Spelling correction (noisy channel model)\n",
    "\n",
    "https://nbviewer.jupyter.org/url/norvig.com/ipython/How%20to%20Do%20Things%20with%20Words.ipynb"
   ]
  },
  {
   "cell_type": "markdown",
   "metadata": {},
   "source": [
    "So let's move on...\n",
    "<!-- #endregion -->"
   ]
  },
  {
   "cell_type": "markdown",
   "metadata": {
    "lines_to_next_cell": 0,
    "slideshow": {
     "slide_type": "slide"
    }
   },
   "source": [
    "# Markov property\n",
    "![](../images/markov-property.png)"
   ]
  },
  {
   "cell_type": "markdown",
   "metadata": {
    "slideshow": {
     "slide_type": "notes"
    }
   },
   "source": [
    "Image credit: https://medium.com/ymedialabs-innovation/next-word-prediction-using-markov-model-570fc0475f96\n",
    "\n",
    "In a process wherein the next state depends only on the current state, such a process is said to follow Markov property.\n",
    "\n",
    "- The only context considered is the previous observation.\n",
    "- This is represented as a simple probability distribution where the sum is equal to 1:\n",
    "> P(like | I) = 0.67\n",
    "P(love | I) = 0.33\n",
    "P(fruits | like) = P(Science | like) = 0.5\n",
    "P(Mathematics | love) = 1\n",
    "- A sequence of events which follow the Markov model is referred to as the Markov Chain.\n",
    "- You also need a special symbol such as a STOP or sentence boundary in order to calculate the first observation in a sentence.\n",
    "- To calculate the conditional probabilities, you first must... tokenize!"
   ]
  },
  {
   "cell_type": "markdown",
   "metadata": {
    "slideshow": {
     "slide_type": "slide"
    }
   },
   "source": [
    "# Bigram probability\n",
    "![](../images/bigram-probability.png)"
   ]
  },
  {
   "cell_type": "markdown",
   "metadata": {
    "slideshow": {
     "slide_type": "notes"
    }
   },
   "source": [
    "A bigram is simply a sequence of two observations (words). And as J&M note, we use the term \"bigram\" both as the object (word sequence) and as the predictive model."
   ]
  },
  {
   "cell_type": "markdown",
   "metadata": {
    "slideshow": {
     "slide_type": "slide"
    }
   },
   "source": [
    "# Chain Rule\n",
    "![](../images/chain-rule.jpg)"
   ]
  },
  {
   "cell_type": "markdown",
   "metadata": {
    "slideshow": {
     "slide_type": "notes"
    }
   },
   "source": [
    "Image credit: https://www.ibm.com/developerworks/community/blogs/nlp/entry/the_chain_rule_of_probability?lang=en\n",
    "\n",
    "To calculate a longer sequence than a bigram (such as a trigram), we start to run into some challenges.\n",
    "\n",
    "Language is very productive!\n",
    "1. We can't count every possible sentence (recall language is always changing).\n",
    "2. And we also don't know what all the possible sentences are. We have to make some sort of estimate. This means that a joint probability is not exactly going to work."
   ]
  },
  {
   "cell_type": "markdown",
   "metadata": {
    "slideshow": {
     "slide_type": "slide"
    }
   },
   "source": [
    "# Norvig (4)"
   ]
  },
  {
   "cell_type": "markdown",
   "metadata": {
    "slideshow": {
     "slide_type": "notes"
    }
   },
   "source": [
    "# Joint and Conditional Probabilities\n",
    "![](../images/conditional-probability.jpg)"
   ]
  },
  {
   "cell_type": "markdown",
   "metadata": {
    "slideshow": {
     "slide_type": "notes"
    }
   },
   "source": [
    "Credit: https://www.slideshare.net/asdkfjqlwef/text-mining-from-bayes-rule-to-de\n",
    "\n",
    "Let's take a diversion at this point and look at joint and conditional probabilities.\n",
    "\n",
    "Joint probability is the likelihood of two *independent* events happening at the same time. [Think of two dice rolls simultaneously.] But you need to know the probability of each event to calculate it.\n",
    "\n",
    "We're interested in conditional probabilities. [Think of one dice roll following another.]\n",
    "\n",
    "Multiplication principle:\n",
    "P(A and B)= P(A) x P(B | A)\n",
    "We need to take the first event into account when considering the probability of the second event.\n",
    "\n",
    "J&M show us that it's in fact easier if we try to estimate -- or approximate the history of a sentence by using just the last couple of words. We do this using a maximum likelihood estimation."
   ]
  },
  {
   "cell_type": "markdown",
   "metadata": {
    "slideshow": {
     "slide_type": "slide"
    }
   },
   "source": [
    "# MLE\n",
    "![]()"
   ]
  },
  {
   "cell_type": "markdown",
   "metadata": {
    "slideshow": {
     "slide_type": "notes"
    }
   },
   "source": [
    "You may have noticed... we've moved beyond calculating results from our data to making hypotheses about our data.\n",
    "\n",
    "The idea behind MLE is that to compute a particular bigram probability of a word y given a previous word x, **you can determine the count of the bigram C(xy) and normalize it by the sum of all the bigrams that share the same first-word x.**"
   ]
  },
  {
   "cell_type": "markdown",
   "metadata": {
    "lines_to_next_cell": 2,
    "slideshow": {
     "slide_type": "notes"
    }
   },
   "source": []
  },
  {
   "cell_type": "markdown",
   "metadata": {
    "slideshow": {
     "slide_type": "slides"
    }
   },
   "source": [
    "Task 1: Probability of sentence (joint probability)\n",
    "     P(W) = P(w1,w2,w3,w4,w5...wn)\n",
    "Task 2: probability of an upcoming word:\n",
    "      P(w5|w1,w2,w3,w4)\n",
    "A model that computes either of these:\n",
    "          P(W)     or     P(wn|w1,w2,...wn-1) is called a language model."
   ]
  },
  {
   "cell_type": "markdown",
   "metadata": {
    "slideshow": {
     "slide_type": "slide"
    }
   },
   "source": [
    "# [Google ngram viewer](https://books.google.com/ngrams)"
   ]
  },
  {
   "cell_type": "markdown",
   "metadata": {
    "slideshow": {
     "slide_type": "slide"
    }
   },
   "source": [
    "Shamelessly from [Wikipedia](https://en.wikipedia.org/wiki/Google_Ngram_Viewer):\n",
    "\n",
    "You can try 1-5 grams.\n",
    "\n",
    "> The Google Ngram Viewer or Google Books Ngram Viewer is an online search engine that charts the frequencies of any set of comma-delimited search strings using a yearly count of n-grams found in sources printed between 1500 and 2008[1][2][3][4][5] in Google's text corpora in English, Chinese (simplified), French, German, Hebrew, Italian, Russian, or Spanish.[2][6] There are also some specialized English corpora, such as American English, British English, English Fiction, and English One Million; and the 2009 version of most corpora is also available.[7]\n",
    "\n",
    "> The program can search for a single word or a phrase, including misspellings or gibberish.[6] The n-grams are matched with the text within the selected corpus, optionally using case-sensitive spelling (which compares the exact use of uppercase letters),[3] and, if found in 40 or more books, are then plotted on a graph.[8]\n",
    "\n",
    "> The Google Ngram Viewer, as of January 2016, supports searches for parts of speech and wildcards.[7]\n",
    "\n",
    "[The pitfalls of using google ngram to study language](https://www.wired.com/2015/10/pitfalls-of-studying-language-with-google-ngram/)"
   ]
  },
  {
   "cell_type": "markdown",
   "metadata": {
    "slideshow": {
     "slide_type": "slide"
    }
   },
   "source": [
    "# GDELT\n",
    "https://www.forbes.com/sites/kalevleetaru/2019/09/02/using-the-cloud-to-explore-the-linguistic-patterns-of-half-a-trillion-words-of-news-homepage-hyperlinks/#74994b02342b"
   ]
  },
  {
   "cell_type": "markdown",
   "metadata": {
    "slideshow": {
     "slide_type": "slide"
    }
   },
   "source": [
    "# Problem...\n",
    "\"The **computer** which I had just put into the machine room on the fifth floor **is** crashing.\""
   ]
  },
  {
   "cell_type": "markdown",
   "metadata": {
    "slideshow": {
     "slide_type": "notes"
    }
   },
   "source": [
    "As J&M note,\n",
    "\n",
    "> We can extend to trigrams, 4-grams, 5-grams\n",
    "In general this is an insufficient model of language because language has long-distance dependencies.\n",
    "\n",
    "But we can often get away with N-gram models."
   ]
  },
  {
   "cell_type": "markdown",
   "metadata": {
    "slideshow": {
     "slide_type": "notes"
    }
   },
   "source": [
    "# Calculating ngrams"
   ]
  },
  {
   "cell_type": "markdown",
   "metadata": {
    "lines_to_next_cell": 0,
    "slideshow": {
     "slide_type": "notes"
    }
   },
   "source": [
    "# Norvig (9) Evaluating model fit"
   ]
  },
  {
   "cell_type": "raw",
   "metadata": {},
   "source": []
  }
 ],
 "metadata": {
  "celltoolbar": "Slideshow",
  "jupytext": {
   "cell_metadata_filter": "slideshow,-all",
   "comment_magics": false,
   "encoding": "# -*- coding: utf-8 -*-",
   "formats": "ipynb,md",
   "notebook_metadata_filter": "-all"
  },
  "kernelspec": {
   "display_name": "Python 3",
   "language": "python",
   "name": "python3"
  },
  "language_info": {
   "codemirror_mode": {
    "name": "ipython",
    "version": 3
   },
   "file_extension": ".py",
   "mimetype": "text/x-python",
   "name": "python",
   "nbconvert_exporter": "python",
   "pygments_lexer": "ipython3",
   "version": "3.7.3"
  }
 },
 "nbformat": 4,
 "nbformat_minor": 2
}
