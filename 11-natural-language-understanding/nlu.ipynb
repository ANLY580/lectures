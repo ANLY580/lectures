{
 "cells": [
  {
   "cell_type": "code",
   "execution_count": 2,
   "metadata": {
    "slideshow": {
     "slide_type": "skip"
    }
   },
   "outputs": [],
   "source": [
    "from IPython.display import HTML"
   ]
  },
  {
   "cell_type": "markdown",
   "metadata": {
    "slideshow": {
     "slide_type": "slide"
    }
   },
   "source": [
    "*ANYL 580: NLP for Data Analytics*\n",
    "\n",
    "# **Natural Language Understanding**"
   ]
  },
  {
   "cell_type": "markdown",
   "metadata": {
    "slideshow": {
     "slide_type": "slide"
    }
   },
   "source": [
    "# Topics\n",
    "\n",
    "* Where are we?\n",
    "* NLP and data science\n",
    "* What is HLT?\n",
    "* What is NLU?\n",
    "* Use Cases - Extraction Tasks\n",
    "    * Search\n",
    "    * Knowledge bases\n",
    "* Discourse: Beyond the sentence\n",
    "    * Referring expressions (last week)\n",
    "    * Document structure\n",
    "    * Argument structure & Coherence\n",
    "    * Discourse structure\n",
    "* Use Cases - NLU\n",
    "    * Summarization\n",
    "    * Question-Answer\n",
    "    * Reading comprehension\n",
    "    * Natural language generation\n",
    "    * Captioning & image understanding\n",
    "    * Chat & dialog (follow-up notebook)\n",
    "* Embeddings redux\n",
    "* Bert & Elmo\n",
    "* What next?"
   ]
  },
  {
   "cell_type": "markdown",
   "metadata": {
    "slideshow": {
     "slide_type": "notes"
    }
   },
   "source": [
    "Last week we talked a lot about Information Extraction (IE). But we didn't really talk about how you would use IE. Thus this week we'll walk through some use cases. We'll also talk about context that is much harder to get from the context of a sentence - or even a few sentences.\n",
    "\n",
    "Also, if you want to dig more deeply into any topic we've discussed since moving on to MT, please check out other chapters in J&M. They are still making updates, but NLP is a broad topic and today we will only scratch the surface of other topics in this space.\n",
    "\n",
    "https://web.stanford.edu/~jurafsky/slp3/"
   ]
  },
  {
   "cell_type": "markdown",
   "metadata": {
    "slideshow": {
     "slide_type": "slide"
    }
   },
   "source": [
    "# Where are we?\n",
    "![](../images/linguistic-abstractions-pragmatics.png)"
   ]
  },
  {
   "cell_type": "markdown",
   "metadata": {
    "slideshow": {
     "slide_type": "notes"
    }
   },
   "source": [
    "Recap from last week:\n",
    "\n",
    "Linguists tend to think of language processing and NLP in terms of levels of abstraction. This is a fairly typical perspective. \n",
    "\n",
    "- When you decode language in your brain, it comes in as sounds and is mapped to **phonemes** (which are themselves abstractions, though also perceptual entities). \n",
    "- The smallest unit of meaning is a **morpheme**, and morphemes can be combined into larger structure such as words. \n",
    "    - A good example are English prefixes and suffixes such as \"intra-\" (e.g., inward; intraspective) and \"-tion\" (e.g., investigation; property of being a noun or a nominalization). Note that the suffix grammaticizes meaning.\n",
    "- Words are articulated in sequences that align to **syntactic structures** with properties such as nesting and recursion. \n",
    "    - This means we can say things like \"the old old building\" or longer structures such as \"the guy who you saw last week who had the big floppy hat and who bumped into us during the intermission.\"\n",
    "- Movement of words in a sequence result in meaning change. Last week we looked at wh-fronting where question words look like sentences where a nominal moves up to the front of a sentence in order to change from an assertion to a question.\n",
    "- And, finally **meaning is NOT just the sum compositional meaning of words in a sequence, but is enriched by other representations in the world** (e.g., the visual world), convention, and how the speaker intends to produce an utterance and have it understood. \n",
    "\n",
    "This last problem becomes incredibly important when we talk about context that extends beyond a sentence and we'll look at that more closely today."
   ]
  },
  {
   "cell_type": "markdown",
   "metadata": {
    "slideshow": {
     "slide_type": "notes"
    }
   },
   "source": [
    "# NLP and Data Science\n",
    "\n",
    "Perspective #1\n",
    "* **Answering questions from text data sets** to generate actionable intelligence\n",
    "    - Do people largely agree/disagree, like/dislike our product/brand?\n",
    "    - Who was the author of this piece?\n",
    "    - Which documents are about politics?\n",
    "    - *You guys all came up with great ideas for your final project!*\n",
    "* **Business analytics** - building tools to help users generate insights from textual data\n",
    "* Building **predictive models** to generate understanding of textual data as it becomes available\n",
    "\n",
    "Perspective #2\n",
    "* **Data Science** - text analytics around clustering, classification, and basic extraction tasks\n",
    "* **Research** - HLT & NLU which we'll discuss more below\n",
    "\n",
    "Both tracks require the basic knowledge you are learning. How far you decided to go with NLP as a data scientists depends on you!"
   ]
  },
  {
   "cell_type": "markdown",
   "metadata": {
    "slideshow": {
     "slide_type": "notes"
    }
   },
   "source": [
    "In some sense, I'm back-tracking to our very first class. You were bombarded with a bunch of concepts and I'm returning to the over-arching themes, because now you may see them in a different light.\n",
    "\n",
    "Near as I can see, there are few curriculum's in data science programs around teaching NLP to data scientists. The difference between a data scientist and someone who comes from computational linguistics is really the difference between a practitioner and a researcher. And since most of NLP had recently been research, you all are the very first generation of practitioners!\n",
    "\n",
    "So how do we teach NLP given this? We don't really know yet and it may take some time to really tune such a course or program."
   ]
  },
  {
   "cell_type": "markdown",
   "metadata": {
    "slideshow": {
     "slide_type": "slide"
    }
   },
   "source": [
    "# What's HLT?\n",
    "\n",
    "*Study of how computers can analyze, produce, modify or respond to human texts and speech*\n",
    "\n",
    "1. *Systems that require multiple NLP modules* or tasks and whose function is primarly language-based. For example, \n",
    "    - **Speech Transcription** (language, identification, speech recognition, transcription, localization, document editing context for spelling, etc.)\n",
    "    - **Machine Translation** (language identification, language decoding, language encoding, localization)\n",
    "    - Search, OCR, Captioning... all complex tasks involving humans and machines\n",
    "    \n",
    "    \n",
    "2. A *human-centric* view of NLP:\n",
    "    - NLP in support of *interaction* between humans and machines\n",
    "    - NLP that supports human-human interaction    \n",
    "    - NLP that understands human communication\n",
    "    \n",
    "    \n",
    "3. Strongly *inter-disciplinary* field involving computional linguistics, NLP, ML, UX, psychology, social science, etc."
   ]
  },
  {
   "cell_type": "markdown",
   "metadata": {
    "slideshow": {
     "slide_type": "notes"
    }
   },
   "source": [
    "Perhaps, you can think of these as \"super\"-tasks. I tend to think of HLT as a kind of technology that is NLP-centric, but within the context of some specific user tasks. Multi-task learners look like a very exciting innovation that will benefit HLT. \n",
    "\n",
    "But also, HLT is really focused on human problems. So let's talk aboud some in the context of use cases."
   ]
  },
  {
   "cell_type": "markdown",
   "metadata": {
    "slideshow": {
     "slide_type": "slide"
    }
   },
   "source": [
    "# What is NLU?\n",
    "\n",
    "> I think the biggest open problems are all related to natural language\n",
    "understanding. [...] we should develop systems that read and\n",
    "understand text the way a person does, by forming a representation of\n",
    "the world of the text, with the agents, objects, settings, and the\n",
    "relationships, goals, desires, and beliefs of the agents, and everything else\n",
    "that humans create to understand a piece of text. Until we can do that, all of our progress is in improving our systems’ ability to do pattern matching.\n",
    "– Kevin Gimpel\n",
    "\n",
    "https://ruder.io/4-biggest-open-problems-in-nlp/"
   ]
  },
  {
   "cell_type": "markdown",
   "metadata": {
    "slideshow": {
     "slide_type": "notes"
    }
   },
   "source": [
    "In the very first lecture, we talked about the some of the toughest problems left in NLP today. Sebastian Ruder in his blog does a very good job of summarizing a panel discussion on the topic and I don't think there'd be much controversy on the broad challenges identified:\n",
    "\n",
    "- Natural language understanding\n",
    "- NLP for low-resource scenarios (languages for which little training data exists)\n",
    "- Reasoning about large or multiple documents\n",
    "- Datasets, problems, and evaluation\n",
    "\n",
    "Toward this last bullet, many of you by now have had a taste of this on your projects. If you've tried to use pre-trained word vectors, maybe you've discovered your performance is not as good as you'd like. We'll talk more about this later.\n",
    "\n",
    "In any case, one of the key debates today is what should be learned, and what should be represented in models. This is, in fact, a huge area of discussion in AI. Are we trying to build machines that are modeled on human neural and cognitive processes, or do we simply want them to act as if they were?"
   ]
  },
  {
   "cell_type": "markdown",
   "metadata": {
    "slideshow": {
     "slide_type": "slide"
    }
   },
   "source": [
    "# Use Cases\n",
    "\n",
    "* Search (from last week)\n",
    "* Knowledge bases (from last week)\n",
    "* **Summarization**\n",
    "* **Question-Answer** & **Reading comprehension**\n",
    "* **Natural language generation**\n",
    "* **Captioning & image understanding**\n",
    "* **Chat & dialog** (follow-up notebook)"
   ]
  },
  {
   "cell_type": "markdown",
   "metadata": {
    "slideshow": {
     "slide_type": "notes"
    }
   },
   "source": [
    "We're distinguishing use cases from NLP tasks (e.g., computational challenges) since use cases more tell you about broader practical challenges where we use NLP in some context of use.\n",
    "\n",
    "Because of emerging models such as BERT, Elmo, and XLNet - the same underlying models that support NLU are also used for more basic data science tasks. \n",
    "\n",
    "Also - there is no comprehensive set of NLU tasks. For example, we'll talk about summarization, but a related task is paraphrasing."
   ]
  },
  {
   "cell_type": "markdown",
   "metadata": {
    "slideshow": {
     "slide_type": "slide"
    }
   },
   "source": [
    "## Search\n",
    "\n",
    "![](../images/BERT-brazil.jpg)"
   ]
  },
  {
   "cell_type": "markdown",
   "metadata": {
    "slideshow": {
     "slide_type": "notes"
    }
   },
   "source": [
    "With this example, we can see that BERT helps Google understand the user query better in terms of Brazilians traveling \"to\" the US instead of the other way around.\n",
    "\n",
    "\n",
    "https://www.blog.google/products/search/search-language-understanding-bert/\n",
    "\n",
    "\"This breakthrough was the result of Google research on transformers: models that process words in relation to all the other words in a sentence, rather than one-by-one in order. BERT models can therefore consider the full context of a word by looking at the words that come before and after it—particularly useful for understanding the intent behind search queries.\"\n",
    "\n",
    "Google released and open-source a neural network-based technique for natural language processing (NLP) pre-training called Bidirectional Encoder Representations from Transformers -- or BERT.\n",
    "\n",
    "BERT is the first deeply bidirectional, unsupervised language representation, pre-trained using only a plain text corpus (in this case, Wikipedia). We'll talk about BERT and related models a bit today.\n",
    "\n",
    "\n",
    "Google applies BERT models to both ranking and featured snippets in Search."
   ]
  },
  {
   "cell_type": "markdown",
   "metadata": {
    "slideshow": {
     "slide_type": "slide"
    }
   },
   "source": [
    "![](../images/BERT-ex2.jpg)"
   ]
  },
  {
   "cell_type": "markdown",
   "metadata": {
    "slideshow": {
     "slide_type": "notes"
    }
   },
   "source": [
    "In this example, the important connection between estheticians and \"stand\" has to do with physical demand or effort. (I had to look up \"esthetician\"... it seems to overlap heavily with \"cosmetology\".\n",
    "\n",
    "BERT is an incredibly computationally model to build at scale. But you can tune BERT to help solve a variety of tasks."
   ]
  },
  {
   "cell_type": "markdown",
   "metadata": {
    "slideshow": {
     "slide_type": "slide"
    }
   },
   "source": [
    "## Knowledge Bases (and Graphs)\n",
    "\n",
    "> “The Knowledge Graph is a knowledge base used by Google to enhance its search engine's search results with semantic-search information gathered from a wide variety of sources.”\n",
    "\n",
    "![](../images/knowledge-graph.png)"
   ]
  },
  {
   "cell_type": "markdown",
   "metadata": {
    "slideshow": {
     "slide_type": "notes"
    }
   },
   "source": [
    "\"The Knowledge Graph has millions of entries that describe real-world entities like people, places, and things. These entities form the nodes of the graph.\" https://developers.google.com/knowledge-graph\n",
    "\n",
    "- Answered \"roughly one-third\" of the 100 billion monthly searches Google processed in May 2016. \n",
    "- Information from the Knowledge Graph is presented as a box, which Google has referred to as the \"knowledge panel\"\n",
    "- Powered in part by FreeBase (Wikipedia mappings)\n",
    "- But... there is a dark side. It relies on data from Wikipedia -- and if that data is consumed here in Google, there may be less readership of Wikipedia. \n",
    "- And Google has been rightly criticized on its lack of source attribution"
   ]
  },
  {
   "cell_type": "markdown",
   "metadata": {
    "slideshow": {
     "slide_type": "slide"
    }
   },
   "source": [
    "### Dbpedia\n",
    "\n",
    "Soccer players, who are born in a country with more than 10 million inhabitants, who played as goalkeeper for a club that has a stadium with more than 30.000 seats and the club country is different from the birth country\n",
    "\n",
    "![](../images/dbpedia.png)"
   ]
  },
  {
   "cell_type": "markdown",
   "metadata": {
    "slideshow": {
     "slide_type": "notes"
    }
   },
   "source": [
    "https://wiki.dbpedia.org/about\n",
    "\n",
    "The English version of the DBpedia knowledge base describes 4.58 million things, out of which 4.22 million are classified in a consistent ontology, including 1,445,000 persons, 735,000 places (including 478,000 populated places), 411,000 creative works (including 123,000 music albums, 87,000 films and 19,000 video games), 241,000 organizations (including 58,000 companies and 49,000 educational institutions), 251,000 species and 6,000 diseases.\n",
    "\n",
    "In addition, we provide localized versions of DBpedia in 125 languages."
   ]
  },
  {
   "cell_type": "markdown",
   "metadata": {
    "slideshow": {
     "slide_type": "slide"
    }
   },
   "source": [
    "![](../images/relation-extraction1.png)"
   ]
  },
  {
   "cell_type": "markdown",
   "metadata": {
    "slideshow": {
     "slide_type": "notes"
    }
   },
   "source": [
    "Image from: http://sumitbhatia.net/papers/KG_Tutorial_CIKM17_part1.pdf\n",
    "\n",
    "So how do you build knowledge graphs. You need to be able to identify entities (or nominal expressions) and relations.\n",
    "\n",
    "Pre-defined schemas can be high accuracy, but are difficult to develop in terms of generating labeled data."
   ]
  },
  {
   "cell_type": "markdown",
   "metadata": {
    "slideshow": {
     "slide_type": "slide"
    }
   },
   "source": [
    "![](../images/relation-extraction2.png)"
   ]
  },
  {
   "cell_type": "markdown",
   "metadata": {
    "slideshow": {
     "slide_type": "notes"
    }
   },
   "source": [
    "Image from: http://sumitbhatia.net/papers/KG_Tutorial_CIKM17_part1.pdf\n",
    "\n",
    "Distant supervision relies on an external knowledge source for linking. This is great since you need less labeled training data, but now you need a knowledge graph and related text."
   ]
  },
  {
   "cell_type": "markdown",
   "metadata": {
    "slideshow": {
     "slide_type": "slide"
    }
   },
   "source": [
    "![](../images/relation-extraction3.png)"
   ]
  },
  {
   "cell_type": "markdown",
   "metadata": {
    "slideshow": {
     "slide_type": "notes"
    }
   },
   "source": [
    "Image from: http://sumitbhatia.net/papers/KG_Tutorial_CIKM17_part1.pdf\n",
    "\n",
    "OpenIE works as a series of templates using parts of speech and dependencies. This gets around the need for labeling data, but it's brittle and noisy. What happens when relations do not occur in close syntactic proximity?"
   ]
  },
  {
   "cell_type": "markdown",
   "metadata": {
    "slideshow": {
     "slide_type": "slide"
    }
   },
   "source": [
    "![](../images/relation-extraction4.png)"
   ]
  },
  {
   "cell_type": "markdown",
   "metadata": {
    "slideshow": {
     "slide_type": "notes"
    }
   },
   "source": [
    "If you are concerned with deriving knowledge in a specific domain -- these are some methods by which you may consider tackling the problem. \n",
    "\n",
    "There are also companies that explicitly focus on this business area.\n",
    "\n",
    "https://www.ontotext.com/knowledgehub/fundamentals/what-is-a-knowledge-graph/"
   ]
  },
  {
   "cell_type": "markdown",
   "metadata": {
    "slideshow": {
     "slide_type": "slide"
    }
   },
   "source": [
    "# Discourse - Beyond the Sentence\n",
    "\n",
    "- Sequences longer than a sentence\n",
    "- Conversation turns\n",
    "  - Face-to-face\n",
    "  - Email\n",
    "  - Chat\n",
    "\n",
    "\n",
    "Not only is discourse context important (context from prior sentences) - but also other sorts of knowledge."
   ]
  },
  {
   "cell_type": "markdown",
   "metadata": {
    "slideshow": {
     "slide_type": "notes"
    }
   },
   "source": [
    "As you can see -- we're already talking about linking things across sentences. But what kind of structures occur across sentences?"
   ]
  },
  {
   "cell_type": "markdown",
   "metadata": {
    "slideshow": {
     "slide_type": "slide"
    }
   },
   "source": [
    "## Referring Expressions (last week)\n",
    "\n",
    "- [John]1 was a doctor. [He]1 paid for [his]1 [studies]2 by [himself]1.\n",
    "- John [drove]1 Mary to the office. [It]1 took forever.\n",
    "- [Lions]1 are fierce. But [Leo the Lion]2 was the fiercest of [all]1.\n",
    "- [Monday]1 was a busy day. [That morning]2 John woke early."
   ]
  },
  {
   "cell_type": "markdown",
   "metadata": {
    "slideshow": {
     "slide_type": "notes"
    }
   },
   "source": [
    "Some examples from: http://projects.csail.mit.edu/workbench/update/guides/02%20-%20Referring%20Expressions%20and%20Co-reference_v2.1.2.pdf\n",
    "\n",
    "Last week we learned that doing things like figuring out who or what is referred to is hard. We use referring expressions to do so, but they can be hard to relate to previous mentions.\n",
    "\n",
    "We care about this if we are going to extract facts or information from text."
   ]
  },
  {
   "cell_type": "markdown",
   "metadata": {
    "slideshow": {
     "slide_type": "slide"
    }
   },
   "source": [
    "## Document Structure\n",
    "\n",
    "![](../images/document-structure.png)"
   ]
  },
  {
   "cell_type": "markdown",
   "metadata": {
    "slideshow": {
     "slide_type": "notes"
    }
   },
   "source": [
    "If you had a large corpus of scientific documents, and you wanted to create a knowledge base to connect authors or concepts, there is knowledge in the structure of the documents themselves."
   ]
  },
  {
   "cell_type": "markdown",
   "metadata": {
    "slideshow": {
     "slide_type": "slide"
    }
   },
   "source": [
    "## Argument Structure & Coherence\n",
    "\n",
    "![](../images/arg-structure.png)"
   ]
  },
  {
   "cell_type": "markdown",
   "metadata": {
    "slideshow": {
     "slide_type": "subslide"
    }
   },
   "source": [
    "Image from Peldszus and Stede 2016. https://pdfs.semanticscholar.org/6eae/4638ce558188803580a791aceb29602c00c5.pdf\n",
    "\n",
    "Of course, you also know about conventions around document structure. Not just layout -- but also where to find specific sorts of information. For example, in the scientific paper above, there is generally an introduction, a problem statement, approach, methods, etc.\n",
    "\n",
    "Here you can see that there is a claim. And then, when you look at the segments following -- marked by words such as \"yet\", \"besides\" there seems to be a sort of structure across larger chunks of text.\n",
    "\n",
    "This is a sort of textual coherence that is not linguistic, per se.\n",
    "\n",
    "What is coherence? It is something like meaningful or sense. That is, the sentences you see are communicating an idea and the thoughts that follow expand upon the main thought.\n",
    "\n",
    "Coherence inovolves a number of linguistic processes such as tense, referring expressions, world knowledge, etc. But you can also see there are certain cue words that help mark changes between ideas.\n",
    "\n"
   ]
  },
  {
   "cell_type": "markdown",
   "metadata": {
    "slideshow": {
     "slide_type": "slide"
    }
   },
   "source": [
    "## Discourse Structure\n",
    "\n",
    "- Structure of the sequence of sentences / utterances (linguistic)\n",
    "- Structure of intentions (purpose; note the cue words in the example above)\n",
    "- Attentional state (what is in focus? new versus old; e.g., \"the man\" versus \"him\")"
   ]
  },
  {
   "cell_type": "markdown",
   "metadata": {
    "slideshow": {
     "slide_type": "notes"
    }
   },
   "source": [
    "This basic model holds whether discourse is produced in a written form or unfolds in conversation."
   ]
  },
  {
   "cell_type": "markdown",
   "metadata": {
    "slideshow": {
     "slide_type": "slide"
    }
   },
   "source": [
    "![](../images/discourse-structure.png)"
   ]
  },
  {
   "cell_type": "markdown",
   "metadata": {
    "slideshow": {
     "slide_type": "notes"
    }
   },
   "source": [
    "From: Grosz and Sidner 1980. https://www.aclweb.org/anthology/J86-3001/\n",
    "\n",
    "This is an example from task-based dialogue. Note the embedding that happens in parts of dialogue. There is inherent structure that is not purely sequential."
   ]
  },
  {
   "cell_type": "markdown",
   "metadata": {
    "slideshow": {
     "slide_type": "slide"
    }
   },
   "source": [
    "## Q&A & Reading Comprehension\n",
    "\n",
    "... Beyond discourse context\n",
    "\n",
    "- Answer a question\n",
    "- Often framed in the context of reading comprehension\n",
    "\n",
    "What sorts of Q&A tasks? \n",
    "http://nlpprogress.com/english/question_answering.html\n",
    "\n",
    "Demo: https://demo.allennlp.org/reading-comprehension"
   ]
  },
  {
   "cell_type": "markdown",
   "metadata": {
    "slideshow": {
     "slide_type": "notes"
    }
   },
   "source": [
    "Now we're moving more to language processing problems that involve knowledge as context. I'll try to break this down as different sorts of context or knowledge."
   ]
  },
  {
   "cell_type": "markdown",
   "metadata": {
    "slideshow": {
     "slide_type": "slide"
    }
   },
   "source": [
    "## Linguistic/Textual Entailment\n",
    "\n",
    "![](../images/entailment.png)"
   ]
  },
  {
   "cell_type": "markdown",
   "metadata": {
    "slideshow": {
     "slide_type": "notes"
    }
   },
   "source": [
    "This is also called natural language inference."
   ]
  },
  {
   "cell_type": "markdown",
   "metadata": {
    "slideshow": {
     "slide_type": "slide"
    }
   },
   "source": [
    "### Demo AllenNLP\n",
    "\n",
    "Why does this matter? Example:\n",
    "\n",
    "Text: **Eyeing the huge market potential, currently led by Google, Yahoo took over search company Overture Services Inc last year.**\n",
    "\n",
    "Hypothesis: Yahoo bought Overture\n",
    "\n",
    "- Gathering evidence (e.g., KB)\n",
    "- Summarization\n",
    "- Answer questions - What companies did Yahoo buy last year?\n",
    "\n",
    "https://demo.allennlp.org/textual-entailment"
   ]
  },
  {
   "cell_type": "markdown",
   "metadata": {
    "slideshow": {
     "slide_type": "slide"
    }
   },
   "source": [
    "## Reasoning\n",
    "\n",
    "> Which property of a mineral can be determined just by looking at it? (A) luster [correct] (B) mass (C) weight (D) hardness\n",
    "\n",
    "> A student riding a bicycle observes that it moves faster on a smooth road than on a rough road. This happens because the smooth road has (A) less gravity (B) more gravity (C) less friction [correct] (D) more friction"
   ]
  },
  {
   "cell_type": "markdown",
   "metadata": {
    "slideshow": {
     "slide_type": "notes"
    }
   },
   "source": [
    "\"Both these questions are difficult to answer via simple retrieval or word correlation. For example, there are no Web sentences of the form “luster can be determined by looking at something”; similarly, “mineral” is strongly correlated with “hardness” (an incorrect answer option).\" \n",
    "\n",
    "Neither IR or PMI style systems do well with these problems.\n",
    "\n",
    "[Think you have Solved Question Answering? Try ARC, the AI2 Reasoning Challenge](http://ai2-website.s3.amazonaws.com/publications/AI2ReasoningChallenge2018.pdf) Clark et al. 2018\n",
    "\n",
    "- Science text corpus\n",
    "- Two baseline neural models provided\n",
    "\n",
    "Essentially, none of the baseline systems significantly outperform a random baseline on the Challenge set. Including those that test well against other known Q&A problems (SNLI & SQUAD)"
   ]
  },
  {
   "cell_type": "markdown",
   "metadata": {
    "slideshow": {
     "slide_type": "slide"
    }
   },
   "source": [
    "### ARC Reasoning types\n",
    "\n",
    "![](../images/arc1.png)"
   ]
  },
  {
   "cell_type": "markdown",
   "metadata": {
    "slideshow": {
     "slide_type": "notes"
    }
   },
   "source": [
    "![](../images/arc2.png)"
   ]
  },
  {
   "cell_type": "markdown",
   "metadata": {
    "slideshow": {
     "slide_type": "slide"
    }
   },
   "source": [
    "### Commonsense knowledge\n",
    "\n",
    "![](../images/swag.png)"
   ]
  },
  {
   "cell_type": "markdown",
   "metadata": {
    "slideshow": {
     "slide_type": "notes"
    }
   },
   "source": [
    "From: Zellers et al. 2018 [Swag: A Large-Scale Adversarial Dataset for Grounded Commonsense Inference](https://arxiv.org/pdf/1808.05326.pdf)"
   ]
  },
  {
   "cell_type": "markdown",
   "metadata": {
    "slideshow": {
     "slide_type": "slide"
    }
   },
   "source": [
    "## Natural Language Generation\n",
    "\n",
    "Production of natural language:\n",
    "\n",
    "- Text\n",
    "- Dialogue\n",
    "\n",
    "https://talktotransformer.com/"
   ]
  },
  {
   "cell_type": "markdown",
   "metadata": {
    "slideshow": {
     "slide_type": "slide"
    }
   },
   "source": [
    "### OpenAI GPT-2\n",
    "\n",
    "> GPT-2 is a large transformer-based language model with 1.5 billion parameters, trained on a dataset of 8 million web pages. GPT-2 is trained with a simple objective: predict the next word, given all of the previous words within some text.\n",
    "\n",
    "Demo: https://openai.com/blog/better-language-models/\n",
    "\n",
    "*Adapts to the style and content of the conditioning text*\n",
    "\n",
    "But... https://srconstantin.wordpress.com/2019/02/25/humans-who-are-not-concentrating-are-not-general-intelligences"
   ]
  },
  {
   "cell_type": "markdown",
   "metadata": {
    "slideshow": {
     "slide_type": "notes"
    }
   },
   "source": [
    "\n",
    "Keep in mind, this is just a language model. It sounds fluent, and models training data very well. But you can tune to simply parrot your training data or too loosely to be nonsensical. "
   ]
  },
  {
   "cell_type": "markdown",
   "metadata": {
    "slideshow": {
     "slide_type": "slide"
    }
   },
   "source": [
    "![](../images/nlg.png)"
   ]
  },
  {
   "cell_type": "markdown",
   "metadata": {
    "slideshow": {
     "slide_type": "notes"
    }
   },
   "source": [
    "This model stems from Dale and Reiter (2000). https://arxiv.org/pdf/cmp-lg/9605002.pdf. "
   ]
  },
  {
   "cell_type": "markdown",
   "metadata": {
    "slideshow": {
     "slide_type": "slide"
    }
   },
   "source": [
    "## Uses (listed on the blog)\n",
    "\n",
    "- AI writing assistants\n",
    "- More capable dialogue agents\n",
    "- Unsupervised translation between languages\n",
    "- Better speech recognition systems\n",
    "\n",
    "BUT...\n",
    "\n",
    "- Generate misleading news articles\n",
    "- Impersonate others online\n",
    "- Automate the production of abusive or faked content to post on social media\n",
    "- Automate the production of spam/phishing content"
   ]
  },
  {
   "cell_type": "markdown",
   "metadata": {
    "slideshow": {
     "slide_type": "slide"
    }
   },
   "source": [
    "## Automatic Summarization\n",
    "\n",
    "*Shorten a document to capture main ideas*\n",
    "\n",
    "- Methods\n",
    "    - Templates (slot-filling)\n",
    "    - Sentence extraction\n",
    "    - Abstraction of ideas + Natural Language Generation"
   ]
  },
  {
   "cell_type": "markdown",
   "metadata": {
    "slideshow": {
     "slide_type": "slide"
    }
   },
   "source": [
    "![](../images/primer.png)\n",
    "\n",
    "https://primer.ai/blog/quicksilver/\n"
   ]
  },
  {
   "cell_type": "markdown",
   "metadata": {
    "slideshow": {
     "slide_type": "notes"
    }
   },
   "source": [
    "Using Wikipedia text and Wikdata KB:\n",
    "\n",
    "- Take a seed population fo scientists\n",
    "- Map to their *mentions* in text\n",
    "- Use distant supervision to bootstrap models for relation extraction\n",
    "- Update KB\n",
    "- RNN on Wikpedia articles for language modeling\n"
   ]
  },
  {
   "cell_type": "markdown",
   "metadata": {
    "slideshow": {
     "slide_type": "slide"
    }
   },
   "source": [
    "## Primer Use Case\n",
    "\n",
    "![](../images/summarization.png)"
   ]
  },
  {
   "cell_type": "markdown",
   "metadata": {
    "slideshow": {
     "slide_type": "notes"
    }
   },
   "source": [
    "This image is from https://primer.ai/blog/quicksilver/ \n"
   ]
  },
  {
   "cell_type": "markdown",
   "metadata": {
    "slideshow": {
     "slide_type": "slide"
    }
   },
   "source": [
    "## Captioning & Image Understanding\n",
    "\n",
    "*Describe the contents of images*\n",
    "\n",
    "![](../images/caption-generation.png)\n",
    "From: Xu et al. (2015) [Show, Attend and Tell: Neural Image Caption Generation with Visual Attention](https://arxiv.org/pdf/1502.03044.pdf)"
   ]
  },
  {
   "cell_type": "markdown",
   "metadata": {
    "slideshow": {
     "slide_type": "slide"
    }
   },
   "source": [
    "![](../images/caption-generation-attention.png)"
   ]
  },
  {
   "cell_type": "markdown",
   "metadata": {
    "slideshow": {
     "slide_type": "slide"
    }
   },
   "source": [
    "![](../images/caption-generation-errors.png)"
   ]
  },
  {
   "cell_type": "markdown",
   "metadata": {
    "slideshow": {
     "slide_type": "slide"
    }
   },
   "source": [
    "# Representation in NLP\n",
    "\n",
    "\n",
    "- Distributed word representation has led to tremendous advancement.\n",
    "\t- We're capturing both meaning and some structural relationships.\n",
    "\t- Pre-training on large amounts of data are useful as input into Neural Networks."
   ]
  },
  {
   "cell_type": "markdown",
   "metadata": {
    "slideshow": {
     "slide_type": "slide"
    }
   },
   "source": [
    "![](../images/four-wins-nn.png)"
   ]
  },
  {
   "cell_type": "markdown",
   "metadata": {
    "slideshow": {
     "slide_type": "slide"
    }
   },
   "source": [
    "## Word Embeddings Redux\n",
    "\n",
    "*Words and phrases mapped to numbers*\n",
    "**Are two words neighbors?**\n",
    "\n",
    "Training: sliding text to look at words before and after a target word -> then train a logistic regression classifier (or simple NN)\n",
    "\n",
    "![](../images/skip-gram.png)\n",
    "\n",
    "Task: **Predict the context word**"
   ]
  },
  {
   "cell_type": "markdown",
   "metadata": {
    "slideshow": {
     "slide_type": "notes"
    }
   },
   "source": [
    "(This was a slide from the vector semantics lecture where we looked the skip-gram approach versus bag-of-words)\n",
    "\n",
    "\n",
    "http://jalammar.github.io/illustrated-word2vec/"
   ]
  },
  {
   "cell_type": "markdown",
   "metadata": {
    "slideshow": {
     "slide_type": "slide"
    }
   },
   "source": [
    "- **Pre-trained word embeddings**\n",
    "    - Download from Gensim (for example, https://github.com/RaRe-Technologies/gensim-data including Google's 1.5 GB)\n",
    "    - Does it match your domain well? \n",
    "    - What's in it? https://github.com/chrisjmccormick/inspect_word2vec\n",
    "    - Make sure you are tokenizing similarly https://www.kaggle.com/alhalimi/tokenization-and-word-embedding-compatibility\n",
    "- **Custom word embeddings**\n",
    "    - Lots of example code online\n",
    "        - https://rare-technologies.com/word2vec-tutorial/\n",
    "        - https://www.shanelynn.ie/word-embeddings-in-python-with-spacy-and-gensim/"
   ]
  },
  {
   "cell_type": "markdown",
   "metadata": {
    "slideshow": {
     "slide_type": "slide"
    }
   },
   "source": [
    "## Glove\n",
    "\n",
    "*The model is an unsupervised learning algorithm for obtaining vector representations for words. This is achieved by mapping words into a meaningful space where the distance between words is related to semantic similarity.*\n",
    "\n",
    "- Window context versus corpus co-occurence statistics"
   ]
  },
  {
   "cell_type": "markdown",
   "metadata": {
    "slideshow": {
     "slide_type": "notes"
    }
   },
   "source": [
    "Pennington, Socher, Manning (2014) [GloVe: Global Vectors for Word Representation](https://www.aclweb.org/anthology/D14-1162.pdf)"
   ]
  },
  {
   "cell_type": "markdown",
   "metadata": {
    "slideshow": {
     "slide_type": "slide"
    }
   },
   "source": [
    "## Bi-Directional Encoder\n",
    "\n",
    "- Use pre-trained word embeddings as features\n",
    "- Uses an attention mechanism to learn contextual relations between words in text.\n",
    "- Uses only the encoder of RNN/LSTM/Transformer to produce a LM\n",
    "- Reads the entire sequence of words (sentence)\n",
    "\n",
    "*Solved a problem of plain-vanilla Transformers by learning not just L->R context but entire sentence context*"
   ]
  },
  {
   "cell_type": "markdown",
   "metadata": {
    "slideshow": {
     "slide_type": "slide"
    }
   },
   "source": [
    "## Word Embeddings versus Context Vectors\n",
    "\n",
    "- Word2Vec and GLOve are word vectors \n",
    "- ELMo and BERT take into account the entire context of a sentence to include a word's *position in a sentence*. From this perspective, they can generate different word embeddings for a word that captures the different contexts of a word.\n",
    "- This also means that the vectors are context dependent. We need the model used for training when we use them for different tasks."
   ]
  },
  {
   "cell_type": "markdown",
   "metadata": {
    "slideshow": {
     "slide_type": "slide"
    }
   },
   "source": [
    "## Bert Training\n",
    "\n",
    "![](../images/bert-transfer-learning.png)"
   ]
  },
  {
   "cell_type": "markdown",
   "metadata": {
    "slideshow": {
     "slide_type": "notes"
    }
   },
   "source": [
    "1. BERT is pre-trained on unlabeled data over different pre-training tasks.\n",
    "2. Fine-tuning of BERT uses the same architecture.\n",
    "\n",
    "\t- Take a labelled data set (or your labelled sentiment data)\n",
    "\t- BERT takes a sequence of words as input\n",
    "\t- And uses the final layer - just like a single-layer neural network, as the classifier."
   ]
  },
  {
   "cell_type": "markdown",
   "metadata": {
    "slideshow": {
     "slide_type": "slide"
    }
   },
   "source": [
    "## Bert Fine-Tuning\n",
    "\n",
    "![](../images/bert-classification-spam.png)"
   ]
  },
  {
   "cell_type": "markdown",
   "metadata": {
    "slideshow": {
     "slide_type": "notes"
    }
   },
   "source": [
    "Transfer learnin... \"storing knowledge gained while solving one problem and applying it to a different but related problem\"."
   ]
  },
  {
   "cell_type": "markdown",
   "metadata": {
    "slideshow": {
     "slide_type": "slide"
    }
   },
   "source": [
    "## Elmo \n",
    "\n",
    "![](../images/elmo.png)"
   ]
  },
  {
   "cell_type": "markdown",
   "metadata": {
    "slideshow": {
     "slide_type": "notes"
    }
   },
   "source": [
    "NAACL 2018 - https://www.slideshare.net/shuntaroy/a-review-of-deep-contextualized-word-representations-peters-2018\n",
    "\n",
    "Peters et al. (2018) - [Deep contextualized word representations](https://arxiv.org/pdf/1802.05365.pdf)\n",
    "\n",
    "Different architecture - but still language modeling\n",
    "\n",
    "- Contextualized word-embeddings\n",
    "- ELMo looks at the whole sentence before assigning each word in it an embedding (not just a couple words to each side)\n",
    "- It's another LM, but a really powerful one"
   ]
  },
  {
   "cell_type": "markdown",
   "metadata": {
    "slideshow": {
     "slide_type": "slide"
    }
   },
   "source": [
    "![](../images/elmo2.png)\n",
    "\n",
    "https://allennlp.org/elmo"
   ]
  },
  {
   "cell_type": "markdown",
   "metadata": {
    "slideshow": {
     "slide_type": "notes"
    }
   },
   "source": [
    "From: https://www.slideshare.net/shuntaroy/a-review-of-deep-contextualized-word-representations-peters-2018\n",
    "\n"
   ]
  },
  {
   "cell_type": "markdown",
   "metadata": {
    "slideshow": {
     "slide_type": "slide"
    }
   },
   "source": [
    "## AllenNLP\n",
    "\n",
    "- Built on top of PyTorch\n",
    "- Data API\n",
    "- High level abstractions for working with text\n",
    "- Extensible and modular\n",
    "- Reference implementations for many tasks"
   ]
  },
  {
   "cell_type": "markdown",
   "metadata": {
    "slideshow": {
     "slide_type": "slide"
    }
   },
   "source": [
    "## ELMo and AllenNLP\n",
    "\n",
    "![](../images/hugging-face.png)\n",
    "\n",
    "- https://huggingface.co/\n",
    "- https://huggingface.co/hmtl/\n"
   ]
  },
  {
   "cell_type": "markdown",
   "metadata": {
    "slideshow": {
     "slide_type": "slide"
    }
   },
   "source": [
    "## Hierarchical Multi-Task Learning Model (HMTL)\n",
    "\n",
    "![](../images/hmtl.png)"
   ]
  },
  {
   "cell_type": "markdown",
   "metadata": {
    "slideshow": {
     "slide_type": "notes"
    }
   },
   "source": [
    "https://arxiv.org/pdf/1802.05365.pdf\n",
    "Sanh, Wolf, and Ruder (2018)"
   ]
  },
  {
   "cell_type": "markdown",
   "metadata": {
    "slideshow": {
     "slide_type": "slide"
    }
   },
   "source": [
    "## What about other sorts of knowledge representation? \n",
    "- Recurrent and hierarchical information seem to work using RNNs and transformers. \n",
    "- Are word representations and with sentence context it?\n",
    "- What about integrating other forms of knowledge? Commonsense knowledge?\n",
    "- This is a fast moving discipline... stay tuned."
   ]
  },
  {
   "cell_type": "markdown",
   "metadata": {
    "slideshow": {
     "slide_type": "slide"
    }
   },
   "source": [
    "# What Next?\n",
    "\n",
    "- Where do you want to go with NLP? Questionnaire coming out next week\n",
    "- Subscrive to Ruder NLP news! http://newsletter.ruder.io/\n",
    "- Dive in deeper\n",
    "\n",
    "![](../images/readings.png)\n"
   ]
  },
  {
   "cell_type": "markdown",
   "metadata": {
    "slideshow": {
     "slide_type": "notes"
    }
   },
   "source": [
    "Next up: dialogue\n",
    "\n",
    "Next week: Bias"
   ]
  }
 ],
 "metadata": {
  "celltoolbar": "Slideshow",
  "file_extension": ".py",
  "jupytext": {
   "comment_magics": false,
   "encoding": "# -*- coding: utf-8 -*-",
   "formats": "ipynb,md"
  },
  "kernelspec": {
   "display_name": "Python 3",
   "language": "python",
   "name": "python3"
  },
  "language_info": {
   "codemirror_mode": {
    "name": "ipython",
    "version": 3
   },
   "file_extension": ".py",
   "mimetype": "text/x-python",
   "name": "python",
   "nbconvert_exporter": "python",
   "pygments_lexer": "ipython3",
   "version": "3.7.4"
  },
  "mimetype": "text/x-python",
  "name": "python",
  "npconvert_exporter": "python",
  "pygments_lexer": "ipython3",
  "toc": {
   "base_numbering": 1,
   "nav_menu": {},
   "number_sections": true,
   "sideBar": true,
   "skip_h1_title": false,
   "title_cell": "Table of Contents",
   "title_sidebar": "Contents",
   "toc_cell": false,
   "toc_position": {
    "height": "calc(100% - 180px)",
    "left": "10px",
    "top": "150px",
    "width": "339px"
   },
   "toc_section_display": true,
   "toc_window_display": false
  },
  "version": 3
 },
 "nbformat": 4,
 "nbformat_minor": 2
}
