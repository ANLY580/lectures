{
 "cells": [
  {
   "cell_type": "code",
   "execution_count": 2,
   "metadata": {
    "slideshow": {
     "slide_type": "skip"
    }
   },
   "outputs": [],
   "source": [
    "from IPython.display import HTML"
   ]
  },
  {
   "cell_type": "markdown",
   "metadata": {
    "slideshow": {
     "slide_type": "slide"
    }
   },
   "source": [
    "*ANYL 580: NLP for Data Analytics*\n",
    "\n",
    "# **Dialogue**"
   ]
  },
  {
   "cell_type": "markdown",
   "metadata": {
    "slideshow": {
     "slide_type": "slide"
    }
   },
   "source": [
    "## What is Conversation?\n",
    "\n",
    "![](../images/dialogue.png)"
   ]
  },
  {
   "cell_type": "markdown",
   "metadata": {
    "slideshow": {
     "slide_type": "notes"
    }
   },
   "source": [
    "When we talk about NLP in dialogue or conversation, there are a variety of sorts of interaction:\n",
    "\n",
    "- Support to human-human conversation. This is computer-mediated conversation. Think about a meeting note-taker, moderator, etc.\n",
    "- Interaction between a human and a machine such as Siri or Alexa. Of course, this doesn't have to be speech but could be text chat.\n",
    "\n",
    "Regardless, conversation is the basic means by which humans interact with each other. This means any supportive or assistive technology must support how humans talk."
   ]
  },
  {
   "cell_type": "code",
   "execution_count": 4,
   "metadata": {
    "slideshow": {
     "slide_type": "slide"
    }
   },
   "outputs": [
    {
     "data": {
      "text/html": [
       "<iframe width=\"560\" height=\"315\" src=\"https://www.youtube.com/embed/3YxXsQMAvWg?rel=0&amp;controls=0&amp;showinfo=0\" frameborder=\"0\" allowfullscreen></iframe>"
      ],
      "text/plain": [
       "<IPython.core.display.HTML object>"
      ]
     },
     "execution_count": 4,
     "metadata": {},
     "output_type": "execute_result"
    }
   ],
   "source": [
    "# Joint Activity\n",
    "\n",
    "HTML('<iframe width=\"560\" height=\"315\" src=\"https://www.youtube.com/embed/3YxXsQMAvWg?rel=0&amp;controls=0&amp;showinfo=0\" frameborder=\"0\" allowfullscreen></iframe>')"
   ]
  },
  {
   "cell_type": "markdown",
   "metadata": {
    "slideshow": {
     "slide_type": "notes"
    }
   },
   "source": [
    "We're going to talk about dialogue (conversation between two interlocutors), but let's focus in on goals and interaction since this has greater bearing on design than how we process language in the brain.\n",
    "\n",
    "Here some examples of interaction that involve joint activity: teaching, job interview, game, dinner party, task.\n",
    "\n",
    "For example, in a store transaction there are typically at least two roles: server and customer. What we communicate during interaction is partly defined by our role and our goals. But people also have their personal identities, beliefs, feelings & desires.\n",
    "\n",
    "People participate in joint activities to achieve goals.\n",
    "\n",
    "In most joint activities, people pursue multiple goals - public and private goals. Business goal (transaction), procedural goals (doing this quickly and efficiently), interpersonal goals (remaining polite), private agendas.\n",
    "\n",
    "Joint activities require coordination. Conventional procedures and language use.\n",
    "\n",
    "Joint activities are composed of joint actions.\n",
    "- Greeting\n",
    "- Request assistance\n",
    "- Pay for items\n",
    "- Conclude\n",
    "\n",
    "Joint actions can be coordinated because they divide into phases: they have identifiable functions and entry/exits.\n",
    "\n",
    "Phases get coordinated. (Imagine how your actions are coordinated when you are introduced to someone.)\n",
    "\n",
    "For example, in conversation people take turns. These turns are distinguishable as intonation units. (Even if you can't hear what someone says, you can hear the rise and fall of their voice.) Entries and exits of turns are marked in syntax, morphology and intonation. For example, intonation units begin on a high pitch, drop gradually over the unit, and end with a distinctive fall or rise. They also tend to have a focal accented syllable at or near the end. These patterns are found in all languages. These intonational contours help aid listeners to project exit times more accurately.\n",
    "\n",
    "Spoken language is highly synchronized. People are surprisingly good at judging entry and exit times, as well as accounting for processing difficulty.\n",
    "\n",
    "There are boundaries - entries and exits that each participant has to recognize and understand.\n",
    "\n",
    "People agree on the joint activity, who takes part, what roles they play before committing to the part."
   ]
  },
  {
   "cell_type": "markdown",
   "metadata": {
    "slideshow": {
     "slide_type": "slide"
    }
   },
   "source": [
    "Various dimensions in dialogue:\n",
    "- scriptedness (Marriage ceremony versus encounter in a hallway)\n",
    "- formality (formal meeting, gossip)\n",
    "- verbalness (phone call, tennis game)\n",
    "- cooperativeness (restaurant to competitive game)\n",
    "- governance \"side-edness\" (greeting a colleague, versus student in a class)\n"
   ]
  },
  {
   "cell_type": "markdown",
   "metadata": {
    "slideshow": {
     "slide_type": "slide"
    }
   },
   "source": [
    "## Dialogue as Discourse\n",
    "\n",
    "![](../images/discourse-continuum.png)"
   ]
  },
  {
   "cell_type": "markdown",
   "metadata": {
    "slideshow": {
     "slide_type": "notes"
    }
   },
   "source": [
    "Any interaction between humans that involves coordination brings into play language skills. We are a social animal and our language skills are entwined with social cooperation."
   ]
  },
  {
   "cell_type": "markdown",
   "metadata": {
    "slideshow": {
     "slide_type": "slide"
    }
   },
   "source": [
    "## Dialogue is multi-turn\n",
    "\n",
    "Why don’t Siri and Alexa do this (well) yet? \n",
    "    - Inter-sentential contextual expressions: for example, he/she/it, this/that/these…, here/there, yesterday/today… \n",
    "    - Pragmatic interpretation: “what you mean” versus “what you say” - Error detection and repair"
   ]
  },
  {
   "cell_type": "markdown",
   "metadata": {
    "slideshow": {
     "slide_type": "notes"
    }
   },
   "source": [
    "You need some sort of context modeling to interpret deictic (e.g., pointing) expressions and those which refer to previous dialogue context.\n",
    "Only last year, Amazon released a simple dialogue development kit. https://developer.amazon.com/docs/custom-skills/dialog-interface-reference.html"
   ]
  },
  {
   "cell_type": "markdown",
   "metadata": {
    "slideshow": {
     "slide_type": "slide"
    }
   },
   "source": [
    "# Conversational Agents\n",
    "\n",
    "- Alexa, Siri, Cortana, Google Assistant\n",
    "- Robot communication\n",
    "- Help agents\n",
    "- Etc."
   ]
  },
  {
   "cell_type": "markdown",
   "metadata": {
    "slideshow": {
     "slide_type": "slide"
    }
   },
   "source": [
    "![](../images/chat-modes.png)"
   ]
  },
  {
   "cell_type": "markdown",
   "metadata": {
    "slideshow": {
     "slide_type": "slide"
    }
   },
   "source": [
    "![](../images/chatbots.png)"
   ]
  },
  {
   "cell_type": "markdown",
   "metadata": {
    "slideshow": {
     "slide_type": "notes"
    }
   },
   "source": [
    "https://www.theatlantic.com/technology/archive/2014/06/when-parry-met-eliza-a-ridiculous-chatbot-conversation-from-1972/372428/\n",
    "\n",
    "\n",
    "> In 1966, the computer scientist Joseph Weizenbaum created a program that seemed to be a contender for Turing Test passage. The early chatbot searched for keywords in conversations conducted with human typers; if the human used one of those words,  the program would use it in its reply. If not, it would offer a generic response. It was meant to mimic a psychotherapist (which allowed it to adopt \"the pose of knowing almost nothing of the real world\"); he named it ELIZA. And in 1972, the Stanford scientist Kenneth Colby created another program, PARRY—a bot that tried to model the behavior of a paranoid schizophrenic. PARRY was, Colby said, \"ELIZA with attitude.\n",
    "\n",
    "Mmental model: Parry has affective variables \n",
    "- Anger, Fear, Mistrust\n",
    "- “If Anger level is high, respond with hostility”\n",
    "\n",
    "\n",
    "Originally designed as a testbed for clinical therapy. So it has a trick.\n",
    "\n",
    "- Draw the patient out by reflecting patient’s statements back at them\n",
    "- Rare type of conversation in which one can “assume the pose of knowing almost nothing of the real world”"
   ]
  },
  {
   "cell_type": "markdown",
   "metadata": {
    "slideshow": {
     "slide_type": "slide"
    }
   },
   "source": [
    "## Social Interaction\n",
    "\n",
    "**Patient:** \"I went for a long boat ride” \n",
    "\n",
    "**Psychiatrist:** \"Tell me about boats”\n",
    "\n",
    "- You don’t assume she didn’t know what a boat is\n",
    "- You assume she had some conversational goal\n",
    "- Chatbots trying to pass the Turing test usually choose some such domain"
   ]
  },
  {
   "cell_type": "markdown",
   "metadata": {
    "slideshow": {
     "slide_type": "slide"
    }
   },
   "source": [
    "![](../images/eliza-pattern.png)"
   ]
  },
  {
   "cell_type": "markdown",
   "metadata": {
    "slideshow": {
     "slide_type": "slide"
    }
   },
   "source": [
    "## Parry\n",
    "\n",
    "![](../images/parry.png)"
   ]
  },
  {
   "cell_type": "markdown",
   "metadata": {
    "slideshow": {
     "slide_type": "slide"
    }
   },
   "source": [
    "![](../images/parry-mental-model.png)"
   ]
  },
  {
   "cell_type": "markdown",
   "metadata": {
    "slideshow": {
     "slide_type": "notes"
    }
   },
   "source": [
    "Parry implemented a crude model of the behavior of a person with paranoid schizophrenia based on concepts, conceptualizations, and beliefs (judgements about conceptualizations: accept, reject, neutral). \n",
    "\n",
    "PARRY encounters ELIZA\n",
    "\n",
    "The session recorded below actually happened on 18 September 1972 and is herewith reproduced for your entertainment.ELIZA: Good Evening.\n",
    "\n",
    "ELIZA: Tell me your problems. Please terminate input with a period or a\n",
    "question mark.\n",
    "\n",
    "PARRY: People get on my nerves sometimes.\n",
    "\n",
    "ELIZA: I am not sure I understand you fully.\n",
    "\n",
    "PARRY: You should pay more attention.\n",
    "\n",
    "ELIZA: Suppose you should pay more attention.\n",
    "\n",
    "PARRY: You’re entitled to your own opinion.\n",
    "\n",
    "ELIZA: What makes you think I am entitled to my own opinion?\n",
    "\n",
    "PARRY: It bothers me just to be around people in general.\n",
    "\n",
    "ELIZA: Please go on.\n",
    "\n",
    "PARRY: I went to the track at Bay Meadows a while back.\n",
    "\n",
    "ELIZA: What does that suggest to you?\n",
    "\n",
    "PARRY: I went to the races.\n",
    "\n",
    "ELIZA: What else would you like to discuss?\n",
    "\n",
    "PARRY: Horseracing interests me.\n",
    "\n",
    "ELIZA: Why do you say that just now?\n",
    "\n",
    "PARRY: There’s a lot of crooked gambling going on there.\n",
    "\n",
    "ELIZA: I am not sure I understand you fully,\n",
    "\n",
    "PARRY: It’s clear to me if not to you.\n",
    "\n",
    "ELIZA: Do you think its likely that not to I?\n",
    "\n",
    "PARRY: I went to the races.\n",
    "\n",
    "ELIZA: Please go on.\n",
    "\n",
    "PARRY: I gamble on horses.\n",
    "\n",
    "ELIZA: What does that suggest to you?\n",
    "\n",
    "PARRY: I went to the races.\n",
    "\n",
    "ELIZA: What else would you like to discuss?\n",
    "\n",
    "PARRY: Gambling has been nothing but trouble to me.\n",
    "\n",
    "ELIZA: Why do you say that just now?\n",
    "\n",
    "PARRY: I’ve had experience with crooks gambling at the track.\n",
    "\n",
    "ELIZA: I am not sure I understand you fully.\n",
    "\n",
    "PARRY: I’ve already told you enough about that.\n",
    "\n",
    "ELIZA: Oh? I enough about that?\n",
    "\n",
    "PARRY: I went to the races.\n",
    "\n",
    "comment: This has to be the most persistent and patient\n",
    "paranoid I have ever encountered.\n",
    "\n",
    "ELIZA: Please go on.\n",
    "\n",
    "PARRY: Do you know anything about bookies?\n",
    "\n",
    "ELIZA: What makes you think I know anything about bookies?\n",
    "\n",
    "PARRY: A bookie didn’t pay me off once.\n",
    "\n",
    "ELIZA: What does that suggest to you?\n",
    "\n",
    "PARRY: I beat up the bookie who did not pay off, and I thought he might use his friends in the underworld to get even with me.\n",
    "\n",
    "ELIZA: What else would you like to discuss?\n",
    "\n",
    "PARRY: What do you know about racketeers?\n",
    "\n",
    "ELIZA: Why do you ask?\n",
    "\n",
    "PARRY: What experience have you had gambling?\n",
    "\n",
    "ELIZA: Why does that question interest you?\n",
    "\n",
    "PARRY: I like horseraces.\n",
    "\n",
    "ELIZA: What else do you like?\n",
    "\n",
    "PARRY: I know the mob controls the big rackets.\n",
    "\n",
    "ELIZA: Who are you really talking about?\n",
    "\n",
    "PARRY: Have you ever really thought about the MAFIA?\n",
    "\n",
    "ELIZA: Suppose you ever really thought about the MAFIA.\n",
    "\n",
    "PARRY: Let’s talk about something else.\n",
    "\n",
    "ELIZA: I am not sure I understand you fully.\n",
    "\n",
    "PARRY: You keep asking me the same things, why not change the topic?\n",
    "\n",
    "ELIZA: In what way?\n",
    "\n",
    "PARRY: What do you mean?\n",
    "\n",
    "ELIZA: Why are such questions on your mind?\n",
    "\n",
    "PARRY: I thought I told you, people get on my nerves.\n",
    "\n",
    "ELIZA: Your nerves?\n",
    "\n",
    "PARRY: Well, I don’t know.\n",
    "\n",
    "ELIZA: Don’t you really know?\n",
    "\n",
    "PARRY: I would say so.\n",
    "\n",
    "ELIZA: Please go on.\n",
    "\n",
    "PARRY: I would rather not discuss that anymore."
   ]
  },
  {
   "cell_type": "markdown",
   "metadata": {
    "slideshow": {
     "slide_type": "slide"
    }
   },
   "source": [
    "## Task-Based Interaction\n",
    "\n",
    "What do we need besides understanding and generation?\n",
    "\n",
    "- Model of the task\n",
    "- Some way to manage the interaction\n",
    "    - Error detection and repair\n",
    "    - Conversational history\n",
    "    - Where we are in the task\n",
    "- Some idea of how \"initiative\" works (user vs system)\n",
    "- Lots of flexibility on chunking information"
   ]
  },
  {
   "cell_type": "markdown",
   "metadata": {
    "slideshow": {
     "slide_type": "slide"
    }
   },
   "source": [
    "## Initiative and Sub-Dialogues\n",
    "\n",
    "U: Set the alarm\n",
    "\n",
    "S: Alarm for what time?\n",
    "\n",
    "    U: What time is it\n",
    "    \n",
    "    S: 10:15\n",
    "    \n",
    "    U: OK\n",
    "    \n",
    "Larsson (2017) [User-initiated Sub-dialogues\n",
    "in State-of-the-art Dialogue Systems](https://www.aclweb.org/anthology/W17-5503.pdf)"
   ]
  },
  {
   "cell_type": "markdown",
   "metadata": {
    "slideshow": {
     "slide_type": "slide"
    }
   },
   "source": [
    "![](../images/mixed-initiative.png)"
   ]
  },
  {
   "cell_type": "markdown",
   "metadata": {
    "slideshow": {
     "slide_type": "slide"
    }
   },
   "source": [
    "# Frame-Based Dialogue\n",
    "\n",
    "![](../images/frame-based-dialog.png)"
   ]
  },
  {
   "cell_type": "markdown",
   "metadata": {
    "slideshow": {
     "slide_type": "notes"
    }
   },
   "source": [
    "This is really new! Like in the last two years! We've had slots and frames for a long time... but not operationalized in commercial speech technology. "
   ]
  },
  {
   "cell_type": "markdown",
   "metadata": {
    "slideshow": {
     "slide_type": "slide"
    }
   },
   "source": [
    "![](../images/frame.png)"
   ]
  },
  {
   "cell_type": "markdown",
   "metadata": {
    "slideshow": {
     "slide_type": "slide"
    }
   },
   "source": [
    "## Dialogue Manager\n",
    "\n",
    "![](../images/finite-state-dialogue-manager.png)"
   ]
  },
  {
   "cell_type": "markdown",
   "metadata": {
    "slideshow": {
     "slide_type": "notes"
    }
   },
   "source": [
    "- The dialogue system controls the user interaction\n",
    "- It tries to track the state of the current task\n",
    "- It asks questions and receives answers from the user\n",
    "- It generally ignores off-task utterances"
   ]
  },
  {
   "cell_type": "markdown",
   "metadata": {
    "slideshow": {
     "slide_type": "slide"
    }
   },
   "source": [
    "## Traditional Dialogue Systems\n",
    "\n",
    "![](../images/traditional-dialog.png)"
   ]
  },
  {
   "cell_type": "markdown",
   "metadata": {
    "slideshow": {
     "slide_type": "notes"
    }
   },
   "source": [
    "This is an over-simplification. \n",
    "\n",
    "A dialogue policy decides how the system should respond given the current state.\n",
    "\n",
    "But it's easy to see why **system-initiated** dialogue might be preferred in frame-based dialogue. But human-human dialogue tends to be **mixed initiative** where participants take turns and pass initiative back-and-forth."
   ]
  },
  {
   "cell_type": "markdown",
   "metadata": {
    "slideshow": {
     "slide_type": "slide"
    }
   },
   "source": [
    "## Knowledge\n",
    "\n",
    "- Conversational context (dialogue history)\n",
    "- Task model (knowledge about the task)\n",
    "- Domain knowledge (knowledge of the world)\n",
    "- User model (user's goals, plans, intentions, attitudes, beliefs)\n",
    "\n",
    "... what about knowledge accumulation?"
   ]
  },
  {
   "cell_type": "markdown",
   "metadata": {
    "slideshow": {
     "slide_type": "slide"
    }
   },
   "source": [
    "# More Sophisticated Dialogue\n",
    "\n",
    "![](../images/siri-dialogue.png)"
   ]
  },
  {
   "cell_type": "markdown",
   "metadata": {
    "slideshow": {
     "slide_type": "slide"
    }
   },
   "source": [
    "## Grounding\n",
    "\n",
    "\n",
    "- Dialogue is social and a collective act by the speaker and hearer\n",
    "- Common ground is the set of things mutually believed by both speaker and hearer\n",
    "- Knowledge accumulates in through *grounding*\n",
    "\n",
    "> Clark (1996): *Principle of closure*: Agents performing an action require evidence, sufficient for current purposes, that they have succeeded in performing it.\n",
    "\n",
    "Action success or failure"
   ]
  },
  {
   "cell_type": "markdown",
   "metadata": {
    "slideshow": {
     "slide_type": "slide"
    }
   },
   "source": [
    "## Grounding Example\n",
    "\n",
    "![](../images/grounding-example.png)\n"
   ]
  },
  {
   "cell_type": "markdown",
   "metadata": {
    "slideshow": {
     "slide_type": "slide"
    }
   },
   "source": [
    "## Conversation is how people exchange thoughts\n",
    "\n",
    "![](../images/mind-reading.jpg)"
   ]
  },
  {
   "cell_type": "markdown",
   "metadata": {
    "slideshow": {
     "slide_type": "slide"
    }
   },
   "source": [
    "## What is meant is hard\n",
    "\n",
    "![](../images/speech-acts.png)"
   ]
  },
  {
   "cell_type": "code",
   "execution_count": 5,
   "metadata": {
    "slideshow": {
     "slide_type": "slide"
    }
   },
   "outputs": [
    {
     "data": {
      "text/html": [
       "<iframe width=\"560\" height=\"315\" src=\"https://www.youtube.com/embed/PY9RQFX28j0\" frameborder=\"0\" allowfullscreen></iframe>"
      ],
      "text/plain": [
       "<IPython.core.display.HTML object>"
      ]
     },
     "execution_count": 5,
     "metadata": {},
     "output_type": "execute_result"
    }
   ],
   "source": [
    "# How we talk depends on the external context:\n",
    "# who we are talking to\n",
    "# where we're talking to them\n",
    "# who is listening or overhearing\n",
    "# how much we want to say in the presence of others\n",
    "# -- and all this changes from situation-to-situation\n",
    "# -- and over time\n",
    "\n",
    "\n",
    "HTML('<iframe width=\"560\" height=\"315\" src=\"https://www.youtube.com/embed/PY9RQFX28j0\" frameborder=\"0\" allowfullscreen></iframe>')\n",
    "\n"
   ]
  },
  {
   "cell_type": "markdown",
   "metadata": {
    "slideshow": {
     "slide_type": "slide"
    }
   },
   "source": [
    "# Evaluation\n",
    "\n",
    "![](../images/dialogue-evaluation.png)"
   ]
  },
  {
   "cell_type": "markdown",
   "metadata": {
    "slideshow": {
     "slide_type": "slide"
    }
   },
   "source": [
    "## Dialogue System Design\n",
    "\n",
    "![](../images/dialogue-system-design.png)"
   ]
  },
  {
   "cell_type": "markdown",
   "metadata": {
    "slideshow": {
     "slide_type": "slide"
    }
   },
   "source": [
    "## Ethical Challenges\n",
    "\n",
    "![](../images/ethical-issues-dialogue.png)"
   ]
  },
  {
   "cell_type": "markdown",
   "metadata": {
    "slideshow": {
     "slide_type": "slide"
    }
   },
   "source": [
    "## Ethical Challenges\n",
    "\n",
    "![](../images/ethical-issues-dialogue2.png)"
   ]
  },
  {
   "cell_type": "markdown",
   "metadata": {
    "slideshow": {
     "slide_type": "slide"
    }
   },
   "source": [
    "## Ethical Challenges\n",
    "\n",
    "![](../images/ethical-issues-dialogue3.png)"
   ]
  },
  {
   "cell_type": "markdown",
   "metadata": {
    "slideshow": {
     "slide_type": "slide"
    }
   },
   "source": [
    "## Ethical Challenges\n",
    "\n",
    "![](../images/ethical-issues-dialogue4.png)"
   ]
  },
  {
   "cell_type": "markdown",
   "metadata": {
    "slideshow": {
     "slide_type": "slide"
    }
   },
   "source": [
    "# What's Next?\n",
    "\n",
    "- Conversation UX  -- \"Many of the successful Alexa Prize teams would automatically adapt their dialogue manager based on a user’s interests\"\n",
    "- Greater focus on personality, culture, convention\n",
    "- Diverse neural architectures and improved NLU"
   ]
  },
  {
   "cell_type": "markdown",
   "metadata": {
    "slideshow": {
     "slide_type": "notes"
    }
   },
   "source": [
    "Good reads!\n",
    "\n",
    "- https://medium.com/wluper/not-another-conversational-ai-report-4a094337e6f1\n",
    "- https://medium.com/wluper/how-do-dialogue-systems-decide-what-to-say-or-which-actions-to-take-b32ca223aff1"
   ]
  }
 ],
 "metadata": {
  "celltoolbar": "Slideshow",
  "file_extension": ".py",
  "jupytext": {
   "comment_magics": false,
   "encoding": "# -*- coding: utf-8 -*-",
   "formats": "ipynb,md"
  },
  "kernelspec": {
   "display_name": "Python 3",
   "language": "python",
   "name": "python3"
  },
  "language_info": {
   "codemirror_mode": {
    "name": "ipython",
    "version": 3
   },
   "file_extension": ".py",
   "mimetype": "text/x-python",
   "name": "python",
   "nbconvert_exporter": "python",
   "pygments_lexer": "ipython3",
   "version": "3.7.4"
  },
  "mimetype": "text/x-python",
  "name": "python",
  "npconvert_exporter": "python",
  "pygments_lexer": "ipython3",
  "toc": {
   "base_numbering": 1,
   "nav_menu": {},
   "number_sections": true,
   "sideBar": true,
   "skip_h1_title": false,
   "title_cell": "Table of Contents",
   "title_sidebar": "Contents",
   "toc_cell": false,
   "toc_position": {
    "height": "calc(100% - 180px)",
    "left": "10px",
    "top": "150px",
    "width": "271px"
   },
   "toc_section_display": true,
   "toc_window_display": false
  },
  "version": 3
 },
 "nbformat": 4,
 "nbformat_minor": 2
}
