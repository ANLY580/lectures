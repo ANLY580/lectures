{
 "cells": [
  {
   "cell_type": "code",
   "execution_count": 2,
   "metadata": {
    "slideshow": {
     "slide_type": "skip"
    }
   },
   "outputs": [],
   "source": [
    "from IPython.display import HTML"
   ]
  },
  {
   "cell_type": "markdown",
   "metadata": {
    "slideshow": {
     "slide_type": "slide"
    }
   },
   "source": [
    "*ANYL 580: NLP for Data Analytics*\n",
    "\n",
    "# **Lecture 6: Vector Semantics**"
   ]
  },
  {
   "cell_type": "markdown",
   "metadata": {
    "slideshow": {
     "slide_type": "slide"
    }
   },
   "source": [
    "# Topics\n",
    "\n",
    "- Semeval 2017\n",
    "- Features redux\n",
    "- Project #1\n",
    "- Feature engineering\n",
    "- Toolkits (so far)\n",
    "- Vectorization\n",
    " - Frequency\n",
    " - One-hot encoding\n",
    " - TF-IDF\n",
    " - Weighted log odds\n",
    " - PMI\n",
    "- Maxent (logistic regression) classifiers\n",
    "- Learning and Optimization\n",
    " - Pipelines\n",
    " - Grid search\n",
    "- Similarity\n",
    "- Co-occurence and meaning\n",
    "- Vector space models \n",
    "- Distributed representations (lead into next week - document models and word2vec feature models)"
   ]
  },
  {
   "cell_type": "markdown",
   "metadata": {
    "slideshow": {
     "slide_type": "slide"
    }
   },
   "source": [
    "# Semeval 2017\n",
    "\n",
    "![](../images/semeval-framework.jpg)"
   ]
  },
  {
   "cell_type": "markdown",
   "metadata": {
    "slideshow": {
     "slide_type": "notes"
    }
   },
   "source": [
    "Stages of SemEval/Senseval evaluation workshops\n",
    "\n",
    "- Expression of interest\n",
    "- Time table\n",
    "- Plan to collection and annotate data\n",
    "- Gold files released to participants\n",
    "- Participants run a test\n",
    "- Organizers score answers and scores annoated and discussed at a workshop. Important to this process are shared, detailed papers and code for the purpose of advancing the state of the art and practice."
   ]
  },
  {
   "cell_type": "markdown",
   "metadata": {
    "slideshow": {
     "slide_type": "slide"
    }
   },
   "source": [
    "# Why four ground truth data sets?\n",
    "\n",
    "<img src=\"../images/model-triple.png\" width=\"400\">"
   ]
  },
  {
   "cell_type": "markdown",
   "metadata": {
    "slideshow": {
     "slide_type": "notes"
    }
   },
   "source": [
    "Image from: Bengfort, Bilbro, and Ojeda Applied Text Analysis with Python. \n",
    "\n",
    "Further insights from Wickham (2015) [Visualizing Statistical Models: Removing the Blindfold](http://had.co.nz/stat645/model-vis.pdf), and Kumar, McCann, Naughton, and Patel (2015) [Model Selection Management Systems: The Next Frontier of Advanced Analytics](http://pages.cs.wisc.edu/~arun/vision/SIGMODRecord15.pdf).\n",
    "\n",
    "Note, we've been focused on the yellow box around feature engineering, but with the introduction of linear models in J&M chapter 5, we now have more choices in terms of algorithms -- both in the sort of model we can use (thus far, generative versus discriminative), but also in terms of the parameters of that model and how it's tuned to the particular data we are using. \n",
    "\n",
    "The organizers of semeval 2017 released four gold data sets with the understanding that a testdev data set would be used against, perhaps, hundreds of test runs for **hyperparameter tuning** a day. Thus, train and dev are used to tune features, testdev for hyperparameter tuning, and test for runs against new data. We'll talk about hyperparameters a bit today in the context of maxent.\n",
    "\n",
    "That said, it's important that all data sets represent a common distribution. Errors in setting up evaluations have happened and will no doubt happen in the future. The statistical analyses you run to examine distributional properties of your data are important!"
   ]
  },
  {
   "cell_type": "markdown",
   "metadata": {},
   "source": [
    "# Links to resources\n",
    "\n",
    "- Task page: http://alt.qcri.org/semeval2017/task4/index.php?id=data-and-tools\n",
    "- Test your skills!: https://competitions.codalab.org/competitions/15632\n",
    "- Task 4 (Twitter sentiment) Description: https://www.aclweb.org/anthology/S17-2088.pdf\n",
    " - A: Given a tweet, decide whether it expresses POSITIVE, NEGATIVE or NEUTRAL sentiment.\n",
    " - B: Given a tweet and a topic, classify the sentiment conveyed towards that topic on a two-point scale: POSITIVE vs. NEGATIVE.\n",
    " - C: Given a tweet and a topic, classify the sentiment conveyed in the tweet towards that topic on a five-point scale: STRONGLYPOSITIVE, WEAKLYPOSITIVE, NEUTRAL, WEAKLYNEGATIVE, and STRONGLYNEGATIVE.\n",
    " - D: Given a set of tweets about a topic, estimate the distribution of tweets across the POSITIVE and NEGATIVE classes.\n",
    " - E: Given a set of tweets about a topic, estimate the distribution of tweets across the five classes: STRONGLYPOSITIVE, WEAKLYPOSITIVE, NEUTRAL, WEAKLYNEGATIVE, and STRONGLYNEGATIVE.\n",
    " \n",
    " For both English and Arabic.\n",
    " \n",
    " You competed in Task 4A!"
   ]
  },
  {
   "cell_type": "markdown",
   "metadata": {
    "slideshow": {
     "slide_type": "slide"
    }
   },
   "source": [
    "# How did the teams do?\n",
    "<img src=\"../images/semeval-scores.png\" width=\"400\">"
   ]
  },
  {
   "cell_type": "markdown",
   "metadata": {
    "slideshow": {
     "slide_type": "notes"
    }
   },
   "source": [
    "For English the best ranking teams were BB twtr and DataStories, both achieving a macroaverage recall of 0.681. Both top teams used deep learning.\n",
    "\n",
    "Three of the top-10 scoring teams (INGEOTEC, SiTAKA, and UCSC-NLP) used SVM classifiers instead, with various surface, lexical, semantic, and dense word embedding features. The use of ensembles clearly stood out, with five of the top-10 scoring systems (BB twtr, LIA, NNEMBs, Tweester, and INGEOTEC) using ensembles, hybrid, stacking or some kind of mix of learning methods.\n",
    "\n",
    "Can you see why AVEREC is useful? Note that a few teams did not beat the baseline F1 score or accuracy score. How did you do?"
   ]
  },
  {
   "cell_type": "markdown",
   "metadata": {
    "slideshow": {
     "slide_type": "slide"
    }
   },
   "source": [
    "# Some participant papers\n",
    "\n",
    "- [NILC-USP at SemEval-2017 Task 4: A Multi-view Ensemble for Twitter Sentiment Analysis](https://pdfs.semanticscholar.org/f649/33e626330997feb9ff3c1484da93127b88ab.pdf)  \n",
    " - https://github.com/edilsonacjr/semeval2017\n",
    "- [TwiSE at SemEval-2016 Task 4: Twitter Sentiment Classification](https://arxiv.org/pdf/1606.04351.pdf)\n",
    "- https://github.com/balikasg/SemEval2016-Twitter_Sentiment_Evaluation\n",
    "- 🎓 [Minions at SemEval-2016 Task 4: or how to build a sentiment analyzer using off-the-shelf resources?](https://www.aclweb.org/anthology/S16-1038.pdf)"
   ]
  },
  {
   "cell_type": "markdown",
   "metadata": {
    "slideshow": {
     "slide_type": "notes"
    }
   },
   "source": [
    "- The first team used scikit-learn Linear Regression and Support Vector machines with three types of text representation:  1) bag-of-words model weighted by tf-idf; 2) average of the word embedding vectors of the words in the tweet and, 3) averaged weighted word embeddings of all words in the tweet with tf-idf weights. They supplemented features with sentiment lexicons.\n",
    "\n",
    "\n",
    "- Feature engineering of ngrams and sentiment lexicons for unigrams and bigrams. Bag-of-words with hashing representation. They used Logistic Regression and SVMs as base models and in an ensemble learning approach. They first generated a set of models that performed well as individual models, and then selected a subset of models that generate diverse outputs and combined them using an ensemble learning step with the intent to lower generalization error.\n",
    "\n",
    "\n",
    "- The third is a paper written by a team in a Master's program in Computational Linguistics in Romania. They used public APIs and tools including Alchemy API, sentiment140.com, and NLTK. "
   ]
  },
  {
   "cell_type": "markdown",
   "metadata": {
    "slideshow": {
     "slide_type": "slide"
    }
   },
   "source": [
    "# Project #1 Class Leaderboard (AveRec)\n",
    "\n",
    "\n",
    "Section 1:\n",
    "- <font color = \"red\">Pho75</font> **.752**\n",
    "- Wonder 4 **.544**\n",
    "- <font color = \"red\">Amazing Four</font> **.543**\n",
    "- Bangkok 54 **.537**\n",
    "- Insight X **.517**\n",
    "- 3+1 **.516**\n",
    "- Beautiful Soup **.508**\n",
    "- Dance Squad **.469**\n",
    "\n",
    "Section 2:\n",
    "- Group Name Taken **.584**\n",
    "- <font color = \"red\">404 not found</font> **.576**\n",
    "- The Word Nerd **.568**\n",
    "- NLP #1 **.564**\n",
    "- I.O.S. **.560**\n",
    "- Hotdog **.542**\n",
    "- <font color = \"red\">Asian Fusion 66</font> **.507**\n",
    "- TPS **.499\n",
    "- Be Better **.379**\n",
    "- Sailor Moon **.349**\n"
   ]
  },
  {
   "cell_type": "markdown",
   "metadata": {
    "slideshow": {
     "slide_type": "slide"
    }
   },
   "source": [
    "# Feature-based models\n",
    "- What features do I use? (selection)\n",
    "- How do I weigh features? \n",
    "- How do I combine weights to make a prediction?"
   ]
  },
  {
   "cell_type": "markdown",
   "metadata": {
    "slideshow": {
     "slide_type": "notes"
    }
   },
   "source": [
    "The idea of **feature selection** is to identify properties of a document that will likely contribute to classification as positive, negative, and neutral.\n",
    "\n",
    "Feature selection is useful for reducing the dimensionality of sample data and take advantage of words and other features that we know vary with respect to the task at hand.\n",
    "\n",
    "But we still need to quantify these features in such a way that we can distinguish the relative importance of words (again with respect to the task at hand). **Feature extraction** is concerned with  quantification and also further dimensionality reduction.\n",
    "\n",
    "And on top of this, we may need to **weight features, normalize, and regularize** so that we highlight the aspects we care about and also so that we avoid over-fitting to the sample data."
   ]
  },
  {
   "cell_type": "markdown",
   "metadata": {
    "slideshow": {
     "slide_type": "slide"
    }
   },
   "source": [
    "# Feature Selection for Sentiment\n",
    "- Case (capitalization)\n",
    "- Previous word\n",
    "- Stemming, lemmatization\n",
    "- Unigrams, bigrams\n",
    "- Part-of-speech\n",
    "- Ontological information (e.g., part-whole relationships)\n",
    "- Lexical and syntactic features (e.g., adjectives, adverbs, terms near subjective expressions)"
   ]
  },
  {
   "cell_type": "code",
   "execution_count": 152,
   "metadata": {
    "slideshow": {
     "slide_type": "notes"
    }
   },
   "outputs": [],
   "source": [
    "import nltk\n",
    "import IPython\n",
    "import os\n",
    "from collections import Counter\n",
    "from nltk.tree import Tree\n",
    "from IPython.display import Image, display\n",
    "from IPython.display import Image, display\n",
    "from nltk.draw import TreeWidget\n",
    "from nltk.draw.util import CanvasFrame"
   ]
  },
  {
   "cell_type": "code",
   "execution_count": 153,
   "metadata": {
    "slideshow": {
     "slide_type": "notes"
    }
   },
   "outputs": [],
   "source": [
    "def jupyter_draw_nltk_tree(tree):\n",
    "    cf = CanvasFrame()\n",
    "    tc = TreeWidget(cf.canvas(), tree)\n",
    "    tc['node_font'] = 'arial 13 bold'\n",
    "    tc['leaf_font'] = 'arial 14'\n",
    "    tc['node_color'] = '#005990'\n",
    "    tc['leaf_color'] = '#3F8F57'\n",
    "    tc['line_color'] = '#175252'\n",
    "    cf.add_widget(tc, 10, 10)\n",
    "    cf.print_to_file('tmp_tree_output.ps')\n",
    "    cf.destroy()\n",
    "    os.system('convert tmp_tree_output.ps tmp_tree_output.png')\n",
    "    display(Image(filename='tmp_tree_output.png'))\n",
    "    os.system('rm tmp_tree_output.ps tmp_tree_output.png')\n"
   ]
  },
  {
   "cell_type": "code",
   "execution_count": 160,
   "metadata": {
    "slideshow": {
     "slide_type": "slide"
    }
   },
   "outputs": [
    {
     "data": {
      "image/png": "[encoded data removed]",
      "text/plain": [
       "<IPython.core.display.Image object>"
      ]
     },
     "metadata": {},
     "output_type": "display_data"
    }
   ],
   "source": [
    "# Tree - scope example\n",
    "\n",
    "# They said NLU is amazing\n",
    "# Going to class is 'meh', but NLU is amazing\n",
    "\n",
    "tree = Tree.fromstring(\"\"\"(4 (2 NLU) (4 (2 is) (4 amazing)))\"\"\")\n",
    "jupyter_draw_nltk_tree(tree)"
   ]
  },
  {
   "cell_type": "markdown",
   "metadata": {
    "slideshow": {
     "slide_type": "slide"
    }
   },
   "source": [
    "# Hand-built features\n",
    "\n",
    "- Lexicon-derived features\n",
    "- Negation\n",
    "- Modal adverbs:\n",
    " - \"It is **quite possibly** a masterpiece.\"\n",
    " - \"It is **totally amazing**\"\n",
    "- Thwarted expectations:\n",
    " - “Many consider the movie bewildering, boring, slow-moving or annoying.”\n",
    " - “It was hailed as a brilliant, unprecedented artistic achievement worthy of multiple Oscars.”\n",
    "- Non-literal language:\n",
    " - “Not exactly a masterpiece.”\n",
    " - “Like 50 hours long.”\n",
    " - “The best movie in the history of the universe.”"
   ]
  },
  {
   "cell_type": "markdown",
   "metadata": {
    "slideshow": {
     "slide_type": "notes"
    }
   },
   "source": [
    "Examples from Chris Potts: http://web.stanford.edu/class/cs224u/materials/cs224u-2019-sentiment.pdf\n",
    "\n",
    "There is much more here on sentiment treebanks and using syntax for sentiment analysis."
   ]
  },
  {
   "cell_type": "code",
   "execution_count": 159,
   "metadata": {
    "slideshow": {
     "slide_type": "slide"
    }
   },
   "outputs": [
    {
     "data": {
      "text/plain": [
       "array([[0, 1],\n",
       "       [1, 0],\n",
       "       [0, 0],\n",
       "       [1, 1],\n",
       "       [1, 0],\n",
       "       [1, 1]])"
      ]
     },
     "execution_count": 159,
     "metadata": {},
     "output_type": "execute_result"
    }
   ],
   "source": [
    "# This example from https://scikit-learn.org/stable/modules/feature_selection.html\n",
    "\n",
    "from sklearn.feature_selection import VarianceThreshold\n",
    "X = [[0, 0, 1], [0, 1, 0], [1, 0, 0], [0, 1, 1], [0, 1, 0], [0, 1, 1]]\n",
    "sel = VarianceThreshold(threshold=(.8 * (1 - .8)))\n",
    "sel.fit_transform(X)"
   ]
  },
  {
   "cell_type": "markdown",
   "metadata": {
    "slideshow": {
     "slide_type": "notes"
    }
   },
   "source": [
    "From: https://scikit-learn.org/stable/modules/feature_selection.html\n",
    "\n",
    "VarianceThreshold is a simple baseline approach to feature selection. It removes all features whose variance doesn’t meet some threshold. By default, it removes all zero-variance features, i.e. features that have the same value in all samples.\n",
    "\n",
    "As an example, suppose that we have a dataset with boolean features, and we want to remove all features that are either one or zero (on or off) in more than 80% of the samples. Boolean features are Bernoulli random variables, and the variance of such variables is given by\n",
    "\n",
    "so we can select using the threshold .8 * (1 - .8):"
   ]
  },
  {
   "cell_type": "markdown",
   "metadata": {
    "slideshow": {
     "slide_type": "slide"
    }
   },
   "source": [
    "# Assessing feature functions\n",
    "\n",
    "- sklearn.feature_selection offers functions to assess how much information your feature functions contain with respect to your labels\n",
    "\n",
    "- But recall, features are not usually independent with respect to the class\n",
    "\n",
    "- Adding multiple feature *types (e.g., words and morphemes)* can lead to stronger correlations between features\n",
    "\n",
    "- Consider more holistic assessment methods: systematically removing or disrupting features in the context of a full model and comparing performance before and after."
   ]
  },
  {
   "cell_type": "markdown",
   "metadata": {
    "slideshow": {
     "slide_type": "slide"
    }
   },
   "source": [
    "# Feature Extraction V1\n",
    "<img src=\"../images/text-vectorization.png\" width=\"400\">"
   ]
  },
  {
   "cell_type": "markdown",
   "metadata": {
    "slideshow": {
     "slide_type": "notes"
    }
   },
   "source": [
    "Hopefully, during the course of thinking through a bag-of-words model for your project, you had the insight to add additional lexical resources to your model like this. While thus far we've simply thought of text vectorization as turning words into something we can compute -- there is more to it than this."
   ]
  },
  {
   "cell_type": "markdown",
   "metadata": {
    "slideshow": {
     "slide_type": "slide"
    }
   },
   "source": [
    "# Feature Extraction - Deeper Dive\n",
    "<img src=\"../images/feature-extraction.png\" width=\"400\">"
   ]
  },
  {
   "cell_type": "markdown",
   "metadata": {
    "slideshow": {
     "slide_type": "notes"
    }
   },
   "source": [
    "Image from: A Study of Feature Extraction techniques for Sentiment Analysis. https://arxiv.org/pdf/1906.01573.pdf\n",
    "\n",
    "In this diagram, there are three stage:\n",
    "1. Pre-processing\n",
    "2. Feature Extraction\n",
    "3. Classification\n",
    "\n",
    "Between stage 1 and stage 2 is **selecting features** where you may be iteratively removing noise or patterns during model tuning. \n",
    "\n",
    "From stage 2 to stage 3 is **feature extraction** and **weighting**. Feature extraction is the step where high dimensional features are mapped onto a set of low dimensional potential features for computing (classification). Weighting methods such as TF-IDF are used for ranking the relative importance of features.\n",
    "\n",
    "Finally, after stage 3 there is a consideration of fitting an algorithm and iterating over parameters and hyper-parameters."
   ]
  },
  {
   "cell_type": "markdown",
   "metadata": {
    "slideshow": {
     "slide_type": "slide"
    }
   },
   "source": [
    "# Weights (parameters)\n",
    "\n",
    "![](../images/term-weights.png)"
   ]
  },
  {
   "cell_type": "markdown",
   "metadata": {},
   "source": [
    "Image from: J&M Chapter 5\n",
    "\n",
    "We'll go over Maxent (Logistic Regression) a bit later, but for now let's appreciate the view that this algorithms tunes by weighting terms for relative importance with respect to the task.\n",
    "\n",
    "The algorithm internal parameters (w) and bias term (b) in logistic regression are **parameters** selected in training.\n",
    "\n",
    "**Hyperparameters**, on the other hand, are configurations external to the model that are used in a final tuning stage. We'll talk briefly about these in grid search, below."
   ]
  },
  {
   "cell_type": "markdown",
   "metadata": {
    "slideshow": {
     "slide_type": "slide"
    }
   },
   "source": [
    "# Toolkits\n",
    "![](../images/toolkits.png)"
   ]
  },
  {
   "cell_type": "markdown",
   "metadata": {
    "slideshow": {
     "slide_type": "notes"
    }
   },
   "source": [
    "All of these steps can be accomplished with the toolkits we're using -- though often they are used in combination. I will show you some examples of this in a bit.\n",
    "\n",
    "We've already experimented with two out of three of these toolkits and will add one more for next week when we move to topic modeling."
   ]
  },
  {
   "cell_type": "markdown",
   "metadata": {
    "slideshow": {
     "slide_type": "slide"
    }
   },
   "source": [
    "![](../images/compare-toolkits.png)"
   ]
  },
  {
   "cell_type": "markdown",
   "metadata": {
    "slideshow": {
     "slide_type": "notes"
    }
   },
   "source": [
    "From: https://medium.com/activewizards-machine-learning-company/comparison-of-top-6-python-nlp-libraries-c4ce160237eb\n",
    "\n",
    "Some other notes:\n",
    "\n",
    "| NLTK | Scikit-Learn | Gensim |\n",
    "|------|------|--------|\n",
    "| Big dependency | Not designed for text but with some NLP conveniences | Can serialize dictionaries and references in matrix market format (useful for multiple platforms) |\n",
    "| Designed for teaching | | |"
   ]
  },
  {
   "cell_type": "markdown",
   "metadata": {
    "slideshow": {
     "slide_type": "notes"
    }
   },
   "source": [
    "Until now, we've touched on two different libraries for bag-of-words representation: NLTK and Scikit-Learn. Today we'll introduce a third and talk about some of the differences.\n",
    "\n",
    "While we're at it, we'll take a look at vectorization and feature extraction across all three toolkits."
   ]
  },
  {
   "cell_type": "markdown",
   "metadata": {
    "slideshow": {
     "slide_type": "slide"
    }
   },
   "source": [
    "# Documents as Vectors\n",
    "\n",
    "![](../images/doc-vector.png)"
   ]
  },
  {
   "cell_type": "markdown",
   "metadata": {
    "slideshow": {
     "slide_type": "notes"
    }
   },
   "source": [
    "For this section on vectorization using NLTK, Scikit-learn, and Gensim, code examples and images are drawn from: https://www.oreilly.com/library/view/applied-text-analysis/9781491963036/ch04.html\n",
    "\n",
    "Imagine the 1 dimensional vector as your vocabulary. The corpus has a length equivalent to the vocabulary. \n",
    "\n",
    "So how best to represent a document as a vector? "
   ]
  },
  {
   "cell_type": "markdown",
   "metadata": {
    "slideshow": {
     "slide_type": "slide"
    }
   },
   "source": [
    "# Frequency\n",
    "![](../images/token-frequencies.png)"
   ]
  },
  {
   "cell_type": "markdown",
   "metadata": {
    "slideshow": {
     "slide_type": "notes"
    }
   },
   "source": [
    "In fact, the *simplest encoding of semantic space is vocabulary*. \n",
    "\n",
    "Thus, far we've used this insight in terms of the **bag-of-words** model. Documents that share many similar words are similar, in some sense. The BOW model represents text as a bag (or multi-set) of words after text pre-processing. From BOW, we can derive term frequencies for each word. \n",
    "\n",
    "In this representation, each document is represented as a set of tokens and the value for each word position in the vector as its count. This is using a straight count. You could also normalize each count for the length of a document."
   ]
  },
  {
   "cell_type": "code",
   "execution_count": 113,
   "metadata": {
    "slideshow": {
     "slide_type": "slide"
    }
   },
   "outputs": [],
   "source": [
    "corpus = [\n",
    "    'Microsoft On hold with support for 52 minutes now. Come on',\n",
    "    'Beyond frustrated with my Xbox360 right now and that as of June Microsoft does not support it. Gotta find someone else to fix the drive',\n",
    "    'Microsoft Heard you are a software company. Why then is most of your software so bad that it has to be replaced by 3rd party apps?'\n",
    "]\n",
    "\n",
    "corpus_alt = [\n",
    "    \"The elephant sneezed at the sight of potatoes.\",\n",
    "    \"Bats can see via echolocation. See the bat sneeze!\",\n",
    "    \"Wondering, she opened the door to the studio.\"\n",
    "]"
   ]
  },
  {
   "cell_type": "code",
   "execution_count": 1,
   "metadata": {
    "slideshow": {
     "slide_type": "slide"
    }
   },
   "outputs": [],
   "source": [
    "import nltk\n",
    "from nltk.stem import WordNetLemmatizer\n",
    "import string\n",
    "\n",
    "#def tokenize(text):\n",
    "#    stem = nltk.stem.SnowballStemmer('english')\n",
    "#    text = text.lower()\n",
    "\n",
    "#    for token in nltk.word_tokenize(text):\n",
    "#        if token in string.punctuation: continue\n",
    "#        yield stem.stem(token)\n",
    "\n",
    "\n",
    "# the 'yield' statement indicates that this is a generator function\n",
    "# https://coreyms.com/development/python-generators-how-to-use-them-and-the-benefits-you-receive\n",
    "def tokenize(text):\n",
    "    wnl = WordNetLemmatizer()\n",
    "    text = text.lower()\n",
    "    \n",
    "    for token in nltk.word_tokenize(text):\n",
    "        if token in string.punctuation: continue\n",
    "        yield wnl.lemmatize(token)"
   ]
  },
  {
   "cell_type": "code",
   "execution_count": 21,
   "metadata": {
    "slideshow": {
     "slide_type": "slide"
    }
   },
   "outputs": [
    {
     "name": "stdout",
     "output_type": "stream",
     "text": [
      "['microsoft', 'on', 'hold', 'with', 'support', 'for', '52', 'minute', 'now', 'come', 'on']\n",
      "['beyond', 'frustrated', 'with', 'my', 'xbox360', 'right', 'now', 'and', 'that', 'a', 'of', 'june', 'microsoft', 'doe', 'not', 'support', 'it', 'got', 'ta', 'find', 'someone', 'else', 'to', 'fix', 'the', 'drive']\n",
      "['microsoft', 'heard', 'you', 'are', 'a', 'software', 'company', 'why', 'then', 'is', 'most', 'of', 'your', 'software', 'so', 'bad', 'that', 'it', 'ha', 'to', 'be', 'replaced', 'by', '3rd', 'party', 'apps']\n"
     ]
    }
   ],
   "source": [
    "tokens = map(tokenize, corpus)\n",
    "for token in tokens:\n",
    "    print(list(token))"
   ]
  },
  {
   "cell_type": "code",
   "execution_count": 22,
   "metadata": {
    "slideshow": {
     "slide_type": "slide"
    }
   },
   "outputs": [],
   "source": [
    "# This is the data structure the NLTK SentimentAnalyzer used for our Naive Bayes example\n",
    "\n",
    "from collections import defaultdict\n",
    "\n",
    "def vectorize(doc):\n",
    "    # set feature as 0\n",
    "    features = defaultdict(int)\n",
    "    for token in tokenize(doc):\n",
    "        features[token] +=1\n",
    "    return features"
   ]
  },
  {
   "cell_type": "code",
   "execution_count": 23,
   "metadata": {
    "slideshow": {
     "slide_type": "slide"
    }
   },
   "outputs": [
    {
     "name": "stdout",
     "output_type": "stream",
     "text": [
      "defaultdict(<class 'int'>, {'microsoft': 1, 'on': 2, 'hold': 1, 'with': 1, 'support': 1, 'for': 1, '52': 1, 'minute': 1, 'now': 1, 'come': 1})\n",
      "defaultdict(<class 'int'>, {'beyond': 1, 'frustrated': 1, 'with': 1, 'my': 1, 'xbox360': 1, 'right': 1, 'now': 1, 'and': 1, 'that': 1, 'a': 1, 'of': 1, 'june': 1, 'microsoft': 1, 'doe': 1, 'not': 1, 'support': 1, 'it': 1, 'got': 1, 'ta': 1, 'find': 1, 'someone': 1, 'else': 1, 'to': 1, 'fix': 1, 'the': 1, 'drive': 1})\n",
      "defaultdict(<class 'int'>, {'microsoft': 1, 'heard': 1, 'you': 1, 'are': 1, 'a': 1, 'software': 2, 'company': 1, 'why': 1, 'then': 1, 'is': 1, 'most': 1, 'of': 1, 'your': 1, 'so': 1, 'bad': 1, 'that': 1, 'it': 1, 'ha': 1, 'to': 1, 'be': 1, 'replaced': 1, 'by': 1, '3rd': 1, 'party': 1, 'apps': 1})\n"
     ]
    }
   ],
   "source": [
    "# creates an iterable of vectorized documents\n",
    "# NLTK uses features in a dict object where the key is the name of the feature and the value \n",
    "# boolean or numeric.\n",
    "vectors = map(vectorize, corpus)\n",
    "\n",
    "for vector in vectors:\n",
    "    print(vector)"
   ]
  },
  {
   "cell_type": "code",
   "execution_count": 24,
   "metadata": {
    "slideshow": {
     "slide_type": "slide"
    }
   },
   "outputs": [],
   "source": [
    "# This is what we used for V2 of Naive Bayes using scikit-learn (and logistic regresion v1)\n",
    "# The fit method expects an iterable or list of strings and creates a dictionary of the vocabulary\n",
    "# of the corpus.\n",
    "\n",
    "from sklearn.feature_extraction.text import CountVectorizer\n",
    "\n",
    "vectorizer = CountVectorizer()\n",
    "vectors = vectorizer.fit_transform(corpus)"
   ]
  },
  {
   "cell_type": "code",
   "execution_count": 25,
   "metadata": {
    "slideshow": {
     "slide_type": "slide"
    }
   },
   "outputs": [
    {
     "name": "stdout",
     "output_type": "stream",
     "text": [
      "{'microsoft': 26, 'on': 33, 'hold': 22, 'with': 46, 'support': 40, 'for': 17, '52': 1, 'minutes': 27, 'now': 31, 'come': 10, 'beyond': 8, 'frustrated': 18, 'my': 29, 'xbox360': 47, 'right': 36, 'and': 2, 'that': 41, 'as': 5, 'of': 32, 'june': 25, 'does': 12, 'not': 30, 'it': 24, 'gotta': 19, 'find': 15, 'someone': 39, 'else': 14, 'to': 44, 'fix': 16, 'the': 42, 'drive': 13, 'heard': 21, 'you': 48, 'are': 4, 'software': 38, 'company': 11, 'why': 45, 'then': 43, 'is': 23, 'most': 28, 'your': 49, 'so': 37, 'bad': 6, 'has': 20, 'be': 7, 'replaced': 35, 'by': 9, '3rd': 0, 'party': 34, 'apps': 3}\n"
     ]
    }
   ],
   "source": [
    "print(vectorizer.vocabulary_)"
   ]
  },
  {
   "cell_type": "code",
   "execution_count": 26,
   "metadata": {
    "slideshow": {
     "slide_type": "slide"
    }
   },
   "outputs": [
    {
     "name": "stdout",
     "output_type": "stream",
     "text": [
      "  (0, 26)\t1\n",
      "  (0, 33)\t2\n",
      "  (0, 22)\t1\n",
      "  (0, 46)\t1\n",
      "  (0, 40)\t1\n",
      "  (0, 17)\t1\n",
      "  (0, 1)\t1\n",
      "  (0, 27)\t1\n",
      "  (0, 31)\t1\n",
      "  (0, 10)\t1\n",
      "  (0, 26)\t1\n",
      "  (0, 46)\t1\n",
      "  (0, 40)\t1\n",
      "  (0, 31)\t1\n",
      "  (0, 8)\t1\n",
      "  (0, 18)\t1\n",
      "  (0, 29)\t1\n",
      "  (0, 47)\t1\n",
      "  (0, 36)\t1\n",
      "  (0, 2)\t1\n",
      "  (0, 41)\t1\n",
      "  (0, 5)\t1\n",
      "  (0, 32)\t1\n",
      "  (0, 25)\t1\n",
      "  (0, 12)\t1\n",
      "  (0, 30)\t1\n",
      "  (0, 24)\t1\n",
      "  (0, 19)\t1\n",
      "  (0, 15)\t1\n",
      "  (0, 39)\t1\n",
      "  (0, 14)\t1\n",
      "  (0, 44)\t1\n",
      "  (0, 16)\t1\n",
      "  (0, 42)\t1\n",
      "  (0, 13)\t1\n",
      "  (0, 26)\t1\n",
      "  (0, 41)\t1\n",
      "  (0, 32)\t1\n",
      "  (0, 24)\t1\n",
      "  (0, 44)\t1\n",
      "  (0, 21)\t1\n",
      "  (0, 48)\t1\n",
      "  (0, 4)\t1\n",
      "  (0, 38)\t2\n",
      "  (0, 11)\t1\n",
      "  (0, 45)\t1\n",
      "  (0, 43)\t1\n",
      "  (0, 23)\t1\n",
      "  (0, 28)\t1\n",
      "  (0, 49)\t1\n",
      "  (0, 37)\t1\n",
      "  (0, 6)\t1\n",
      "  (0, 20)\t1\n",
      "  (0, 7)\t1\n",
      "  (0, 35)\t1\n",
      "  (0, 9)\t1\n",
      "  (0, 0)\t1\n",
      "  (0, 34)\t1\n",
      "  (0, 3)\t1\n"
     ]
    }
   ],
   "source": [
    "# This is a sparse array where the index tuple is the doc ID and token ID from the dictionary\n",
    "# and the value the count\n",
    "\n",
    "for vector in vectors:\n",
    "    print(vector)"
   ]
  },
  {
   "cell_type": "code",
   "execution_count": 27,
   "metadata": {
    "slideshow": {
     "slide_type": "slide"
    }
   },
   "outputs": [
    {
     "name": "stdout",
     "output_type": "stream",
     "text": [
      "[(0, 1), (1, 1), (2, 1), (3, 1), (4, 1), (5, 1), (6, 1), (7, 2), (8, 1), (9, 1)]\n",
      "[(4, 1), (6, 1), (8, 1), (9, 1), (10, 1), (11, 1), (12, 1), (13, 1), (14, 1), (15, 1), (16, 1), (17, 1), (18, 1), (19, 1), (20, 1), (21, 1), (22, 1), (23, 1), (24, 1), (25, 1), (26, 1), (27, 1), (28, 1), (29, 1), (30, 1), (31, 1)]\n",
      "[(4, 1), (10, 1), (20, 1), (24, 1), (28, 1), (30, 1), (32, 1), (33, 1), (34, 1), (35, 1), (36, 1), (37, 1), (38, 1), (39, 1), (40, 1), (41, 1), (42, 1), (43, 1), (44, 1), (45, 1), (46, 2), (47, 1), (48, 1), (49, 1), (50, 1)]\n"
     ]
    }
   ],
   "source": [
    "# We'll be using Gensim next week. It's frequency encoder is doc2bow.\n",
    "# It requires pre-tokenized documents\n",
    "# To use doc2bow, we need a Gensim Dictionary that maps tokens to indices\n",
    "\n",
    "import gensim\n",
    "\n",
    "tokenized_corpus = [list(tokenize(doc)) for doc in corpus]\n",
    "id2word = gensim.corpora.Dictionary(tokenized_corpus)\n",
    "\n",
    "for doc in tokenized_corpus:\n",
    "    print(id2word.doc2bow(doc))"
   ]
  },
  {
   "cell_type": "markdown",
   "metadata": {
    "slideshow": {
     "slide_type": "slide"
    }
   },
   "source": [
    "## One Hot Encoding\n",
    "\n",
    "![](../images/one-hot.png)"
   ]
  },
  {
   "cell_type": "markdown",
   "metadata": {
    "slideshow": {
     "slide_type": "notes"
    }
   },
   "source": [
    "In this representation, word representations are normalized in terms of frequency of occurence. And because values are 0-1, this is a useful representation for neural networks."
   ]
  },
  {
   "cell_type": "code",
   "execution_count": 28,
   "metadata": {
    "slideshow": {
     "slide_type": "slide"
    }
   },
   "outputs": [],
   "source": [
    "# NLTK one-hot representation\n",
    "# From our NLTK naive bayes example, recall that training_features[0] was ({'microsoft': True,'may': True},...},positive)\n",
    "# We actually used a one-hot representation.\n",
    "\n",
    "def vectorize(doc):\n",
    "    return {\n",
    "        token: True\n",
    "        for token in doc\n",
    "    }\n",
    "\n",
    "vectors = map(vectorize, corpus)"
   ]
  },
  {
   "cell_type": "code",
   "execution_count": 29,
   "metadata": {
    "slideshow": {
     "slide_type": "slide"
    }
   },
   "outputs": [
    {
     "name": "stdout",
     "output_type": "stream",
     "text": [
      "{'M': True, 'i': True, 'c': True, 'r': True, 'o': True, 's': True, 'f': True, 't': True, ' ': True, 'O': True, 'n': True, 'h': True, 'l': True, 'd': True, 'w': True, 'u': True, 'p': True, '5': True, '2': True, 'm': True, 'e': True, '.': True, 'C': True}\n",
      "{'B': True, 'e': True, 'y': True, 'o': True, 'n': True, 'd': True, ' ': True, 'f': True, 'r': True, 'u': True, 's': True, 't': True, 'a': True, 'w': True, 'i': True, 'h': True, 'm': True, 'X': True, 'b': True, 'x': True, '3': True, '6': True, '0': True, 'g': True, 'J': True, 'M': True, 'c': True, 'p': True, '.': True, 'G': True, 'l': True, 'v': True}\n",
      "{'M': True, 'i': True, 'c': True, 'r': True, 'o': True, 's': True, 'f': True, 't': True, ' ': True, 'H': True, 'e': True, 'a': True, 'd': True, 'y': True, 'u': True, 'w': True, 'm': True, 'p': True, 'n': True, '.': True, 'W': True, 'h': True, 'b': True, 'l': True, '3': True, '?': True}\n"
     ]
    }
   ],
   "source": [
    "for vector in vectors:\n",
    "    print(vector)"
   ]
  },
  {
   "cell_type": "code",
   "execution_count": 46,
   "metadata": {
    "slideshow": {
     "slide_type": "slide"
    }
   },
   "outputs": [],
   "source": [
    "# The only difference to the scikit-learn frequency based representation is 'binary=True'\n",
    "\n",
    "vectorizer = CountVectorizer(binary=True)\n",
    "vectors = vectorizer.fit_transform(corpus)"
   ]
  },
  {
   "cell_type": "code",
   "execution_count": 47,
   "metadata": {
    "slideshow": {
     "slide_type": "slide"
    }
   },
   "outputs": [
    {
     "name": "stdout",
     "output_type": "stream",
     "text": [
      "  (0, 26)\t1\n",
      "  (0, 33)\t1\n",
      "  (0, 22)\t1\n",
      "  (0, 46)\t1\n",
      "  (0, 40)\t1\n",
      "  (0, 17)\t1\n",
      "  (0, 1)\t1\n",
      "  (0, 27)\t1\n",
      "  (0, 31)\t1\n",
      "  (0, 10)\t1\n",
      "  (0, 26)\t1\n",
      "  (0, 46)\t1\n",
      "  (0, 40)\t1\n",
      "  (0, 31)\t1\n",
      "  (0, 8)\t1\n",
      "  (0, 18)\t1\n",
      "  (0, 29)\t1\n",
      "  (0, 47)\t1\n",
      "  (0, 36)\t1\n",
      "  (0, 2)\t1\n",
      "  (0, 41)\t1\n",
      "  (0, 5)\t1\n",
      "  (0, 32)\t1\n",
      "  (0, 25)\t1\n",
      "  (0, 12)\t1\n",
      "  (0, 30)\t1\n",
      "  (0, 24)\t1\n",
      "  (0, 19)\t1\n",
      "  (0, 15)\t1\n",
      "  (0, 39)\t1\n",
      "  (0, 14)\t1\n",
      "  (0, 44)\t1\n",
      "  (0, 16)\t1\n",
      "  (0, 42)\t1\n",
      "  (0, 13)\t1\n",
      "  (0, 26)\t1\n",
      "  (0, 41)\t1\n",
      "  (0, 32)\t1\n",
      "  (0, 24)\t1\n",
      "  (0, 44)\t1\n",
      "  (0, 21)\t1\n",
      "  (0, 48)\t1\n",
      "  (0, 4)\t1\n",
      "  (0, 38)\t1\n",
      "  (0, 11)\t1\n",
      "  (0, 45)\t1\n",
      "  (0, 43)\t1\n",
      "  (0, 23)\t1\n",
      "  (0, 28)\t1\n",
      "  (0, 49)\t1\n",
      "  (0, 37)\t1\n",
      "  (0, 6)\t1\n",
      "  (0, 20)\t1\n",
      "  (0, 7)\t1\n",
      "  (0, 35)\t1\n",
      "  (0, 9)\t1\n",
      "  (0, 0)\t1\n",
      "  (0, 34)\t1\n",
      "  (0, 3)\t1\n"
     ]
    }
   ],
   "source": [
    "for vector in vectors:\n",
    "    print(vector)"
   ]
  },
  {
   "cell_type": "code",
   "execution_count": 116,
   "metadata": {
    "slideshow": {
     "slide_type": "slide"
    }
   },
   "outputs": [],
   "source": [
    "# Gensim does not have a one-hot encoder.\n",
    "# doc2bow returns a list of tuples https://radimrehurek.com/gensim/corpora/dictionary.html\n",
    "# We can use the dictionary to get a one-hot encoding vector.\n",
    "# To get vectors, an inner list comprehension converts the list of tuples returned from the doc2bow method \n",
    "# into a list of (token_id, 1) tuples and the outer comprehension applies that converter to all documents \n",
    "# in the corpus. \n",
    "# Note that we don't get word similarity, but doc similarity.\n",
    "\n",
    "import numpy as np\n",
    "\n",
    "tokenized_corpus  = [list(tokenize(doc)) for doc in corpus]\n",
    "id2word = gensim.corpora.Dictionary(tokenized_corpus)\n",
    "vectors  = np.array([\n",
    "    [(token[0], 1) for token in id2word.doc2bow(doc)]\n",
    "    for doc in tokenized_corpus\n",
    "    ])"
   ]
  },
  {
   "cell_type": "code",
   "execution_count": 117,
   "metadata": {
    "slideshow": {
     "slide_type": "slide"
    }
   },
   "outputs": [
    {
     "name": "stdout",
     "output_type": "stream",
     "text": [
      "[(0, 1), (1, 1), (2, 1), (3, 1), (4, 1), (5, 1), (6, 1), (7, 1), (8, 1), (9, 1)]\n",
      "[(4, 1), (6, 1), (8, 1), (9, 1), (10, 1), (11, 1), (12, 1), (13, 1), (14, 1), (15, 1), (16, 1), (17, 1), (18, 1), (19, 1), (20, 1), (21, 1), (22, 1), (23, 1), (24, 1), (25, 1), (26, 1), (27, 1), (28, 1), (29, 1), (30, 1), (31, 1)]\n",
      "[(4, 1), (10, 1), (20, 1), (24, 1), (28, 1), (30, 1), (32, 1), (33, 1), (34, 1), (35, 1), (36, 1), (37, 1), (38, 1), (39, 1), (40, 1), (41, 1), (42, 1), (43, 1), (44, 1), (45, 1), (46, 1), (47, 1), (48, 1), (49, 1), (50, 1)]\n"
     ]
    }
   ],
   "source": [
    "for vector in vectors:\n",
    "    print(vector)"
   ]
  },
  {
   "cell_type": "markdown",
   "metadata": {
    "slideshow": {
     "slide_type": "slide"
    }
   },
   "source": [
    "## TF-IDF\n",
    "\n",
    "![](../images/tf-idf.png)"
   ]
  },
  {
   "cell_type": "markdown",
   "metadata": {
    "slideshow": {
     "slide_type": "slide"
    }
   },
   "source": [
    "**Term-Frequency Inverse Document Frequency** considers the relative frequency of terms in a document against term frequencies in other documents. \n",
    "\n",
    "*The basic idea is that documents that are similar share terms that are common between them but more rare in other documents.*\n",
    "\n",
    "TF–IDF is computed for each term, such that the relevance of a token to a document is measured by the scaled frequency of the appearance of the term in the document, normalized by the inverse of the scaled frequency of the term in the entire corpus."
   ]
  },
  {
   "cell_type": "markdown",
   "metadata": {
    "slideshow": {
     "slide_type": "notes"
    }
   },
   "source": [
    "$ tfidf( t, d, D ) = tf( t, d ) \\times idf( t, D ) $\n",
    "\n",
    "Where `t` denotes the terms; `d` denotes each document; `D` denotes the collection of documents.\n",
    "\n",
    "The first part (tf) is: \n",
    "$ tf(t,d)  $\n",
    "\n",
    "- <font color=red>the number of times each word appeared in each document</font>\n",
    "\n",
    "The second part (idf) is: \n",
    "\n",
    "$ idf( t, D ) = log \\frac{ \\text{| } D \\text{ |} }{ 1 + \\text{| } \\{ d \\in D : t \\in d \\} \\text{ |} } $\n",
    "\n",
    "\n",
    "- `D` is the document space, also equal to ${ d_{1}, d_{2}, \\dots, d_{n} }$ where n is the number of documents in the collection. \n",
    "- The denominator : $\\text{| } \\{ d \\in D : t \\in d \\} \\text{ |}$ is <font color=red>the total number of times in which term t appeared in all documents d</font> (the ${d \\in D}$ restricts the document to be in the current document space). Finally, '1' is added so as not to divide by zero."
   ]
  },
  {
   "cell_type": "code",
   "execution_count": 132,
   "metadata": {
    "slideshow": {
     "slide_type": "slide"
    }
   },
   "outputs": [],
   "source": [
    "# NLTK TextCollection does a number of nifty things such as concordancing, collocations, and tfidf.\n",
    "# The function below yields a dictionary whose keys are terms and whose values are the TF–IDF \n",
    "# score for the term in that particular document.\n",
    "\n",
    "from nltk.text import TextCollection\n",
    "\n",
    "def vectorize(corpus):\n",
    "    corpus_tokenized = [list(tokenize(doc)) for doc in corpus]\n",
    "    texts  = TextCollection(corpus_tokenized)\n",
    "    \n",
    "    for doc in corpus_tokenized:\n",
    "        return {\n",
    "            term: texts.tf_idf(term, doc)\n",
    "            for term in doc\n",
    "        }"
   ]
  },
  {
   "cell_type": "code",
   "execution_count": 133,
   "metadata": {
    "slideshow": {
     "slide_type": "slide"
    }
   },
   "outputs": [
    {
     "name": "stdout",
     "output_type": "stream",
     "text": [
      "microsoft 0.0\n",
      "on 0.19974768884874725\n",
      "hold 0.09987384442437362\n",
      "with 0.036860464373469494\n",
      "support 0.036860464373469494\n",
      "for 0.09987384442437362\n",
      "52 0.09987384442437362\n",
      "minute 0.09987384442437362\n",
      "now 0.036860464373469494\n",
      "come 0.09987384442437362\n"
     ]
    }
   ],
   "source": [
    "# Just the first doc here\n",
    "vectors = vectorize(corpus)\n",
    "for k, v in vectors.items():\n",
    "    print(k, v)"
   ]
  },
  {
   "cell_type": "code",
   "execution_count": 120,
   "metadata": {
    "slideshow": {
     "slide_type": "slide"
    }
   },
   "outputs": [
    {
     "name": "stdout",
     "output_type": "stream",
     "text": [
      "  (0, 10)\t0.3003663221930836\n",
      "  (0, 31)\t0.22843633010592582\n",
      "  (0, 27)\t0.3003663221930836\n",
      "  (0, 1)\t0.3003663221930836\n",
      "  (0, 17)\t0.3003663221930836\n",
      "  (0, 40)\t0.22843633010592582\n",
      "  (0, 46)\t0.22843633010592582\n",
      "  (0, 22)\t0.3003663221930836\n",
      "  (0, 33)\t0.6007326443861672\n",
      "  (0, 26)\t0.17740118853326658\n",
      "  (1, 13)\t0.21618085413503882\n",
      "  (1, 42)\t0.21618085413503882\n",
      "  (1, 16)\t0.21618085413503882\n",
      "  (1, 44)\t0.16441111172918924\n",
      "  (1, 14)\t0.21618085413503882\n",
      "  (1, 39)\t0.21618085413503882\n",
      "  (1, 15)\t0.21618085413503882\n",
      "  (1, 19)\t0.21618085413503882\n",
      "  (1, 24)\t0.16441111172918924\n",
      "  (1, 30)\t0.21618085413503882\n",
      "  (1, 12)\t0.21618085413503882\n",
      "  (1, 25)\t0.21618085413503882\n",
      "  (1, 32)\t0.16441111172918924\n",
      "  (1, 5)\t0.21618085413503882\n",
      "  (1, 41)\t0.16441111172918924\n",
      "  :\t:\n",
      "  (1, 26)\t0.12767989494188275\n",
      "  (2, 3)\t0.20136412968926334\n",
      "  (2, 34)\t0.20136412968926334\n",
      "  (2, 0)\t0.20136412968926334\n",
      "  (2, 9)\t0.20136412968926334\n",
      "  (2, 35)\t0.20136412968926334\n",
      "  (2, 7)\t0.20136412968926334\n",
      "  (2, 20)\t0.20136412968926334\n",
      "  (2, 6)\t0.20136412968926334\n",
      "  (2, 37)\t0.20136412968926334\n",
      "  (2, 49)\t0.20136412968926334\n",
      "  (2, 28)\t0.20136412968926334\n",
      "  (2, 23)\t0.20136412968926334\n",
      "  (2, 43)\t0.20136412968926334\n",
      "  (2, 45)\t0.20136412968926334\n",
      "  (2, 11)\t0.20136412968926334\n",
      "  (2, 38)\t0.4027282593785267\n",
      "  (2, 4)\t0.20136412968926334\n",
      "  (2, 48)\t0.20136412968926334\n",
      "  (2, 21)\t0.20136412968926334\n",
      "  (2, 44)\t0.15314261088038922\n",
      "  (2, 24)\t0.15314261088038922\n",
      "  (2, 32)\t0.15314261088038922\n",
      "  (2, 41)\t0.15314261088038922\n",
      "  (2, 26)\t0.11892889879937647\n"
     ]
    }
   ],
   "source": [
    "from sklearn.feature_extraction.text import TfidfVectorizer\n",
    "\n",
    "tfidf  = TfidfVectorizer()\n",
    "corpus_tfidf = tfidf.fit_transform(corpus)\n",
    "print(corpus_tfidf)"
   ]
  },
  {
   "cell_type": "code",
   "execution_count": 121,
   "metadata": {
    "scrolled": false,
    "slideshow": {
     "slide_type": "slide"
    }
   },
   "outputs": [
    {
     "name": "stdout",
     "output_type": "stream",
     "text": [
      "[(0, 0.3260142684050715), (1, 0.3260142684050715), (2, 0.3260142684050715), (3, 0.3260142684050715), (5, 0.3260142684050715), (6, 0.12032216637948073), (7, 0.652028536810143), (8, 0.12032216637948073), (9, 0.12032216637948073)]\n",
      "[(6, 0.08677473962806087), (8, 0.08677473962806087), (9, 0.08677473962806087), (10, 0.08677473962806087), (11, 0.23511713682631347), (12, 0.23511713682631347), (13, 0.23511713682631347), (14, 0.23511713682631347), (15, 0.23511713682631347), (16, 0.23511713682631347), (17, 0.23511713682631347), (18, 0.23511713682631347), (19, 0.23511713682631347), (20, 0.08677473962806087), (21, 0.23511713682631347), (22, 0.23511713682631347), (23, 0.23511713682631347), (24, 0.08677473962806087), (25, 0.23511713682631347), (26, 0.23511713682631347), (27, 0.23511713682631347), (28, 0.08677473962806087), (29, 0.23511713682631347), (30, 0.08677473962806087), (31, 0.23511713682631347)]\n",
      "[(10, 0.0774956491527985), (20, 0.0774956491527985), (24, 0.0774956491527985), (28, 0.0774956491527985), (30, 0.0774956491527985), (32, 0.20997533641011834), (33, 0.20997533641011834), (34, 0.20997533641011834), (35, 0.20997533641011834), (36, 0.20997533641011834), (37, 0.20997533641011834), (38, 0.20997533641011834), (39, 0.20997533641011834), (40, 0.20997533641011834), (41, 0.20997533641011834), (42, 0.20997533641011834), (43, 0.20997533641011834), (44, 0.20997533641011834), (45, 0.20997533641011834), (46, 0.4199506728202367), (47, 0.20997533641011834), (48, 0.20997533641011834), (49, 0.20997533641011834), (50, 0.20997533641011834)]\n"
     ]
    }
   ],
   "source": [
    "corpus_tokenized  = [list(tokenize(doc)) for doc in corpus]\n",
    "lexicon = gensim.corpora.Dictionary(corpus_tokenized)\n",
    "tfidf   = gensim.models.TfidfModel(dictionary=lexicon, normalize=True)\n",
    "vectors = [tfidf[lexicon.doc2bow(doc)] for doc in corpus_tokenized]\n",
    "\n",
    "for vector in vectors:\n",
    "    print(vector)"
   ]
  },
  {
   "cell_type": "markdown",
   "metadata": {
    "slideshow": {
     "slide_type": "slide"
    }
   },
   "source": [
    "# What TF-IDF does for us\n",
    "\n",
    "- Frequent terms contribute most to a document vector’s direction, but not all terms are relevant (“the”, “a”, ...).\n",
    "\n",
    "- It separates *important* terms from *frequent*, but irrelevant terms in the collection."
   ]
  },
  {
   "cell_type": "markdown",
   "metadata": {
    "slideshow": {
     "slide_type": "slide"
    }
   },
   "source": [
    "# Maxent Classifiers\n",
    "\n",
    "The goal is to train a classifier that can make a binary decision about the class of a new input observation. We use **multinomial logistic regression** when there are more than two categories.\n",
    "\n",
    "![](../images/maxent-formula.png)\n"
   ]
  },
  {
   "cell_type": "markdown",
   "metadata": {
    "slideshow": {
     "slide_type": "notes"
    }
   },
   "source": [
    "![](../images/maxent-score.png)"
   ]
  },
  {
   "cell_type": "markdown",
   "metadata": {
    "slideshow": {
     "slide_type": "notes"
    }
   },
   "source": [
    "\n",
    "\n",
    "1. For each $f_i(x)$ in a set of N features, determine if $f_i(x)$ should be 1 or 0.\n",
    "![](../images/maxent-feature.png)\n",
    "2. Multiply each $f_i(x)$ with the associated weight $w_i(d)$, which depends on the decision d being evaluated.\n",
    "3. Add up all of the weight*feature pairs: $sum_d = \\sum_{i=1}^{N} w_i(d)*f_i(x)$\n",
    "4. Exponentize (is that word?): $numerator_d = \\exp(sum_d) $\n",
    "5. Divide the sum by a number that will range the score between 0 and 1, and such that the sum of scores across all decisions is 1. \n",
    "\n",
    "It turns out that this is the sum of the numerators for every possible decision d: $denominator = \\sum_{d} \\exp(\\sum_{i=1}^{N} w_i(d)*f_i(x))$\n"
   ]
  },
  {
   "cell_type": "markdown",
   "metadata": {
    "slideshow": {
     "slide_type": "slide"
    }
   },
   "source": [
    "# 1. Feature representation (with weights w)\n",
    "\n",
    "- Define features over data points\n",
    "- A feature doesn't have to be a word but might refer to words (e.g., word ends in -ing)\n",
    "\n",
    "- Spam/notspam example:\n",
    " - w1(spam) (Email contains spelling/grammatical errors) .5\n",
    " - w2(spam)(Email asks for money to be transferred) .2\n",
    " - w3(spam) (Email mentions account holder’s name) -.5\n",
    " - w1(notspam) (Email contains spelling/grammatical errors) -.2\n",
    "  - w2(notspam)(Email asks for money to be transferred) 0\n",
    " - w3(notspam) (Email mentions account holder’s name) 1"
   ]
  },
  {
   "cell_type": "markdown",
   "metadata": {
    "slideshow": {
     "slide_type": "slide"
    }
   },
   "source": [
    "## 2. Classification function\n",
    "![](../images/sigmoid.png)"
   ]
  },
  {
   "cell_type": "markdown",
   "metadata": {
    "slideshow": {
     "slide_type": "notes"
    }
   },
   "source": [
    "The multinominal logistic classifier uses a **generalization of the sigmoid**, called the **softmax** function, to compute the probability p(y = c|x). The softmax function takes a vector z = [z1,z2,...,zk] of k arbitrary values and maps them to a probability distribution, with each value in the range (0,1), and all the values summing to 1."
   ]
  },
  {
   "cell_type": "code",
   "execution_count": 4,
   "metadata": {
    "slideshow": {
     "slide_type": "skip"
    }
   },
   "outputs": [
    {
     "data": {
      "text/html": [
       "<iframe width=\"560\" height=\"315\" src=\"https://www.youtube.com/embed/o6HrH2EMD-w\" frameborder=\"0\" allow=\"accelerometer; autoplay; encrypted-media; gyroscope; picture-in-picture\" allowfullscreen></iframe>"
      ],
      "text/plain": [
       "<IPython.core.display.HTML object>"
      ]
     },
     "execution_count": 4,
     "metadata": {},
     "output_type": "execute_result"
    }
   ],
   "source": [
    "HTML('<iframe width=\"560\" height=\"315\" src=\"https://www.youtube.com/embed/o6HrH2EMD-w\" frameborder=\"0\" allow=\"accelerometer; autoplay; encrypted-media; gyroscope; picture-in-picture\" allowfullscreen></iframe>')"
   ]
  },
  {
   "cell_type": "code",
   "execution_count": null,
   "metadata": {
    "slideshow": {
     "slide_type": "slide"
    }
   },
   "outputs": [],
   "source": [
    "# 3. Objective function for learning (cross entropy loss)\n",
    "\n",
    "- The goal is to set <font color=red>parameters</font> weights $w$ and bias $b$\n",
    "- We need a cost function to measure how close the current label is to the gold label\n",
    " - Cross-entropy loss. Small if close to correct, bigger if the model is confused\n",
    " - Log probability so we get a score 0 - 1"
   ]
  },
  {
   "cell_type": "markdown",
   "metadata": {
    "slideshow": {
     "slide_type": "slide"
    }
   },
   "source": [
    "# 4. Algorithm for optimizing the function (stochastic gradient descent)\n",
    "- Iteratively update weights to minimize loss\n",
    " - Stochastic gradient descent algorithm\n",
    " - Figures out out in which direction  the function’s slope is rising the most steeply, and moving in the opposite direction.\n",
    " - The magnitude of the amount to move is weighted by a learning rate."
   ]
  },
  {
   "cell_type": "code",
   "execution_count": 5,
   "metadata": {
    "slideshow": {
     "slide_type": "skip"
    }
   },
   "outputs": [
    {
     "data": {
      "text/html": [
       "<iframe width=\"560\" height=\"315\" src=\"https://www.youtube.com/embed/vMh0zPT0tLI\" frameborder=\"0\" allow=\"accelerometer; autoplay; encrypted-media; gyroscope; picture-in-picture\" allowfullscreen></iframe>"
      ],
      "text/plain": [
       "<IPython.core.display.HTML object>"
      ]
     },
     "execution_count": 5,
     "metadata": {},
     "output_type": "execute_result"
    }
   ],
   "source": [
    "# If your eyes bled in this part of J&M, this video is helpful\n",
    "# Also see, http://ruder.io/optimizing-gradient-descent/\n",
    "\n",
    "HTML('<iframe width=\"560\" height=\"315\" src=\"https://www.youtube.com/embed/vMh0zPT0tLI\" frameborder=\"0\" allow=\"accelerometer; autoplay; encrypted-media; gyroscope; picture-in-picture\" allowfullscreen></iframe>')"
   ]
  },
  {
   "cell_type": "markdown",
   "metadata": {
    "slideshow": {
     "slide_type": "slide"
    }
   },
   "source": [
    "# Regularization\n",
    "\n",
    "Regularization is a way of finding a good **bias-variance tradeoff** by tuning the complexity of the model. \n",
    "- collinearity (high correlation among features)\n",
    "- filter out noise from data\n",
    "- prevent overfitting\n",
    "\n",
    "The concept behind regularization is to introduce additional information (bias) to penalize extreme parameter weights.\n",
    "\n",
    "- L2 regularization (Euclidian distance)\n",
    "- L1 regularization (Manhatten distance)"
   ]
  },
  {
   "cell_type": "code",
   "execution_count": 6,
   "metadata": {
    "slideshow": {
     "slide_type": "skip"
    }
   },
   "outputs": [
    {
     "data": {
      "text/html": [
       "<iframe width=\"560\" height=\"315\" src=\"https://www.youtube.com/embed/NGf0voTMlcs\" frameborder=\"0\" allow=\"accelerometer; autoplay; encrypted-media; gyroscope; picture-in-picture\" allowfullscreen></iframe>"
      ],
      "text/plain": [
       "<IPython.core.display.HTML object>"
      ]
     },
     "execution_count": 6,
     "metadata": {},
     "output_type": "execute_result"
    }
   ],
   "source": [
    "HTML('<iframe width=\"560\" height=\"315\" src=\"https://www.youtube.com/embed/NGf0voTMlcs\" frameborder=\"0\" allow=\"accelerometer; autoplay; encrypted-media; gyroscope; picture-in-picture\" allowfullscreen></iframe>')"
   ]
  },
  {
   "cell_type": "markdown",
   "metadata": {
    "slideshow": {
     "slide_type": "slide"
    }
   },
   "source": [
    "# Maxent vs Naive Bayes\n",
    "\n",
    "- Naive Bayes\n",
    " - Tries to **generate** observed data randomly\n",
    " - Trained to maximize joint likelihood of data and classes: P(c,d)\n",
    " - Features assumed to supply **independent evidence**\n",
    " - Feature weights can be set independently\n",
    " - Trained to maximize joint likelihood of data and classes: P(c,d)\n",
    " - NB tends to overcount evidence\n",
    "- MaxEnt\n",
    " - Tries to directly estimate the posterior probability. (**discriminates** between different outputs)\n",
    " - Trained to maximize conditional likelihood of classes: P(c|d)\n",
    " - Feature weights take **feature dependence** into account\n",
    " - Feature weights must be mutually estimated\n",
    " - Trained to maximize conditional likelihood of classes: P(c|d)\n",
    " - Weights of features better model expectations"
   ]
  },
  {
   "cell_type": "markdown",
   "metadata": {
    "slideshow": {
     "slide_type": "slide"
    }
   },
   "source": [
    "# Scikit-learn\n",
    "\n",
    "- Designed for ML in a repeatable fashion\n",
    "- Allows us to combine elements of all three toolkits\n",
    "- Allows us to \"union\" pre-processors and vectorizers\n",
    "- Supports iterative tuning by adjusting parameters and hyperparameters \n",
    "\n",
    "![](../images/text-pipeline.png)"
   ]
  },
  {
   "cell_type": "markdown",
   "metadata": {
    "slideshow": {
     "slide_type": "notes"
    }
   },
   "source": [
    "Hyperparameters might include:\n",
    "- learning rate\n",
    "- regularization (L1, L2, c)\n",
    "- and more via https://scikit-learn.org/stable/modules/generated/sklearn.linear_model.LogisticRegression.html\n",
    " - For small values of C (1/Lambda), we increase the regularization strength which will create simple models which may underfit the data. For large values of C, we allow more  model complexity and may overfit the data."
   ]
  },
  {
   "cell_type": "code",
   "execution_count": null,
   "metadata": {
    "slideshow": {
     "slide_type": "slide"
    }
   },
   "outputs": [],
   "source": [
    "# Base Estimator\n",
    "from sklearn.base import BaseEstimator\n",
    "class Estimator(BaseEstimator):\n",
    "\n",
    "def fit(self, X, y=None):\n",
    "\"\"\"\n",
    "Accept input data, X, and optional target data, y. Returns self.\n",
    "\"\"\"\n",
    "return self\n",
    "def predict(self, X):\n",
    "\"\"\"\n",
    "Accept input data, X and return a vector of predictions for each row.\n",
    "\"\"\"\n",
    "return yhat"
   ]
  },
  {
   "cell_type": "code",
   "execution_count": null,
   "metadata": {
    "slideshow": {
     "slide_type": "notes"
    }
   },
   "outputs": [],
   "source": [
    "# An Estimator is an interface to a learner. It has two methods: fit and predict. \n",
    "# The training data is expected to be matrix like (Pandas or 2D numpy array).\n",
    "# Note that Estimator objects have parameters that describe the fitting process.\n",
    "\n",
    "from sklearn.naive_bayes import MultinomialNB\n",
    "model = MultinomialNB(alpha=0.0, class_prior=[0.4, 0.6])\n",
    "model.fit(documents, labels)"
   ]
  },
  {
   "cell_type": "code",
   "execution_count": null,
   "metadata": {
    "slideshow": {
     "slide_type": "slide"
    }
   },
   "outputs": [],
   "source": [
    "# TranformerMixin\n",
    "\n",
    "from sklearn.base import TransformerMixin\n",
    "class Transfomer(BaseEstimator, TransformerMixin):\n",
    "def fit(self, X, y=None):\n",
    "\"\"\"\n",
    "Learn how to transform data based on input data, X.\n",
    "\"\"\"\n",
    "return self\n",
    "def transform(self, X):\n",
    "\"\"\"\n",
    "Transform X into a new dataset, Xprime and return it.\n",
    "\"\"\"\n",
    "return Xprime"
   ]
  },
  {
   "cell_type": "markdown",
   "metadata": {
    "slideshow": {
     "slide_type": "notes"
    }
   },
   "source": [
    "A **Transformer** is a special type of Estimator that creates a new data set from an old one based on rules it has learned from fitting. It takes a dataset and returns a new dataset with new values based on transformation. Basically, it supports **feature extraction**."
   ]
  },
  {
   "cell_type": "code",
   "execution_count": null,
   "metadata": {
    "slideshow": {
     "slide_type": "slide"
    }
   },
   "outputs": [],
   "source": [
    "# Pre-processing using a Transformer\n",
    "# Example from https://bbengfort.github.io/tutorials/2016/05/19/text-classification-nltk-sckit-learn.html\n",
    "import string\n",
    "\n",
    "from nltk.corpus import stopwords as sw\n",
    "from nltk.corpus import wordnet as wn\n",
    "from nltk import wordpunct_tokenize\n",
    "from nltk import WordNetLemmatizer\n",
    "from nltk import sent_tokenize\n",
    "from nltk import pos_tag\n",
    "\n",
    "from sklearn.base import BaseEstimator, TransformerMixin\n",
    "\n",
    "\n",
    "class NLTKPreprocessor(BaseEstimator, TransformerMixin):\n",
    "\n",
    "    def __init__(self, stopwords=None, punct=None,\n",
    "                 lower=True, strip=True):\n",
    "        self.lower      = lower\n",
    "        self.strip      = strip\n",
    "        self.stopwords  = stopwords or set(sw.words('english'))\n",
    "        self.punct      = punct or set(string.punctuation)\n",
    "        self.lemmatizer = WordNetLemmatizer()\n",
    "\n",
    "    def fit(self, X, y=None):\n",
    "        return self\n",
    "\n",
    "    def inverse_transform(self, X):\n",
    "        return [\" \".join(doc) for doc in X]\n",
    "\n",
    "    def transform(self, X):\n",
    "        return [\n",
    "            list(self.tokenize(doc)) for doc in X\n",
    "        ]\n",
    "\n",
    "    def tokenize(self, document):\n",
    "        # Break the document into sentences\n",
    "        for sent in sent_tokenize(document):\n",
    "            # Break the sentence into part of speech tagged tokens\n",
    "            for token, tag in pos_tag(wordpunct_tokenize(sent)):\n",
    "                # Apply preprocessing to the token\n",
    "                token = token.lower() if self.lower else token\n",
    "                token = token.strip() if self.strip else token\n",
    "                token = token.strip('_') if self.strip else token\n",
    "                token = token.strip('*') if self.strip else token\n",
    "\n",
    "                # If stopword, ignore token and continue\n",
    "                if token in self.stopwords:\n",
    "                    continue\n",
    "\n",
    "                # If punctuation, ignore token and continue\n",
    "                if all(char in self.punct for char in token):\n",
    "                    continue\n",
    "\n",
    "                # Lemmatize the token and yield\n",
    "                lemma = self.lemmatize(token, tag)\n",
    "                yield lemma\n",
    "\n",
    "    def lemmatize(self, token, tag):\n",
    "        tag = {\n",
    "            'N': wn.NOUN,\n",
    "            'V': wn.VERB,\n",
    "            'R': wn.ADV,\n",
    "            'J': wn.ADJ\n",
    "        }.get(tag[0], wn.NOUN)\n",
    "\n",
    "        return self.lemmatizer.lemmatize(token, tag)\n"
   ]
  },
  {
   "cell_type": "markdown",
   "metadata": {
    "slideshow": {
     "slide_type": "notes"
    }
   },
   "source": [
    "If we want to use NLTK capabilities with Scikit-Learn (here, punkt tokenizer and segmenter, Brill POS tagger, and lemmatizer), but we want to use a Scikit-learn estmator, we can create a Transformer object.\n",
    "\n",
    "The transform method takes a list of documents and returns a new list of tokenized documents, where each document is transformed into list of ordered tokens.\n",
    "\n",
    "Note NLTK has a lot of overhead. There are other ways to do dimensionality reduction. We'll look at some next week. The idea here is to merge together words that are similar into the same vector space and also evaluate how much features add to the model."
   ]
  },
  {
   "cell_type": "markdown",
   "metadata": {
    "slideshow": {
     "slide_type": "slide"
    }
   },
   "source": [
    "## Pipelines\n",
    "\n",
    "Build a classifier and train it.\n",
    "\n",
    "    from sklearn.pipeline import Pipeline\n",
    "\n",
    "\n",
    "        model = Pipeline([\n",
    "            ('preprocessor', NLTKPreprocessor()),\n",
    "            ('vectorizer', TfidfVectorizer(\n",
    "                tokenizer=identity, preprocessor=None, lowercase=False\n",
    "            )),\n",
    "            ('classifier', classifier),\n",
    "        ])"
   ]
  },
  {
   "cell_type": "markdown",
   "metadata": {
    "slideshow": {
     "slide_type": "notes"
    }
   },
   "source": [
    "Pipelines chain multiple estimators in a unit. In this way, we can combine different pre-processors, vectorizers, and classifiers -- and also iteratively run evaluations."
   ]
  },
  {
   "cell_type": "code",
   "execution_count": null,
   "metadata": {
    "scrolled": true,
    "slideshow": {
     "slide_type": "notes"
    }
   },
   "outputs": [],
   "source": [
    "https://bbengfort.github.io/tutorials/2016/05/19/text-classification-nltk-sckit-learn.html\n",
    "    \n",
    "from sklearn.pipeline import Pipeline\n",
    "from sklearn.preprocessing import LabelEncoder\n",
    "from sklearn.linear_model import SGDClassifier\n",
    "from sklearn.metrics import classification_report as clsr\n",
    "from sklearn.feature_extraction.text import TfidfVectorizer\n",
    "from sklearn.cross_validation import train_test_split as tts\n",
    "\n",
    "@timeit\n",
    "def build_and_evaluate(X, y,\n",
    "    classifier=SGDClassifier, outpath=None, verbose=True):\n",
    "\n",
    "    @timeit\n",
    "    def build(classifier, X, y=None):\n",
    "        \"\"\"\n",
    "        Inner build function that builds a single model.\n",
    "        \"\"\"\n",
    "        if isinstance(classifier, type):\n",
    "            classifier = classifier()\n",
    "\n",
    "        model = Pipeline([\n",
    "            ('preprocessor', NLTKPreprocessor()),\n",
    "            ('vectorizer', TfidfVectorizer(\n",
    "                tokenizer=identity, preprocessor=None, lowercase=False\n",
    "            )),\n",
    "            ('classifier', classifier),\n",
    "        ])\n",
    "\n",
    "        model.fit(X, y)\n",
    "        return model\n",
    "\n",
    "    # Label encode the targets\n",
    "    labels = LabelEncoder()\n",
    "    y = labels.fit_transform(y)\n",
    "\n",
    "    # Begin evaluation\n",
    "    if verbose: print(\"Building for evaluation\")\n",
    "    X_train, X_test, y_train, y_test = tts(X, y, test_size=0.2)\n",
    "    model, secs = build(classifier, X_train, y_train)\n",
    "\n",
    "    if verbose:\n",
    "        print(\"Evaluation model fit in {:0.3f} seconds\".format(secs))\n",
    "        print(\"Classification Report:\\n\")\n",
    "\n",
    "    y_pred = model.predict(X_test)\n",
    "    print(clsr(y_test, y_pred, target_names=labels.classes_))\n",
    "\n",
    "    if verbose:\n",
    "        print(\"Building complete model and saving ...\")\n",
    "    model, secs = build(classifier, X, y)\n",
    "    model.labels_ = labels\n",
    "\n",
    "    if verbose:\n",
    "        print(\"Complete model fit in {:0.3f} seconds\".format(secs))\n",
    "\n",
    "    if outpath:\n",
    "        with open(outpath, 'wb') as f:\n",
    "            pickle.dump(model, f)\n",
    "\n",
    "        print(\"Model written out to {}\".format(outpath))\n",
    "\n",
    "    return model\n"
   ]
  },
  {
   "cell_type": "markdown",
   "metadata": {
    "slideshow": {
     "slide_type": "slide"
    }
   },
   "source": [
    "## Hyperparameter Optimization\n",
    "\n",
    "\n",
    "    from sklearn.model_selection import GridSearchCV\n",
    "    search = GridSearchCV(model, param_grid={\n",
    "    'count__analyzer': ['word', 'char', 'char_wb'],\n",
    "    'count__ngram_range': [(1,1), (1,2), (1,3), (1,4), (1,5), (2,3)],\n",
    "    'onehot__threshold': [0.0, 1.0, 2.0, 3.0],\n",
    "    'bayes__alpha': [0.0, 1.0],\n",
    "    })\n"
   ]
  },
  {
   "cell_type": "markdown",
   "metadata": {
    "slideshow": {
     "slide_type": "notes"
    }
   },
   "source": [
    "If we've got pipelines, we've got a means to iteratively tune and evaluate a model!\n",
    "\n",
    "GridSearch and Random Search useful for hyperparameter optimization. This is an example of a grid search to determine the best one-hot encoded Bayesian text classification model.\n",
    "\n",
    "- Analyze as words, chars, or chars between word boundaries\n",
    "- tokenize against different ngram possibilities\n",
    "- specify threshold for binarization (how many times must it appear?)\n",
    "- try different smoothing parameters"
   ]
  },
  {
   "cell_type": "markdown",
   "metadata": {
    "slideshow": {
     "slide_type": "slide"
    }
   },
   "source": [
    "# Feature Unions\n",
    "\n",
    "![](../images/feature-unions.png)"
   ]
  },
  {
   "cell_type": "markdown",
   "metadata": {
    "slideshow": {
     "slide_type": "notes"
    }
   },
   "source": [
    "From: Applied Text Analysis with Python by Benjamin Bengfort, Rebecca Bilbro & Tony Ojeda"
   ]
  },
  {
   "cell_type": "markdown",
   "metadata": {
    "slideshow": {
     "slide_type": "slide"
    }
   },
   "source": [
    "# Cross Validation\n",
    "\n",
    "- Cross validation helps you decide whether numerical results quantifying hypothesized relationships between variables are valid descriptions of your data.\n",
    "- You must do this in order to asses how well the learner generalized against unseen data.\n",
    "\n",
    "![](../images/k-fold-cross-validation.png)"
   ]
  },
  {
   "cell_type": "markdown",
   "metadata": {
    "slideshow": {
     "slide_type": "notes"
    }
   },
   "source": [
    "Cross-validation starts by shuffling the data (to prevent any unintentional ordering errors) and splitting it into k folds. \n",
    "\n",
    "Then k models are fit on the training split and evaluated on the test split. The results from each evaluation are averaged together for a final score, then the final model is fit on the entire dataset for operationalization."
   ]
  },
  {
   "cell_type": "markdown",
   "metadata": {
    "slideshow": {
     "slide_type": "slide"
    }
   },
   "source": [
    "# Semeval submission example\n",
    "- https://github.com/edilsonacjr/semeval2017"
   ]
  },
  {
   "cell_type": "markdown",
   "metadata": {
    "slideshow": {
     "slide_type": "slide"
    }
   },
   "source": [
    "# Similarity\n",
    "\n",
    "Let's take a break!"
   ]
  },
  {
   "cell_type": "markdown",
   "metadata": {
    "slideshow": {
     "slide_type": "slide"
    }
   },
   "source": [
    "# A problem for TF-IDF\n",
    "\n",
    "![](../images/tfidf-partisan.png)"
   ]
  },
  {
   "cell_type": "markdown",
   "metadata": {
    "slideshow": {
     "slide_type": "notes"
    }
   },
   "source": [
    "From [Fightin’ Words: Lexical Feature Selection and Evaluation for Identifying the Content of Political Conflict](https://www.cambridge.org/core/services/aop-cambridge-core/content/view/81B3703230D21620B81EB6E2266C7A66/S1047198700002291a.pdf/fightin_words_lexical_feature_selection_and_evaluation_for_identifying_the_content_of_political_conflict.pdf) by Monroe, Colaresi, and Quinn 2008.\n",
    "\n",
    "While TF-IDF is particularly useful in retrieval tasks, it's not great for finding differences in text where the important words are shared across texts!\n",
    "\n",
    "The example from Monroe et al above is about looking at partisan differences in speeches. Both the Democratic and Republican parties talk about abortion (Democrats on the top half of the chart and Republicans on the bottom half of the chart)."
   ]
  },
  {
   "cell_type": "markdown",
   "metadata": {
    "slideshow": {
     "slide_type": "slide"
    }
   },
   "source": [
    "# Remove stop words?\n",
    "\n",
    "- Elimnates important function words (inappropriately)\n",
    "- Elevates high-frequency non-stop words inappropriately (e.g., Senate)"
   ]
  },
  {
   "cell_type": "markdown",
   "metadata": {
    "slideshow": {
     "slide_type": "notes"
    }
   },
   "source": [
    "\"We note, however, the practice of stop word elimination has been found generally to create more problems than it solves, across natural language processing applications. Manning et al. (2008) observe: ‘‘The general trend . . . over time has been from standard use of quite large stop lists (200–300 terms) to very small stop lists (7–12 terms) to no stop list whatsoever’’ (p. 27). They give particular emphasis to the problems of searching for phrases that might disappear or change meaning without stop words (e.g., ‘‘to be or not to be’’). In our example, a stop list would eliminate a word like her, which almost definitely has political content in the context of abortion,9 and a word like their, which might (e.g., women and their doctors).\""
   ]
  },
  {
   "cell_type": "markdown",
   "metadata": {
    "slideshow": {
     "slide_type": "slide"
    }
   },
   "source": [
    "Often a solution has been to use Log-odds. \n",
    "\n",
    "\"With log-odds ratios, the sampling variation goes down with increased frequency. So, this measure will be inappropriately dominated by obscure words.\"\n",
    "\n",
    "Another fix is to try and the remove low-frequency words."
   ]
  },
  {
   "cell_type": "markdown",
   "metadata": {
    "slideshow": {
     "slide_type": "slide"
    }
   },
   "source": [
    "## Weighted Log Odds\n",
    "\n",
    "![](../images/log-odds.png)\n",
    "![](../images/partisan-words.png)"
   ]
  },
  {
   "cell_type": "markdown",
   "metadata": {
    "slideshow": {
     "slide_type": "notes"
    }
   },
   "source": [
    "The Monroe et al. method modifies log-odds in two ways:\n",
    "\n",
    "- it uses the z–scores of the log–odds–ratio, to controls for the amount of variance in a word’s frequency\n",
    "- it uses counts from a background corpus to provide a prior count for words, essentially shrinking the counts toward to the prior frequency in a large background corpus. "
   ]
  },
  {
   "cell_type": "markdown",
   "metadata": {
    "slideshow": {
     "slide_type": "slide"
    }
   },
   "source": [
    "![](../images/one-star-reviews.png)"
   ]
  },
  {
   "cell_type": "markdown",
   "metadata": {
    "slideshow": {
     "slide_type": "notes"
    }
   },
   "source": [
    "Here's another example from the article, [narrative framing of consumer sentiment in online restaurant reviews by Jurafsky, Chahuneau, Routledge, and Smith 2014](https://firstmonday.org/ojs/index.php/fm/article/view/4944/3863). \n",
    "\n",
    "They also note that it's not enough to simply record the presence and absence of a word (feature). We also want to quantify information about different features. We may want to know the extent to which a word is used differently across two bodies of text.\n",
    "\n",
    "How do reviewers express fine–grained differences in sentiment beyond just positive or negative? \n",
    "\n",
    "The initial investigation employed the “log odds ratio informative Dirichlet prior” method of Monroe, et al. (2008), to find words that are statistically overrepresented in a particular category of review compared to another (such as those with one star versus five stars, or reviewing cheap versus expensive restaurants). \n",
    "\n",
    "These features enable differences even in very frequent words to be detected. Previous methods all have issues with frequently occuring words. \n",
    "\n",
    "Because function words like pronouns and auxiliary verbs are both extremely frequent and [yet] have been shown to be important cues to social and narrative meaning, weighted log odds has utility for looking at fine-grained distinctions."
   ]
  },
  {
   "cell_type": "markdown",
   "metadata": {
    "slideshow": {
     "slide_type": "slide"
    }
   },
   "source": [
    "## Positive Pointwise Mutual Information\n",
    "\n",
    "PPMI is a common measure for the strength of association between two words.\n",
    "\n",
    "![](../images/ppmi.png)"
   ]
  },
  {
   "cell_type": "markdown",
   "metadata": {
    "slideshow": {
     "slide_type": "notes"
    }
   },
   "source": [
    "Counts of pairs of words getting the most and the least PMI scores in the first 50 millions of words in Wikipedia (dump of October 2015) filtering by 1,000 or more co-occurrences."
   ]
  },
  {
   "cell_type": "markdown",
   "metadata": {
    "slideshow": {
     "slide_type": "slide"
    }
   },
   "source": [
    "![](../images/pmi.png)"
   ]
  },
  {
   "cell_type": "markdown",
   "metadata": {
    "slideshow": {
     "slide_type": "notes"
    }
   },
   "source": [
    "J&M note that negative values are problematic... how well could we do at the task of judging that things are occuring less than we'd expect through chance (unrelatedness)? \n",
    "\n",
    "Thus, we just replace negative values with zero."
   ]
  },
  {
   "cell_type": "markdown",
   "metadata": {
    "slideshow": {
     "slide_type": "slide"
    }
   },
   "source": [
    "# What does it mean to be similar? (Words)\n",
    "\n",
    "- Elizabeth, Liz, Lisa, Isabel (nicknames, variants)\n",
    "- Els + Libby + Bela (parts)\n",
    "- she, her, woman, girl (gender)\n",
    "- Queen, Saint, character in Jane Austen novel\n",
    "- English (language/culture)\n",
    "- name (description)\n",
    "- John (other names, contrasting male name)\n",
    "- \"Who is she?\" __ (semantic frame)\n",
    "- ..."
   ]
  },
  {
   "cell_type": "markdown",
   "metadata": {
    "slideshow": {
     "slide_type": "notes"
    }
   },
   "source": [
    "When we talk about similarity, we think about how words share some element of meaning. "
   ]
  },
  {
   "cell_type": "markdown",
   "metadata": {
    "slideshow": {
     "slide_type": "slide"
    }
   },
   "source": [
    "# What does it mean to be similar (Documents)\n",
    "\n",
    "- Topics (\"aboutness\")\n",
    "- Genre\n",
    "    - novels, news, letters, reviews, play, poem, etc.\n",
    "    - horror, comedy, documentary, romance\n",
    "- Structure\n",
    "    - part-whole: headers, titles, signatures, paragraph\n",
    "    - functional: databases, texts, spreadsheets\n",
    "- Style \n",
    "    - formal/informal, subjective/objective, etc.\n",
    "- Affect\n",
    "    - Happy, sad, angry, etc.\n",
    "- ... All the things we have talked about in the context of classification"
   ]
  },
  {
   "cell_type": "markdown",
   "metadata": {
    "slideshow": {
     "slide_type": "slide"
    }
   },
   "source": [
    "# Senses\n",
    "\n",
    "![](../images/senses.png)"
   ]
  },
  {
   "cell_type": "markdown",
   "metadata": {
    "slideshow": {
     "slide_type": "notes"
    }
   },
   "source": [
    "From: J&M https://web.stanford.edu/~jurafsky/slp3/slides/vector1.pdf\n",
    "\n",
    "- What do words mean? Often there are multiple senses. A **sense** is a meaning component.\n",
    "- There are also synonyms for senses that mean about the same thing, though they many not be appropriate for use in all of the same contexts (e.g., formal versus informal speech)."
   ]
  },
  {
   "cell_type": "markdown",
   "metadata": {
    "slideshow": {
     "slide_type": "slide"
    }
   },
   "source": [
    "![](../images/simlex.png)"
   ]
  },
  {
   "cell_type": "markdown",
   "metadata": {
    "slideshow": {
     "slide_type": "notes"
    }
   },
   "source": [
    "There is no objective measure of similarity. We often use human judgements for measures of similarity."
   ]
  },
  {
   "cell_type": "markdown",
   "metadata": {
    "slideshow": {
     "slide_type": "slide"
    }
   },
   "source": [
    "# The Linguistic Principle of Contrast\n",
    "\n",
    "> Every two forms contrast in meaning"
   ]
  },
  {
   "cell_type": "markdown",
   "metadata": {
    "slideshow": {
     "slide_type": "notes"
    }
   },
   "source": [
    "[\"This principle captures the insight that when speakers choose an expression, they do so because they mean something that they would not mean by choosing some alternative expression.\"](https://www.researchgate.net/profile/Eve_Clark/publication/20955529_On_the_pragmatics_of_contrast/links/552c32a40cf29b22c9c4434e.pdf)\n",
    "\n",
    "This applies to grammatical constructions, word choice, conventional expressions -- everything.\n",
    "\n"
   ]
  },
  {
   "cell_type": "markdown",
   "metadata": {
    "slideshow": {
     "slide_type": "slide"
    }
   },
   "source": [
    "But Zellig Harris (1954): If A and B have almost identical environments we say that they are synonyms.\n",
    "\n",
    "Words are defined by their environments! (context)"
   ]
  },
  {
   "cell_type": "markdown",
   "metadata": {
    "slideshow": {
     "slide_type": "slide"
    }
   },
   "source": [
    "# How does this help?\n",
    "\n",
    "![](../images/ongchoi.png)"
   ]
  },
  {
   "cell_type": "markdown",
   "metadata": {
    "slideshow": {
     "slide_type": "slide"
    }
   },
   "source": [
    "![](../images/ongchoi2.png)"
   ]
  },
  {
   "cell_type": "markdown",
   "metadata": {
    "slideshow": {
     "slide_type": "slide"
    }
   },
   "source": [
    "![](../images/learning.png)"
   ]
  },
  {
   "cell_type": "markdown",
   "metadata": {
    "slideshow": {
     "slide_type": "notes"
    }
   },
   "source": [
    "There is a biological basis that accounts both for observations we can make around the nature of similarity, and also learning."
   ]
  },
  {
   "cell_type": "markdown",
   "metadata": {
    "slideshow": {
     "slide_type": "slide"
    }
   },
   "source": [
    "![](../images/distributional-hypothesis.png)"
   ]
  },
  {
   "cell_type": "markdown",
   "metadata": {
    "slideshow": {
     "slide_type": "slide"
    }
   },
   "source": [
    "![](../images/distributional-hypotheses.png)"
   ]
  },
  {
   "cell_type": "markdown",
   "metadata": {
    "slideshow": {
     "slide_type": "slide"
    }
   },
   "source": [
    "![](../images/distributional-vector-semantics.png)"
   ]
  },
  {
   "cell_type": "markdown",
   "metadata": {
    "slideshow": {
     "slide_type": "slide"
    }
   },
   "source": [
    "![](../images/distributional-vector-semantics2.png)"
   ]
  },
  {
   "cell_type": "markdown",
   "metadata": {
    "slideshow": {
     "slide_type": "slide"
    }
   },
   "source": [
    "![](../images/document-corpus.png)"
   ]
  },
  {
   "cell_type": "markdown",
   "metadata": {
    "slideshow": {
     "slide_type": "slide"
    }
   },
   "source": [
    "![](../images/bag-of-words.png)"
   ]
  },
  {
   "cell_type": "markdown",
   "metadata": {
    "slideshow": {
     "slide_type": "slide"
    }
   },
   "source": [
    "![](../images/term-doc-matrix.png)"
   ]
  },
  {
   "cell_type": "markdown",
   "metadata": {
    "slideshow": {
     "slide_type": "slide"
    }
   },
   "source": [
    "![](../images/words-as-vectors.png)"
   ]
  },
  {
   "cell_type": "markdown",
   "metadata": {
    "slideshow": {
     "slide_type": "slide"
    }
   },
   "source": [
    "![](../images/word-word-matrix.png)"
   ]
  },
  {
   "cell_type": "markdown",
   "metadata": {
    "slideshow": {
     "slide_type": "slide"
    }
   },
   "source": [
    "![](../images/bag-of-contexts.png)"
   ]
  },
  {
   "cell_type": "markdown",
   "metadata": {
    "slideshow": {
     "slide_type": "slide"
    }
   },
   "source": [
    "![](../images/digital-info-vectors.png)"
   ]
  },
  {
   "cell_type": "markdown",
   "metadata": {
    "slideshow": {
     "slide_type": "slide"
    }
   },
   "source": [
    "![](../images/cosine-sim.png)"
   ]
  },
  {
   "cell_type": "markdown",
   "metadata": {
    "slideshow": {
     "slide_type": "slide"
    }
   },
   "source": [
    "# Term-Term Matrix\n",
    "\n",
    "From this, we can compute word similarity utilizing methods we have already discussed:\n",
    "- TF-IDF\n",
    "- PPMI\n",
    "- Weighted Log Odds"
   ]
  },
  {
   "cell_type": "markdown",
   "metadata": {
    "slideshow": {
     "slide_type": "slide"
    }
   },
   "source": [
    "# Next Week\n",
    "\n",
    "- How does word similarity help us with document similarity?\n",
    "- Dense vectors (word2vec & related models)\n",
    "- Topic models"
   ]
  }
 ],
 "metadata": {
  "celltoolbar": "Slideshow",
  "file_extension": ".py",
  "jupytext": {
   "comment_magics": false,
   "encoding": "# -*- coding: utf-8 -*-",
   "formats": "ipynb,md"
  },
  "kernelspec": {
   "display_name": "Python 3",
   "language": "python",
   "name": "python3"
  },
  "language_info": {
   "codemirror_mode": {
    "name": "ipython",
    "version": 3
   },
   "file_extension": ".py",
   "mimetype": "text/x-python",
   "name": "python",
   "nbconvert_exporter": "python",
   "pygments_lexer": "ipython3",
   "version": "3.7.4"
  },
  "mimetype": "text/x-python",
  "name": "python",
  "npconvert_exporter": "python",
  "pygments_lexer": "ipython3",
  "toc": {
   "base_numbering": 1,
   "nav_menu": {},
   "number_sections": true,
   "sideBar": true,
   "skip_h1_title": false,
   "title_cell": "Table of Contents",
   "title_sidebar": "Contents",
   "toc_cell": false,
   "toc_position": {
    "height": "calc(100% - 180px)",
    "left": "10px",
    "top": "150px",
    "width": "202px"
   },
   "toc_section_display": true,
   "toc_window_display": false
  },
  "version": 3
 },
 "nbformat": 4,
 "nbformat_minor": 2
}
