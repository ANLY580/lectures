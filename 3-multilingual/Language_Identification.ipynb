{
 "cells": [
  {
   "cell_type": "markdown",
   "metadata": {},
   "source": [
    "## LangDetect \n",
    "Python port of Google's language ID from 2014\n",
    "https://github.com/Mimino666/langdetect"
   ]
  },
  {
   "cell_type": "code",
   "execution_count": null,
   "metadata": {
    "lines_to_next_cell": 2
   },
   "outputs": [],
   "source": [
    "import langdetect\n",
    "from langdetect import detect\n",
    "from langdetect import detect_langs\n",
    "from langdetect import lang_detect_exception\n",
    "from langdetect import DetectorFactory\n",
    "DetectorFactory.seed = 0"
   ]
  },
  {
   "cell_type": "markdown",
   "metadata": {},
   "source": [
    "langdetect does a reasonable job for single language strings"
   ]
  },
  {
   "cell_type": "code",
   "execution_count": null,
   "metadata": {},
   "outputs": [],
   "source": [
    "detect(\"J'ai une faim de loup!\")"
   ]
  },
  {
   "cell_type": "markdown",
   "metadata": {},
   "source": [
    "It makes errors, though, if the text doesn't contain enough distinctive n-grams"
   ]
  },
  {
   "cell_type": "code",
   "execution_count": null,
   "metadata": {},
   "outputs": [],
   "source": [
    "detect(\"Her heir does not want her to die.\")"
   ]
  },
  {
   "cell_type": "markdown",
   "metadata": {},
   "source": [
    "If the input is mixed language, as in this tweet, the most voluminous seems to win."
   ]
  },
  {
   "cell_type": "code",
   "execution_count": null,
   "metadata": {},
   "outputs": [],
   "source": [
    "detect(\"ようこそイルカさん🐬、、、、、、、じゃないよ 🦈😱 not a dolphin but a shark 🐬 🦈 它不是海豚而是鲨鱼 🐬🦈\")"
   ]
  },
  {
   "cell_type": "markdown",
   "metadata": {},
   "source": [
    "There is no obvious reason why Norwegian should be detetctted for this input: "
   ]
  },
  {
   "cell_type": "code",
   "execution_count": null,
   "metadata": {},
   "outputs": [],
   "source": [
    "detect(\"Denmark overrun w oysters, Chinese netizens offer solutions 组图：丹麦生蚝泛滥成灾大使馆求助 中国网友献计 https://view.inews.qq.com/w/WXN201704270\")"
   ]
  },
  {
   "cell_type": "markdown",
   "metadata": {},
   "source": [
    "but if you call detect_langs, you see that English was in the running."
   ]
  },
  {
   "cell_type": "code",
   "execution_count": null,
   "metadata": {},
   "outputs": [],
   "source": [
    "detect_langs(\"Denmark overrun w oysters, Chinese netizens offer solutions 组图：丹麦生蚝泛滥成灾大使馆求助 中国网友献计 https://view.inews.qq.com/w/WXN201704270\")"
   ]
  },
  {
   "cell_type": "markdown",
   "metadata": {},
   "source": [
    "However, in this example, English is not considereed."
   ]
  },
  {
   "cell_type": "code",
   "execution_count": null,
   "metadata": {},
   "outputs": [],
   "source": [
    "detect_langs(\"组图：丹麦生蚝泛滥成灾大使馆求助 中国网友献计 https://view.inews.qq.com/w/WXN201704270\")"
   ]
  },
  {
   "cell_type": "code",
   "execution_count": null,
   "metadata": {},
   "outputs": [],
   "source": [
    "This is because URLs are not considered to have linguistic features."
   ]
  },
  {
   "cell_type": "code",
   "execution_count": null,
   "metadata": {},
   "outputs": [],
   "source": [
    "try:\n",
    "    result = detect(\"https://view.inews.qq.com/w/WXN201704270\")\n",
    "except Exception as lidError:\n",
    "    print(lidError)\n",
    "else:\n",
    "    print(result)"
   ]
  },
  {
   "cell_type": "markdown",
   "metadata": {},
   "source": [
    "## PyCld2\n",
    "https://pypi.org/project/pycld2/\n",
    "\n",
    "1. Install icu2c\n",
    "> brew install icu4c\n",
    "\n",
    "If you have trouble, set the following in your environment.\n",
    "\n",
    "export LDFLAGS=\"-L/usr/local/opt/icu4c/lib\"\n",
    "\n",
    "export CPPFLAGS=\"-I/usr/local/opt/icu4c/include\"\n",
    "\n",
    "PYICU_INCLUDES=/usr/local/Cellar/icu4c/58.2/include\n",
    "\n",
    "export PYICU_LFLAGS=-L/usr/local/Cellar/icu4c/58.2/lib\n",
    "\n",
    "export CFLAGS=-std=c++11\n",
    "\n",
    "Also, if you've installed it before, you may need to: \n",
    "\n",
    "> brew info icu4c\n",
    "> brew switch icu4c <version> \n",
    "\n",
    "2. Install pyICU\n",
    "> pip install PyICU\n",
    "\n",
    "If you run trouble, create a new python virtual env and:\n",
    "> conda install -c conda-forge pyicu\n",
    "\n",
    "Or you can try various ideas here.\n",
    "https://markhneedham.com/blog/2017/11/28/python-polyglot-modulenotfounderror-no-module-named-icu/\n",
    "https://stackoverflow.com/questions/53828891/dyld-library-not-loaded-usr-local-opt-icu4c-lib-libicui18n-62-dylib-error-run\n",
    "\n",
    "3. install pycld2\n",
    "https://pypi.org/project/pycld2/\n",
    "\n",
    "> pip install pycld2"
   ]
  },
  {
   "cell_type": "code",
   "execution_count": null,
   "metadata": {
    "lines_to_next_cell": 2
   },
   "outputs": [],
   "source": [
    "import pycld2 as cld2\n",
    "\n",
    "detectedLangName, isReliable, details = cld2.detect(\"Qui êtes vous et qu'est-ce que vous faites ici? I would like some code switching magic.\")\n",
    "print('language={}'.format(detectedLangName))\n",
    "print('isReliable={}'.format(isReliable > 0))\n",
    "print('details={}'.format(details))"
   ]
  },
  {
   "cell_type": "code",
   "execution_count": null,
   "metadata": {},
   "outputs": [],
   "source": [
    "cld2.LANGUAGES"
   ]
  },
  {
   "cell_type": "markdown",
   "metadata": {},
   "source": [
    "## Custom with Regex\n",
    "\n",
    "You can use script blocks or stopwords to try to _approximate_ language id, this is imperfect but may work in a pinch"
   ]
  },
  {
   "cell_type": "code",
   "execution_count": null,
   "metadata": {},
   "outputs": [],
   "source": [
    "import regex"
   ]
  },
  {
   "cell_type": "code",
   "execution_count": null,
   "metadata": {},
   "outputs": [],
   "source": [
    "def has_han(self):\n",
    "    matches = regex.findall(r'\\p{Han}', self)\n",
    "    #print('{}'.format(matches))\n",
    "    return len(matches) > 0"
   ]
  },
  {
   "cell_type": "code",
   "execution_count": null,
   "metadata": {},
   "outputs": [],
   "source": [
    "has_han(\"la\")"
   ]
  },
  {
   "cell_type": "code",
   "execution_count": null,
   "metadata": {},
   "outputs": [],
   "source": [
    "has_han(\"海豚\")"
   ]
  },
  {
   "cell_type": "code",
   "execution_count": null,
   "metadata": {},
   "outputs": [],
   "source": [
    "def has_arabic(self):\n",
    "    matches = regex.findall(r'\\p{Arabic}', self)\n",
    "    #print('{}'.format(matches))\n",
    "    return len(matches) > 0"
   ]
  },
  {
   "cell_type": "code",
   "execution_count": null,
   "metadata": {},
   "outputs": [],
   "source": [
    "has_arabic(\"海豚\")"
   ]
  },
  {
   "cell_type": "code",
   "execution_count": null,
   "metadata": {},
   "outputs": [],
   "source": [
    "has_arabic(\"الدلافين\")"
   ]
  },
  {
   "cell_type": "markdown",
   "metadata": {},
   "source": [
    "## Unicode Regexes, reference for script names:\n",
    "https://www.regular-expressions.info/unicode.html#script\n",
    "\n",
    "\n",
    "REMEMBER:  SCRIPT DOES NOT EQUAL LANGUAGE, BUT FOR SOME PAIRS AND USE CASES, IT CAN HELP"
   ]
  }
 ],
 "metadata": {
  "jupytext": {
   "comment_magics": false,
   "encoding": "# -*- coding: utf-8 -*-",
   "text_representation": {
    "extension": ".py",
    "format_name": "hydrogen",
    "format_version": "1.2",
    "jupytext_version": "1.1.5"
   }
  },
  "kernelspec": {
   "display_name": "Python [conda env:root] *",
   "language": "python",
   "name": "conda-root-py"
  },
  "language_info": {
   "codemirror_mode": {
    "name": "ipython",
    "version": 3
   },
   "file_extension": ".py",
   "mimetype": "text/x-python",
   "name": "python",
   "nbconvert_exporter": "python",
   "pygments_lexer": "ipython3",
   "version": "3.7.3"
  }
 },
 "nbformat": 4,
 "nbformat_minor": 2
}
