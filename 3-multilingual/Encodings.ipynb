{
 "cells": [
  {
   "cell_type": "markdown",
   "metadata": {},
   "source": [
    "# Encoding specification and detection\n",
    "\n",
    "## Read a file in Unicode UTF-8"
   ]
  },
  {
   "cell_type": "code",
   "execution_count": null,
   "metadata": {},
   "outputs": [],
   "source": [
    "fname = \"./data/tweet_01.txt\"\n",
    "with open(fname, encoding=\"utf-8\") as fp:\n",
    "    cnt = 0\n",
    "    for line in fp:\n",
    "        cnt += 1\n",
    "        if line.strip() !='':\n",
    "            print(\"line {}: {}\".format(cnt, line))\n",
    "            "
   ]
  },
  {
   "cell_type": "markdown",
   "metadata": {},
   "source": [
    "## Read the same file in the wrong encoding\n",
    "The results are not all that pretty..."
   ]
  },
  {
   "cell_type": "code",
   "execution_count": null,
   "metadata": {
    "scrolled": true
   },
   "outputs": [],
   "source": [
    "with open(fname, encoding=\"latin-1\") as fp:\n",
    "    cnt = 0\n",
    "    for line in fp:\n",
    "        cnt += 1\n",
    "        if line.strip() !='':\n",
    "            print(\"line {}: {}\".format(cnt, line))"
   ]
  },
  {
   "cell_type": "markdown",
   "metadata": {},
   "source": [
    "## Read Chinese in latin-1 encoding\n",
    "The results are incomprehensible"
   ]
  },
  {
   "cell_type": "code",
   "execution_count": null,
   "metadata": {},
   "outputs": [],
   "source": [
    "fname = \"./data/udhr_zh.txt\"\n",
    "with open(fname, encoding=\"latin-1\") as fp:\n",
    "    cnt = 0\n",
    "    print(cnt)\n",
    "    for line in fp:\n",
    "        cnt += 1\n",
    "        if line.strip() !='':\n",
    "            print(\"line {}: {}\".format(cnt, line))"
   ]
  },
  {
   "cell_type": "markdown",
   "metadata": {},
   "source": [
    "## Read the same file in Unicode UTF-8\n",
    "The results are catastrophic!"
   ]
  },
  {
   "cell_type": "code",
   "execution_count": null,
   "metadata": {},
   "outputs": [],
   "source": [
    "fname = \"./data/udhr_zh.txt\"\n",
    "with open(fname, encoding=\"utf-8\") as fp:\n",
    "    cnt = 0\n",
    "    print(cnt)\n",
    "    for line in fp:\n",
    "        cnt += 1\n",
    "        if line.strip() !='':\n",
    "            print(\"line {}: {}\".format(cnt, line))"
   ]
  },
  {
   "cell_type": "markdown",
   "metadata": {},
   "source": [
    "## Read the same file in the proper encoding\n",
    "You get nice, readable traditional Chinese."
   ]
  },
  {
   "cell_type": "code",
   "execution_count": null,
   "metadata": {},
   "outputs": [],
   "source": [
    "fname = \"./data/udhr_zh.txt\"\n",
    "with open(fname, encoding=\"Big5\") as fp:\n",
    "    cnt = 0\n",
    "    print(cnt)\n",
    "    for line in fp:\n",
    "        cnt += 1\n",
    "        if line.strip() !='':\n",
    "            print(\"line {}: {}\".format(cnt, line))"
   ]
  },
  {
   "cell_type": "markdown",
   "metadata": {},
   "source": [
    "## If you don't know the encoding, detect it!\n",
    "\n",
    "pip install chardet"
   ]
  },
  {
   "cell_type": "code",
   "execution_count": null,
   "metadata": {},
   "outputs": [],
   "source": [
    "import chardet    \n",
    "fname = \"./data/udhr_zh.txt\"\n",
    "rawdata = open(fname, \"rb\").read()\n",
    "print(rawdata)"
   ]
  },
  {
   "cell_type": "markdown",
   "metadata": {},
   "source": [
    "### detect the encoding"
   ]
  },
  {
   "cell_type": "code",
   "execution_count": null,
   "metadata": {},
   "outputs": [],
   "source": [
    "result = chardet.detect(rawdata)\n",
    "charenc = result['encoding']\n",
    "print(charenc)"
   ]
  },
  {
   "cell_type": "markdown",
   "metadata": {},
   "source": [
    "### decode the bytes with the detected encoding"
   ]
  },
  {
   "cell_type": "code",
   "execution_count": null,
   "metadata": {},
   "outputs": [],
   "source": [
    "decoded_data = rawdata.decode(\"Big5\", \"backslashreplace\")\n",
    "print(decoded_data)"
   ]
  },
  {
   "cell_type": "markdown",
   "metadata": {},
   "source": [
    "### re-encode to a different encoding"
   ]
  },
  {
   "cell_type": "code",
   "execution_count": null,
   "metadata": {},
   "outputs": [],
   "source": [
    "utf8_bytes= decoded_data.encode('utf-8')\n",
    "print(utf8_bytes)\n"
   ]
  },
  {
   "cell_type": "code",
   "execution_count": null,
   "metadata": {},
   "outputs": [],
   "source": [
    "result = chardet.detect(utf8_bytes)\n",
    "charenc = result['encoding']\n",
    "print(charenc)"
   ]
  },
  {
   "cell_type": "markdown",
   "metadata": {},
   "source": [
    "## References\n",
    "\n",
    "Python explanation of encodings and Unicode<br>\n",
    "https://docs.python.org/3/howto/unicode.html\n",
    "\n",
    "chardet usage examples<br>\n",
    "https://chardet.readthedocs.io/en/latest/usage.html#example-using-the-detect-function\n",
    "https://pypi.org/project/chardet/"
   ]
  },
  {
   "cell_type": "code",
   "execution_count": null,
   "metadata": {},
   "outputs": [],
   "source": []
  }
 ],
 "metadata": {
  "kernelspec": {
   "display_name": "Python [conda env:root] *",
   "language": "python",
   "name": "conda-root-py"
  },
  "language_info": {
   "codemirror_mode": {
    "name": "ipython",
    "version": 3
   },
   "file_extension": ".py",
   "mimetype": "text/x-python",
   "name": "python",
   "nbconvert_exporter": "python",
   "pygments_lexer": "ipython3",
   "version": "3.7.4"
  }
 },
 "nbformat": 4,
 "nbformat_minor": 2
}
