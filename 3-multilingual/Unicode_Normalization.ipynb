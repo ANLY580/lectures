{
 "cells": [
  {
   "cell_type": "markdown",
   "metadata": {},
   "source": [
    "# 😱 WHY AREN'T MY STRINGS MATCHING??!\n"
   ]
  },
  {
   "cell_type": "markdown",
   "metadata": {},
   "source": [
    "## 🥫  pâté"
   ]
  },
  {
   "cell_type": "code",
   "execution_count": null,
   "metadata": {},
   "outputs": [],
   "source": [
    "pate1 = 'pâté'\n",
    "pate2 = 'pâté'\n",
    "print(len(pate1))\n",
    "print(len(pate2))\n",
    "print(pate1==pate2)"
   ]
  },
  {
   "cell_type": "markdown",
   "metadata": {},
   "source": [
    "## 🏠  舘 "
   ]
  },
  {
   "cell_type": "code",
   "execution_count": null,
   "metadata": {},
   "outputs": [],
   "source": [
    "guan3_1 ='舘'  #Guǎn\n",
    "guan3_2 = '舘'\n",
    "print(len(guan3_1))\n",
    "print(len(guan3_2))\n",
    "print(guan3_1==guan3_2)"
   ]
  },
  {
   "cell_type": "markdown",
   "metadata": {},
   "source": [
    "## 🕐 when?"
   ]
  },
  {
   "cell_type": "code",
   "execution_count": null,
   "metadata": {},
   "outputs": [],
   "source": [
    "when1 = 'ＷＨＥＮ'\n",
    "when2 = 'W H E N'\n",
    "when3 = 'WHEN'\n",
    "print(when1== when2)\n",
    "print(when1== when3)\n",
    "print(len(when1))\n",
    "print(len(when2))\n",
    "print(len(when3))"
   ]
  },
  {
   "cell_type": "markdown",
   "metadata": {},
   "source": [
    "#  🐍 Python 🦸UNICODEDATA to the rescue!!!\n",
    "\n",
    "https://docs.python.org/3/library/unicodedata.html"
   ]
  },
  {
   "cell_type": "code",
   "execution_count": null,
   "metadata": {},
   "outputs": [],
   "source": [
    "import unicodedata\n",
    "\n"
   ]
  },
  {
   "cell_type": "markdown",
   "metadata": {},
   "source": [
    "## 🥫  pâté"
   ]
  },
  {
   "cell_type": "code",
   "execution_count": null,
   "metadata": {},
   "outputs": [],
   "source": [
    "[ unicodedata.name(c) for c in pate1 ]"
   ]
  },
  {
   "cell_type": "code",
   "execution_count": null,
   "metadata": {},
   "outputs": [],
   "source": [
    "[ unicodedata.name(c) for c in pate2 ]"
   ]
  },
  {
   "cell_type": "code",
   "execution_count": null,
   "metadata": {},
   "outputs": [],
   "source": [
    "pate1 = unicodedata.normalize('NFD',pate1)\n",
    "pate2 = unicodedata.normalize('NFD',pate2)\n",
    "print(pate1==pate2)\n",
    "print('🍴 Success!!' )\n"
   ]
  },
  {
   "cell_type": "markdown",
   "metadata": {},
   "source": [
    "## 🏠  舘 "
   ]
  },
  {
   "cell_type": "code",
   "execution_count": null,
   "metadata": {
    "scrolled": false
   },
   "outputs": [],
   "source": [
    "luo2_1 ='螺'  #Luó\n",
    "luo2_2 = '螺'\n",
    "luo2_1 = unicodedata.normalize('NFC',luo2_1)\n",
    "luo2_2 = unicodedata.normalize('NFC',luo2_2)\n",
    "\n",
    "print(luo2_1 == luo2_2)"
   ]
  },
  {
   "cell_type": "markdown",
   "metadata": {},
   "source": [
    "## 🕐 when?"
   ]
  },
  {
   "cell_type": "code",
   "execution_count": null,
   "metadata": {},
   "outputs": [],
   "source": [
    "\n",
    "print(when1== when2)\n",
    "print(when1== when3)\n",
    "print('{}  ({})'.format(when1, len(when1)))\n",
    "print('{}  ({})'.format(when2, len(when2)))\n",
    "print('{}  ({})'.format(when3, len(when3)))\n"
   ]
  },
  {
   "cell_type": "code",
   "execution_count": null,
   "metadata": {},
   "outputs": [],
   "source": [
    "when1 = unicodedata.normalize('NFC',when1)\n",
    "when3 = unicodedata.normalize('NFC',when3)\n",
    "print(when1 == when3)\n",
    "\n",
    "when1 = unicodedata.normalize('NFD',when1)\n",
    "when3 = unicodedata.normalize('NFD',when3)\n",
    "print(when1 == when3)"
   ]
  },
  {
   "cell_type": "markdown",
   "metadata": {},
   "source": [
    "### 😕Why don't either of these normalization forms work?\n",
    "\n",
    "We need another type of normalization form for compatibility characters..."
   ]
  },
  {
   "cell_type": "code",
   "execution_count": null,
   "metadata": {},
   "outputs": [],
   "source": [
    "when1 = unicodedata.normalize('NFKC',when1)\n",
    "when3 = unicodedata.normalize('NFKC',when3)\n",
    "print(when1 == when3)\n",
    "\n",
    "when1 = unicodedata.normalize('NFKD',when1)\n",
    "when3 = unicodedata.normalize('NFKD',when3)\n",
    "print(when1 == when3)"
   ]
  },
  {
   "cell_type": "markdown",
   "metadata": {},
   "source": [
    "### ❓Why not always use a 'K' compatibility form?\n",
    "\n",
    "because the inexact equivalances are not always what you might expect..."
   ]
  },
  {
   "cell_type": "code",
   "execution_count": null,
   "metadata": {},
   "outputs": [],
   "source": [
    "half = '½'\n",
    "half_norm = unicodedata.normalize('NFKD',half)\n",
    "print('{}  (value={}) (string={})'.format(half[0],unicodedata.numeric(half[0]),half))\n",
    "print('{}  (value={}) (string={})'.format(half_norm[0],unicodedata.numeric(half_norm[0]),half_norm))\n"
   ]
  },
  {
   "cell_type": "code",
   "execution_count": null,
   "metadata": {},
   "outputs": [],
   "source": [
    "five_squared = '5²'\n",
    "five_squared_norm = unicodedata.normalize('NFKD',five_squared)\n",
    "print(five_squared)\n",
    "print(five_squared_norm)\n",
    "print('25 != 52, we have changed the meaning of the text 🤯!')\n"
   ]
  },
  {
   "cell_type": "code",
   "execution_count": null,
   "metadata": {},
   "outputs": [],
   "source": [
    "five_squared = '5²'\n",
    "five_squared_norm = unicodedata.normalize('NFD',five_squared)\n",
    "print(five_squared)\n",
    "print(five_squared_norm)\n",
    "print('25 == 25, we have not changed the meaning of the text 🙋!')"
   ]
  },
  {
   "cell_type": "markdown",
   "metadata": {},
   "source": [
    "## Comparing strings with casefolding"
   ]
  },
  {
   "cell_type": "code",
   "execution_count": null,
   "metadata": {},
   "outputs": [],
   "source": [
    "# from https://docs.python.org/3/howto/unicode.html\n",
    "\n",
    "street = 'Gürzenichstraße'\n",
    "print(street)\n",
    "print(street.casefold())"
   ]
  },
  {
   "cell_type": "code",
   "execution_count": null,
   "metadata": {},
   "outputs": [],
   "source": [
    "import unicodedata\n",
    "little_tea = unicodedata.normalize('NFD','thé')\n",
    "big_tea = unicodedata.normalize('NFD','THÉ')\n",
    "print(little_tea)\n",
    "print(big_tea)\n",
    "print('{}'.format(little_tea==big_tea))\n",
    "print('{}'.format(little_tea.casefold()==big_tea.casefold()))\n",
    "print(big_tea.casefold())"
   ]
  },
  {
   "cell_type": "markdown",
   "metadata": {},
   "source": [
    "## Some Unicode References\n",
    "\n",
    "\n",
    "Python \"how-to\" explanation of Unicode\n",
    "https://docs.python.org/3.6/howto/unicode.html\n",
    "https://docs.python.org/3/howto/unicode.html\n",
    "\n",
    "\n",
    "Python Unicode library info\n",
    "https://docs.python.org/3/library/unicodedata.html\n",
    "\n",
    "Richard Ishida has an amazing set of tools and writeups.  Uniview is my go-to tool 🛠\n",
    "https://r12a.github.io/uniview/#title\n",
    "\n",
    "\n",
    "An easy to follow explanation on Unicode\n",
    "https://www.joelonsoftware.com/2003/10/08/the-absolute-minimum-every-software-developer-absolutely-positively-must-know-about-unicode-and-character-sets-no-excuses/\n",
    "        \n",
    "\n",
    "Tutorial on Unicode Regular Expressions\n",
    "https://www.regular-expressions.info/unicode.html\n",
    "\n",
    "\n",
    "2013 Video on Unicode in Python \n",
    "https://pyvideo.org/pycon-us-2013/the-guts-of-unicode-in-python.html\n",
    "\n"
   ]
  },
  {
   "cell_type": "code",
   "execution_count": null,
   "metadata": {},
   "outputs": [],
   "source": []
  }
 ],
 "metadata": {
  "kernelspec": {
   "display_name": "Python [conda env:root] *",
   "language": "python",
   "name": "conda-root-py"
  },
  "language_info": {
   "codemirror_mode": {
    "name": "ipython",
    "version": 3
   },
   "file_extension": ".py",
   "mimetype": "text/x-python",
   "name": "python",
   "nbconvert_exporter": "python",
   "pygments_lexer": "ipython3",
   "version": "3.7.4"
  }
 },
 "nbformat": 4,
 "nbformat_minor": 2
}
