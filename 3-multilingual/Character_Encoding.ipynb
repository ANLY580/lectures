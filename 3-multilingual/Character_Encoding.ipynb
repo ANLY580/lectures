{
 "cells": [
  {
   "cell_type": "code",
   "execution_count": null,
   "metadata": {},
   "outputs": [],
   "source": [
    "fname = \"./data/tweet_01a.txt\"\n",
    "print(fname)"
   ]
  },
  {
   "cell_type": "code",
   "execution_count": null,
   "metadata": {},
   "outputs": [],
   "source": [
    "with open(fname, encoding=\"utf-8\") as fp:\n",
    "       cnt = 0\n",
    "        print(cnt)\n",
    "       for line in fp:\n",
    "           print(\"line {} contents {}\".format(cnt, line))\n",
    "           cnt += 1"
   ]
  },
  {
   "cell_type": "code",
   "execution_count": null,
   "metadata": {},
   "outputs": [],
   "source": []
  }
 ],
 "metadata": {
  "kernelspec": {
   "display_name": "Python [conda env:root] *",
   "language": "python",
   "name": "conda-root-py"
  }
 },
 "nbformat": 4,
 "nbformat_minor": 2
}
